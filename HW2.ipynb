{
 "cells": [
  {
   "cell_type": "code",
   "execution_count": 1,
   "metadata": {},
   "outputs": [],
   "source": [
    "%config IPCompleter.greedy=True\n",
    "import re\n",
    "import json\n",
    "from collections import defaultdict\n",
    "from tqdm import tqdm_notebook as tqdm\n",
    "from elasticsearch import Elasticsearch\n",
    "from elasticsearch.helpers import parallel_bulk\n",
    "from pymystem3 import Mystem\n",
    "from sklearn.feature_extraction.text import CountVectorizer\n",
    "import requests\n",
    "from time import time\n",
    "import bs4\n",
    "import base64\n",
    "from tqdm import tqdm_notebook\n",
    "import numpy as np\n",
    "import locale\n",
    "import pymystem3 as ms\n",
    "from nltk.stem import WordNetLemmatizer\n",
    "from nltk import word_tokenize, pos_tag"
   ]
  },
  {
   "cell_type": "code",
   "execution_count": 2,
   "metadata": {},
   "outputs": [],
   "source": [
    "es = Elasticsearch([{'host': 'localhost', 'port': 9200, 'timeout': 360, 'maxsize': 25}])"
   ]
  },
  {
   "cell_type": "code",
   "execution_count": 3,
   "metadata": {},
   "outputs": [],
   "source": [
    "raw_index_name=\"raw_index\""
   ]
  },
  {
   "cell_type": "code",
   "execution_count": 4,
   "metadata": {},
   "outputs": [],
   "source": [
    "def recreate_index(name, settings):\n",
    "    if es.indices.exists(index=name):\n",
    "        es.indices.delete(index=name)\n",
    "    es.indices.create(index=name, body=settings)\n",
    "    \n",
    "def check_analyzer(raw_index_name, analyzer, text):\n",
    "    body = analyzer\n",
    "    body['text'] = text\n",
    "    \n",
    "    tokens = es.indices.analyze(index=raw_index_name, body=body)['tokens']\n",
    "    tokens = [token_info['token'] for token_info in tokens]\n",
    "    return tokens    "
   ]
  },
  {
   "cell_type": "code",
   "execution_count": 22,
   "metadata": {},
   "outputs": [],
   "source": [
    "snowball_settings = {\n",
    "    'mappings': {\n",
    "        'properties': {\n",
    "            'id': {\n",
    "                'type': 'integer'\n",
    "            },\n",
    "            'url': {\n",
    "                'type': 'text'\n",
    "            },\n",
    "            'content': {\n",
    "                'type': 'text',\n",
    "                'fields': {\n",
    "                    'complex': {\n",
    "                        'type': 'text',\n",
    "                        'analyzer': 'russian_complex'\n",
    "                    }\n",
    "                }\n",
    "            }\n",
    "        }\n",
    "    },\n",
    "    'settings': {\n",
    "        'analysis': {\n",
    "            'analyzer': {\n",
    "                'russian_complex': {\n",
    "                    'char_filter': [\n",
    "                        'no_html'\n",
    "                    ],\n",
    "                    'tokenizer': 'word_longer_2',\n",
    "                    'filter': [\n",
    "                        'lowercase',\n",
    "                        'russian_snow'\n",
    "                    ]\n",
    "                },\n",
    "            },\n",
    "            'char_filter': {\n",
    "                'no_html': {\n",
    "                    'type': 'html_strip',\n",
    "                    \"escaped_tags\": []\n",
    "                }\n",
    "            },\n",
    "            'tokenizer': {\n",
    "                'word_longer_2': {\n",
    "                    'type': 'pattern',\n",
    "                    'pattern': '[a-zA-Z_0-9\\u0400-\\u04FF]{2,}',\n",
    "                    'group': 0\n",
    "                }\n",
    "            },\n",
    "            'filter': {\n",
    "                'russian_snow': {\n",
    "                    'type': 'snowball',\n",
    "                    'language': 'russian'\n",
    "                }    \n",
    "            }\n",
    "        }\n",
    "    }\n",
    "}\n",
    "\n",
    "no_snowball_settings = {\n",
    "    'mappings': {\n",
    "        'properties': {\n",
    "            'id': {\n",
    "                'type': 'integer'\n",
    "            },\n",
    "            'url': {\n",
    "                'type': 'text'\n",
    "            },\n",
    "            'content': {\n",
    "                'type': 'text',\n",
    "                'fields': {\n",
    "                    'complex': {\n",
    "                        'type': 'text',\n",
    "                        'analyzer': 'russian_complex'\n",
    "                    }\n",
    "                }\n",
    "            }\n",
    "        }\n",
    "    },\n",
    "    'settings': {\n",
    "        'analysis': {\n",
    "            'analyzer': {\n",
    "                'russian_complex': {\n",
    "                    'char_filter': [\n",
    "                        'no_html'\n",
    "                    ],\n",
    "                    'tokenizer': 'word_longer_2',\n",
    "                    'filter': [\n",
    "                        'lowercase'\n",
    "                    ]\n",
    "                },\n",
    "            },\n",
    "            'char_filter': {\n",
    "                'no_html': {\n",
    "                    'type': 'html_strip',\n",
    "                    \"escaped_tags\": []\n",
    "                }\n",
    "            },\n",
    "            'tokenizer': {\n",
    "                'word_longer_2': {\n",
    "                    'type': 'pattern',\n",
    "                    'pattern': '[a-zA-Z_0-9\\u0400-\\u04FF]{2,}',\n",
    "                    'group': 0\n",
    "                }\n",
    "            }\n",
    "        }\n",
    "    }\n",
    "}"
   ]
  },
  {
   "cell_type": "code",
   "execution_count": 56,
   "metadata": {
    "scrolled": true
   },
   "outputs": [],
   "source": [
    "raw_snowball = 'raw_snowball'\n",
    "pre_no_snowball = 'pre_no_snowball'\n",
    "pre_snowball = 'pre_snowball'\n",
    "lemma_no_snowball = 'lemma_no_snowball'\n",
    "lemma_snowball = 'lemma_snowball'\n",
    "pre_snowball_no_title = 'pre_snowball_no_title'\n",
    "\n",
    "def recreate_all():\n",
    "    recreate_index(raw_snowball, snowball_settings)\n",
    "    recreate_index(pre_no_snowball, no_snowball_settings)\n",
    "    recreate_index(pre_snowball, snowball_settings)\n",
    "    recreate_index(lemma_no_snowball, no_snowball_settings)\n",
    "    recreate_index(lemma_snowball, snowball_settings)\n",
    "    recreate_index(pre_snowball_no_title, snowball_settings)"
   ]
  },
  {
   "cell_type": "code",
   "execution_count": 24,
   "metadata": {},
   "outputs": [],
   "source": [
    "def create_es_action(index, doc_id, document):\n",
    "    return {\n",
    "        '_index': index,\n",
    "        '_id': doc_id,\n",
    "        '_source': document\n",
    "    }"
   ]
  },
  {
   "cell_type": "code",
   "execution_count": 54,
   "metadata": {},
   "outputs": [],
   "source": [
    "def raw_generator(index_name):\n",
    "    index = 0\n",
    "    doc = {}\n",
    "    for doc_id in range(10):\n",
    "        with open(f'../byweb_for_course/byweb.{doc_id}.xml', 'r') as inf:\n",
    "            inf.readline()\n",
    "            for i in tqdm(range(20000)):\n",
    "                index = index + 1\n",
    "                a = inf.readline()\n",
    "                b = inf.readline()\n",
    "                c = inf.readline()\n",
    "                doc['content'] = base64.b64decode(re.split('<.*?>', a)[2]).decode(\"cp1251\")\n",
    "                doc['url'] = base64.b64decode(re.split('<.*?>', b)[1]).decode(\"cp1251\")\n",
    "                doc['id'] = re.split('<.*?>', c)[1]\n",
    "                yield create_es_action(index_name, index, doc)\n",
    "                \n",
    "def preprocessing_generator(index_name):\n",
    "    index = 0\n",
    "    doc = {}\n",
    "    with open('docs.out', 'r') as inf:\n",
    "        for i in tqdm(range(200000)):\n",
    "            index = index + 1\n",
    "            s = inf.readline().split('\\t')\n",
    "            doc['content'] = s[2]\n",
    "            doc['url'] = s[1]\n",
    "            doc['id'] = s[0]\n",
    "            yield create_es_action(index_name, index, doc)\n",
    "            \n",
    "def lemmas_generator(index_name):\n",
    "    index = 0\n",
    "    doc = {}\n",
    "    with open('lemmas.out', 'r') as inf:\n",
    "        for i in tqdm(range(200000)):\n",
    "            index = index + 1\n",
    "            s = inf.readline().split('\\t')\n",
    "            doc['content'] = s[2]\n",
    "            doc['url'] = s[1]\n",
    "            doc['id'] = s[0]\n",
    "            yield create_es_action(index_name, index, doc)\n",
    "            \n",
    "def pre_no_title_generator(index_name):\n",
    "    index = 0\n",
    "    doc = {}\n",
    "    with open('docs_with_title.out', 'r') as inf:\n",
    "        for i in tqdm(range(200000)):\n",
    "            index = index + 1\n",
    "            s = inf.readline().split('\\t')\n",
    "            #print(s)\n",
    "            doc['content'] = s[3] if len(s) == 4 else ''\n",
    "#             doc['title'] = s[2]\n",
    "            if len(s) < 4:\n",
    "                continue\n",
    "            if (re.)\n",
    "            doc['url'] = s[1]\n",
    "            doc['id'] = s[0]\n",
    "            yield create_es_action(index_name, index, doc)"
   ]
  },
  {
   "cell_type": "code",
   "execution_count": 41,
   "metadata": {},
   "outputs": [],
   "source": [
    "def run_generator(index_name, es_actions_generator):\n",
    "    for ok, result in parallel_bulk(es, es_actions_generator(index_name), queue_size=4, thread_count=4, chunk_size=1000):\n",
    "        if not ok:\n",
    "            print('lol')"
   ]
  },
  {
   "cell_type": "code",
   "execution_count": 42,
   "metadata": {},
   "outputs": [],
   "source": [
    "def search(index, query, *args):\n",
    "    pretty_print_result(es.search(index=index, body=query, size=20), args)\n",
    "    # note that size set to 20 just because default value is 10 and we know that we have 12 docs and 10 < 12 < 20\n",
    "                        \n",
    "def pretty_print_result(search_result, fields=[]):\n",
    "    # fields is a list of fields names which we want to be printed\n",
    "    res = search_result['hits']\n",
    "    print(f'Total documents: {res[\"total\"][\"value\"]}')\n",
    "    for hit in res['hits']:\n",
    "        print(f'Doc {hit[\"_id\"]}, score is {hit[\"_score\"]}')\n",
    "        for field in fields:\n",
    "            print(f'{field}: {hit[\"_source\"][field]}')\n",
    "                  \n",
    "def get_doc_by_id(index, doc_id):\n",
    "    return es.get(index=index, id=doc_id)['_source']"
   ]
  },
  {
   "cell_type": "code",
   "execution_count": 43,
   "metadata": {},
   "outputs": [],
   "source": [
    "inf = open('../web2008_adhoc.xml', 'r', encoding='cp1251')\n",
    "for i in range(9):\n",
    "    inf.readline()\n",
    "    \n",
    "queries = dict()\n",
    "for s in inf.readlines()[:-1]:\n",
    "    query_text = re.split('<.*?>', s)[2]\n",
    "    query_id = s[10:18]\n",
    "    queries[query_id] = query_text"
   ]
  },
  {
   "cell_type": "code",
   "execution_count": 44,
   "metadata": {},
   "outputs": [],
   "source": [
    "def search_docid(index, query_id, lemmatize_que):\n",
    "    text = lemmatize(queries[query_id]) if lemmatize_que else queries[query_id]\n",
    "    query = {\n",
    "        'query': {\n",
    "            'bool': {\n",
    "                'must': {\n",
    "                    'match': {\n",
    "                        'content': text\n",
    "                    }\n",
    "                }\n",
    "            }\n",
    "        }\n",
    "    }\n",
    "    res = es.search(index=index, body=query, size=300)\n",
    "    hits = res['hits']['hits']\n",
    "    return [doc['_source']['id'] for doc in hits]\n",
    "    \n",
    "def precision(k, ids, rels):\n",
    "    ids = ids[:k]\n",
    "    if len(ids) == 0:\n",
    "        return 0\n",
    "    top = 0\n",
    "    good = 0\n",
    "    for i in ids:\n",
    "        if i in rels:\n",
    "            top += 1\n",
    "            good += rels[i]\n",
    "    if top == 0:\n",
    "        return 0\n",
    "    return good / top\n",
    "\n",
    "def recall(k, ids, rels):\n",
    "    ids = ids[:k]\n",
    "    if len(ids) == 0:\n",
    "        return 0\n",
    "    good = 0\n",
    "    num_good = np.sum(list(rels.values()))\n",
    "    relev = min(num_good, k)\n",
    "    for i in ids:\n",
    "        if i in rels:\n",
    "            good += rels[i]\n",
    "    if relev == 0:\n",
    "        return 0\n",
    "    return good / relev\n",
    "\n",
    "def mean_ap(k, ids, rels):\n",
    "    ids = ids[:k]\n",
    "    ps = []\n",
    "    for i in ids:\n",
    "        if i in rels:\n",
    "            ps.append(rels[i])\n",
    "    if np.sum(ps) == 0:\n",
    "        return 0\n",
    "    sums = np.cumsum(ps) / (np.array(range(len(ps))) + 1)\n",
    "    return np.sum(sums * ps) / np.sum(ps)\n",
    "    \n",
    "def rprecision(ids, rels):\n",
    "    num_good = np.sum(list(rels.values()))\n",
    "    return precision(num_good, ids, rels)"
   ]
  },
  {
   "cell_type": "code",
   "execution_count": 47,
   "metadata": {},
   "outputs": [],
   "source": [
    "mystem = ms.Mystem()\n",
    "wnl = WordNetLemmatizer()\n",
    "\n",
    "def lemmatize(a):\n",
    "    lm = ''.join(mystem.lemmatize(a))\n",
    "    lm = ' '.join([(wnl.lemmatize(i,j[0].lower()) if j[0].lower() in ['a','n','v'] else wnl.lemmatize(i)) for i,j in pos_tag(list(map(lambda x: x.lower(), word_tokenize(lm))))])\n",
    "    return lm\n",
    "\n",
    "def calc_stats(index_name, lemmatize_que=False):\n",
    "    inf = open('../relevant_table_2009.xml')\n",
    "    s = '\\n'.join(inf.readlines())\n",
    "    soup = bs4.BeautifulSoup(s, 'lxml')\n",
    "    \n",
    "    p20 = []\n",
    "    r20 = []\n",
    "    m_ap = []\n",
    "    rp = []\n",
    "    for task in soup.html.body.taskdocumentmatrix.children:\n",
    "        if not isinstance(task, bs4.element.Tag):\n",
    "            continue\n",
    "        query_id = task['id']\n",
    "        ids = search_docid(index_name, query_id, lemmatize_que)\n",
    "        rels = dict()\n",
    "        for doc in task.children:\n",
    "            if not isinstance(doc, bs4.element.Tag):\n",
    "                continue\n",
    "            doc_id = doc['id']\n",
    "            #if doc_id in indexed:\n",
    "            rel = 1 if (doc['relevance'] == 'vital') else 0\n",
    "            rels[doc_id] = rel\n",
    "        rel_ids = [-1 if i not in rels else rels[i] for i in ids]\n",
    "        p20.append(precision(20, ids, rels))\n",
    "        r20.append(recall(20, ids, rels))\n",
    "        m_ap.append(mean_ap(20, ids, rels))\n",
    "        rp.append(rprecision(ids, rels))\n",
    "    \n",
    "    print(f'index_name = {index_name}')\n",
    "    print(f'p@20 = {np.average(p20)}')\n",
    "    print(f'r@20 = {np.average(r20)}')\n",
    "    print(f'map = {np.average(m_ap)}')\n",
    "    print(f'r-precision = {np.average(rp)}')\n",
    "    \n",
    "    size = es.indices.stats(index_name)['_all']['primaries']['store']['size_in_bytes']\n",
    "    print(f'size = {size}')\n",
    "    \n",
    "    start = time()\n",
    "    it = 0\n",
    "    qids = list(queries.keys())[:200]\n",
    "    for que in qids:\n",
    "        it += 1\n",
    "        search_docid(index_name, que, lemmatize_que)\n",
    "    finish = time()\n",
    "    print(f'query time: {(finish - start) / 200}')\n",
    "    "
   ]
  },
  {
   "cell_type": "code",
   "execution_count": 48,
   "metadata": {},
   "outputs": [
    {
     "data": {
      "application/vnd.jupyter.widget-view+json": {
       "model_id": "291203538ba240e989630bead8e3e501",
       "version_major": 2,
       "version_minor": 0
      },
      "text/html": [
       "<p>Failed to display Jupyter Widget of type <code>HBox</code>.</p>\n",
       "<p>\n",
       "  If you're reading this message in the Jupyter Notebook or JupyterLab Notebook, it may mean\n",
       "  that the widgets JavaScript is still loading. If this message persists, it\n",
       "  likely means that the widgets JavaScript library is either not installed or\n",
       "  not enabled. See the <a href=\"https://ipywidgets.readthedocs.io/en/stable/user_install.html\">Jupyter\n",
       "  Widgets Documentation</a> for setup instructions.\n",
       "</p>\n",
       "<p>\n",
       "  If you're reading this message in another frontend (for example, a static\n",
       "  rendering on GitHub or <a href=\"https://nbviewer.jupyter.org/\">NBViewer</a>),\n",
       "  it may mean that your frontend doesn't currently support widgets.\n",
       "</p>\n"
      ],
      "text/plain": [
       "HBox(children=(IntProgress(value=1, bar_style='info', max=1), HTML(value='')))"
      ]
     },
     "metadata": {},
     "output_type": "display_data"
    },
    {
     "data": {
      "application/vnd.jupyter.widget-view+json": {
       "model_id": "75a84fa347a141449d70bb069f792f52",
       "version_major": 2,
       "version_minor": 0
      },
      "text/html": [
       "<p>Failed to display Jupyter Widget of type <code>HBox</code>.</p>\n",
       "<p>\n",
       "  If you're reading this message in the Jupyter Notebook or JupyterLab Notebook, it may mean\n",
       "  that the widgets JavaScript is still loading. If this message persists, it\n",
       "  likely means that the widgets JavaScript library is either not installed or\n",
       "  not enabled. See the <a href=\"https://ipywidgets.readthedocs.io/en/stable/user_install.html\">Jupyter\n",
       "  Widgets Documentation</a> for setup instructions.\n",
       "</p>\n",
       "<p>\n",
       "  If you're reading this message in another frontend (for example, a static\n",
       "  rendering on GitHub or <a href=\"https://nbviewer.jupyter.org/\">NBViewer</a>),\n",
       "  it may mean that your frontend doesn't currently support widgets.\n",
       "</p>\n"
      ],
      "text/plain": [
       "HBox(children=(IntProgress(value=0, max=200000), HTML(value='')))"
      ]
     },
     "metadata": {},
     "output_type": "display_data"
    },
    {
     "name": "stdout",
     "output_type": "stream",
     "text": [
      "\n",
      "building time = 100.67275142669678\n",
      "index_name = pre_no_snowball\n",
      "p@20 = 0.35237072040930406\n",
      "r@20 = 0.2833510481656717\n",
      "map = 0.4627761664323081\n",
      "r-precision = 0.3527084160679051\n",
      "size = 1128511258\n",
      "query time: 0.028860896825790405\n"
     ]
    }
   ],
   "source": [
    "recreate_all()\n",
    "start = time()\n",
    "run_generator(pre_no_snowball, preprocessing_generator)\n",
    "end = time()\n",
    "print(f'building time = {end - start}')\n",
    "calc_stats(pre_no_snowball)"
   ]
  },
  {
   "cell_type": "code",
   "execution_count": 49,
   "metadata": {},
   "outputs": [
    {
     "data": {
      "application/vnd.jupyter.widget-view+json": {
       "model_id": "2f24c72c735e400b90b8db3fd5ae152e",
       "version_major": 2,
       "version_minor": 0
      },
      "text/html": [
       "<p>Failed to display Jupyter Widget of type <code>HBox</code>.</p>\n",
       "<p>\n",
       "  If you're reading this message in the Jupyter Notebook or JupyterLab Notebook, it may mean\n",
       "  that the widgets JavaScript is still loading. If this message persists, it\n",
       "  likely means that the widgets JavaScript library is either not installed or\n",
       "  not enabled. See the <a href=\"https://ipywidgets.readthedocs.io/en/stable/user_install.html\">Jupyter\n",
       "  Widgets Documentation</a> for setup instructions.\n",
       "</p>\n",
       "<p>\n",
       "  If you're reading this message in another frontend (for example, a static\n",
       "  rendering on GitHub or <a href=\"https://nbviewer.jupyter.org/\">NBViewer</a>),\n",
       "  it may mean that your frontend doesn't currently support widgets.\n",
       "</p>\n"
      ],
      "text/plain": [
       "HBox(children=(IntProgress(value=1, bar_style='info', max=1), HTML(value='')))"
      ]
     },
     "metadata": {},
     "output_type": "display_data"
    },
    {
     "data": {
      "application/vnd.jupyter.widget-view+json": {
       "model_id": "5681a28839b7418fb1db469f64f00f89",
       "version_major": 2,
       "version_minor": 0
      },
      "text/html": [
       "<p>Failed to display Jupyter Widget of type <code>HBox</code>.</p>\n",
       "<p>\n",
       "  If you're reading this message in the Jupyter Notebook or JupyterLab Notebook, it may mean\n",
       "  that the widgets JavaScript is still loading. If this message persists, it\n",
       "  likely means that the widgets JavaScript library is either not installed or\n",
       "  not enabled. See the <a href=\"https://ipywidgets.readthedocs.io/en/stable/user_install.html\">Jupyter\n",
       "  Widgets Documentation</a> for setup instructions.\n",
       "</p>\n",
       "<p>\n",
       "  If you're reading this message in another frontend (for example, a static\n",
       "  rendering on GitHub or <a href=\"https://nbviewer.jupyter.org/\">NBViewer</a>),\n",
       "  it may mean that your frontend doesn't currently support widgets.\n",
       "</p>\n"
      ],
      "text/plain": [
       "HBox(children=(IntProgress(value=0, max=200000), HTML(value='')))"
      ]
     },
     "metadata": {},
     "output_type": "display_data"
    },
    {
     "name": "stdout",
     "output_type": "stream",
     "text": [
      "\n",
      "building time = 109.89165210723877\n",
      "index_name = pre_snowball\n",
      "p@20 = 0.3522563793508321\n",
      "r@20 = 0.28307682513093674\n",
      "map = 0.46173336236599105\n",
      "r-precision = 0.3528112275232564\n",
      "size = 978042155\n",
      "query time: 0.026799614429473876\n"
     ]
    }
   ],
   "source": [
    "recreate_all()\n",
    "start = time()\n",
    "run_generator(pre_snowball, preprocessing_generator)\n",
    "end = time()\n",
    "print(f'building time = {end - start}')\n",
    "calc_stats(pre_snowball)"
   ]
  },
  {
   "cell_type": "code",
   "execution_count": 50,
   "metadata": {
    "scrolled": true
   },
   "outputs": [
    {
     "data": {
      "application/vnd.jupyter.widget-view+json": {
       "model_id": "1a0601aaae7046128ab556260e7962c5",
       "version_major": 2,
       "version_minor": 0
      },
      "text/html": [
       "<p>Failed to display Jupyter Widget of type <code>HBox</code>.</p>\n",
       "<p>\n",
       "  If you're reading this message in the Jupyter Notebook or JupyterLab Notebook, it may mean\n",
       "  that the widgets JavaScript is still loading. If this message persists, it\n",
       "  likely means that the widgets JavaScript library is either not installed or\n",
       "  not enabled. See the <a href=\"https://ipywidgets.readthedocs.io/en/stable/user_install.html\">Jupyter\n",
       "  Widgets Documentation</a> for setup instructions.\n",
       "</p>\n",
       "<p>\n",
       "  If you're reading this message in another frontend (for example, a static\n",
       "  rendering on GitHub or <a href=\"https://nbviewer.jupyter.org/\">NBViewer</a>),\n",
       "  it may mean that your frontend doesn't currently support widgets.\n",
       "</p>\n"
      ],
      "text/plain": [
       "HBox(children=(IntProgress(value=1, bar_style='info', max=1), HTML(value='')))"
      ]
     },
     "metadata": {},
     "output_type": "display_data"
    },
    {
     "data": {
      "application/vnd.jupyter.widget-view+json": {
       "model_id": "9a44f8f90c2f486faa8ad830f0377400",
       "version_major": 2,
       "version_minor": 0
      },
      "text/html": [
       "<p>Failed to display Jupyter Widget of type <code>HBox</code>.</p>\n",
       "<p>\n",
       "  If you're reading this message in the Jupyter Notebook or JupyterLab Notebook, it may mean\n",
       "  that the widgets JavaScript is still loading. If this message persists, it\n",
       "  likely means that the widgets JavaScript library is either not installed or\n",
       "  not enabled. See the <a href=\"https://ipywidgets.readthedocs.io/en/stable/user_install.html\">Jupyter\n",
       "  Widgets Documentation</a> for setup instructions.\n",
       "</p>\n",
       "<p>\n",
       "  If you're reading this message in another frontend (for example, a static\n",
       "  rendering on GitHub or <a href=\"https://nbviewer.jupyter.org/\">NBViewer</a>),\n",
       "  it may mean that your frontend doesn't currently support widgets.\n",
       "</p>\n"
      ],
      "text/plain": [
       "HBox(children=(IntProgress(value=0, max=200000), HTML(value='')))"
      ]
     },
     "metadata": {},
     "output_type": "display_data"
    },
    {
     "name": "stdout",
     "output_type": "stream",
     "text": [
      "\n",
      "building time = 95.68480944633484\n",
      "index_name = lemma_no_snowball\n",
      "p@20 = 0.3788792951517014\n",
      "r@20 = 0.3392363244319595\n",
      "map = 0.477796484970759\n",
      "r-precision = 0.37875247949602625\n",
      "size = 965930174\n",
      "query time: 0.02922394871711731\n"
     ]
    }
   ],
   "source": [
    "recreate_all()\n",
    "start = time()\n",
    "run_generator(lemma_no_snowball, lemmas_generator)\n",
    "end = time()\n",
    "print(f'building time = {end - start}')\n",
    "calc_stats(lemma_no_snowball, True)"
   ]
  },
  {
   "cell_type": "code",
   "execution_count": 57,
   "metadata": {},
   "outputs": [
    {
     "data": {
      "application/vnd.jupyter.widget-view+json": {
       "model_id": "547556afdb524a34ab6715aa2eebd694",
       "version_major": 2,
       "version_minor": 0
      },
      "text/html": [
       "<p>Failed to display Jupyter Widget of type <code>HBox</code>.</p>\n",
       "<p>\n",
       "  If you're reading this message in the Jupyter Notebook or JupyterLab Notebook, it may mean\n",
       "  that the widgets JavaScript is still loading. If this message persists, it\n",
       "  likely means that the widgets JavaScript library is either not installed or\n",
       "  not enabled. See the <a href=\"https://ipywidgets.readthedocs.io/en/stable/user_install.html\">Jupyter\n",
       "  Widgets Documentation</a> for setup instructions.\n",
       "</p>\n",
       "<p>\n",
       "  If you're reading this message in another frontend (for example, a static\n",
       "  rendering on GitHub or <a href=\"https://nbviewer.jupyter.org/\">NBViewer</a>),\n",
       "  it may mean that your frontend doesn't currently support widgets.\n",
       "</p>\n"
      ],
      "text/plain": [
       "HBox(children=(IntProgress(value=1, bar_style='info', max=1), HTML(value='')))"
      ]
     },
     "metadata": {},
     "output_type": "display_data"
    },
    {
     "data": {
      "application/vnd.jupyter.widget-view+json": {
       "model_id": "f0850859e5c7426b8c908b1ca975e004",
       "version_major": 2,
       "version_minor": 0
      },
      "text/html": [
       "<p>Failed to display Jupyter Widget of type <code>HBox</code>.</p>\n",
       "<p>\n",
       "  If you're reading this message in the Jupyter Notebook or JupyterLab Notebook, it may mean\n",
       "  that the widgets JavaScript is still loading. If this message persists, it\n",
       "  likely means that the widgets JavaScript library is either not installed or\n",
       "  not enabled. See the <a href=\"https://ipywidgets.readthedocs.io/en/stable/user_install.html\">Jupyter\n",
       "  Widgets Documentation</a> for setup instructions.\n",
       "</p>\n",
       "<p>\n",
       "  If you're reading this message in another frontend (for example, a static\n",
       "  rendering on GitHub or <a href=\"https://nbviewer.jupyter.org/\">NBViewer</a>),\n",
       "  it may mean that your frontend doesn't currently support widgets.\n",
       "</p>\n"
      ],
      "text/plain": [
       "HBox(children=(IntProgress(value=0, max=200000), HTML(value='')))"
      ]
     },
     "metadata": {},
     "output_type": "display_data"
    },
    {
     "name": "stdout",
     "output_type": "stream",
     "text": [
      "\n",
      "building time = 109.85910081863403\n",
      "index_name = lemma_snowball\n",
      "p@20 = 0.378824185845102\n",
      "r@20 = 0.33932773211020445\n",
      "map = 0.4780791502809738\n",
      "r-precision = 0.37890777231465017\n",
      "size = 943821659\n",
      "query time: 0.03044740319252014\n"
     ]
    }
   ],
   "source": [
    "recreate_all()\n",
    "start = time()\n",
    "run_generator(lemma_snowball, lemmas_generator)\n",
    "end = time()\n",
    "print(f'building time = {end - start}')\n",
    "calc_stats(lemma_snowball, True)"
   ]
  },
  {
   "cell_type": "code",
   "execution_count": 55,
   "metadata": {
    "scrolled": true
   },
   "outputs": [
    {
     "data": {
      "application/vnd.jupyter.widget-view+json": {
       "model_id": "14e948a4c8984ee2846c7393ee61ad27",
       "version_major": 2,
       "version_minor": 0
      },
      "text/html": [
       "<p>Failed to display Jupyter Widget of type <code>HBox</code>.</p>\n",
       "<p>\n",
       "  If you're reading this message in the Jupyter Notebook or JupyterLab Notebook, it may mean\n",
       "  that the widgets JavaScript is still loading. If this message persists, it\n",
       "  likely means that the widgets JavaScript library is either not installed or\n",
       "  not enabled. See the <a href=\"https://ipywidgets.readthedocs.io/en/stable/user_install.html\">Jupyter\n",
       "  Widgets Documentation</a> for setup instructions.\n",
       "</p>\n",
       "<p>\n",
       "  If you're reading this message in another frontend (for example, a static\n",
       "  rendering on GitHub or <a href=\"https://nbviewer.jupyter.org/\">NBViewer</a>),\n",
       "  it may mean that your frontend doesn't currently support widgets.\n",
       "</p>\n"
      ],
      "text/plain": [
       "HBox(children=(IntProgress(value=1, bar_style='info', max=1), HTML(value='')))"
      ]
     },
     "metadata": {},
     "output_type": "display_data"
    },
    {
     "data": {
      "application/vnd.jupyter.widget-view+json": {
       "model_id": "12339c4da2914a68a2cc401bcc0e3aa8",
       "version_major": 2,
       "version_minor": 0
      },
      "text/html": [
       "<p>Failed to display Jupyter Widget of type <code>HBox</code>.</p>\n",
       "<p>\n",
       "  If you're reading this message in the Jupyter Notebook or JupyterLab Notebook, it may mean\n",
       "  that the widgets JavaScript is still loading. If this message persists, it\n",
       "  likely means that the widgets JavaScript library is either not installed or\n",
       "  not enabled. See the <a href=\"https://ipywidgets.readthedocs.io/en/stable/user_install.html\">Jupyter\n",
       "  Widgets Documentation</a> for setup instructions.\n",
       "</p>\n",
       "<p>\n",
       "  If you're reading this message in another frontend (for example, a static\n",
       "  rendering on GitHub or <a href=\"https://nbviewer.jupyter.org/\">NBViewer</a>),\n",
       "  it may mean that your frontend doesn't currently support widgets.\n",
       "</p>\n"
      ],
      "text/plain": [
       "HBox(children=(IntProgress(value=0, max=200000), HTML(value='')))"
      ]
     },
     "metadata": {},
     "output_type": "display_data"
    },
    {
     "name": "stdout",
     "output_type": "stream",
     "text": [
      "\n"
     ]
    },
    {
     "ename": "BulkIndexError",
     "evalue": "('1 document(s) failed to index.', [{'index': {'_index': 'pre_snowball_no_title', '_type': '_doc', '_id': '86719', 'status': 400, 'error': {'type': 'mapper_parsing_exception', 'reason': \"failed to parse field [id] of type [integer] in document with id '86719'. Preview of field's value: 'Дата рождения:'\", 'caused_by': {'type': 'number_format_exception', 'reason': 'For input string: \"Дата рождения:\"'}}, 'data': {'content': 'HTML Введение учебник HTML немного истории Основные понятия Объявление DOCTYPE Определение границ документа помощью элемента Элемент HEAD Элемент BODY Управление цветом Структурное форматирование Организация списки Форматирование символов Организация ссылок Вставка документ объектов Создание таблиц Создание форм HTML Создание документа помощью кадров Языковые стандарты ДОКУМЕНТАЦИЯ ПО ПРОГРАММИРОВАНИЮ HTML язык гипертекстовой разметки CSS каскадные таблицы стилей JavaScript использование web дизайне PHP программирование под Интернет Perl программирование под Интернет MySQL работа Базами Данных Apache настройка веб сервера ВВЕДЕНИЕ УЧЕБНИК HTML НЕМНОГО ИСТОРИИ Историческая справка Стандартизация языка HTML усилия W3C Пути дальнейшего развития ИСТОРИЧЕСКАЯ СПРАВКА Практически появлением первых компьютеров возникла проблема передачи информации между ними способы были найдены это различные носители кабельный способ Были написаны программы позволяющие передавать получать данные практически сразу возникла вторая проблема проблема совместимости как заставить два более компьютера соединенных кабелем работать локальной сети 1999 году мировая общественность отметила 30 ти летие Intrnet Официальным днем рождения сети Intrnet считается января 1969 года когда Управление перспективных исследований Министерства обороны США ARPA Advanced Research Project Agency начало работу над проектом связи оборонных компьютеров только много позже 1989 году выпускник Оксфордского университета бакалавр области физики сотрудник Европейского центра ядерных исследований CERN Тим Бернес Ли разработал всерьез приступил созданию информационной службы World Wide Web Он написал приложение клиент сервер браузер основу всей системы легло понятие гипертекста множества отдельных текстов имеющих ссылки друг на друга Для работы этими текстами был создан специальный протокол HTTP Hyper Text Transfer Protocol были обозначены основные элементы языка разметки HTML Эта технология дала огромный толчок развитии сети сеть стала действительно интернациональной сетью СТАНДАРТИЗАЦИЯ ЯЗЫКА HTML УСИЛИЯ W3C Многие коммерческие компании подхватили эту инициативу стали выпускать свои браузеры бродилки ним свои собственные расширения языка HTML 1994 году был образован Консорциум W3C он был призван навести порядок области языка HTML разработав стандарты необходимые для дальнейшего развития World Wide Web 1996 году Консорциум W3C объявил сотрудничестве лидерами рынка для установления стандартов совместимости программного обеспечения Была предложена версия HTML которая стала компромиссным решением попыткой примирить Microsoft Netscape объединить их оригинальные решения одно целое Успех Консорциума W3C оказался спорным компании продолжили придумывать новые расширения языку HTML внедрили их поддержку свои браузеры Гиганты рынка постоянно пеняют на Консорциум W3C из за того что он является своеобразным тормозом развитии HTML ввиду отсутствия давления на него со стороны пользователей не спешит принять некоторые их расширения то время когда многие WEB разработчики давно успешно их применяют на своих страницах помощью версии HTML Консорциум W3C предпринял очередную попытку установить стандарты На сегодняшний день перед WEB мастерами стоит дилемма использовать чистый HTML достигнуть при этом максимальной читаемости посещаемости или пользоваться расширениями нововведениями ущерб посещаемости создавать интересные эффекты Для достижения универсальности WEB разработчики стали разрабатывать свои страницы двух вариантах предлагать посетителям право выбора зависимости от того каким браузером тот пользуется Но связи предпринятыми мерами отдела маркетинга фирмы Microsoft их браузер Microsoft Internet Explorer теперь бесплатно входит комплектацию оперативной системы как составная часть Windows 98 становится ясно что предпочтение их расширениям WEB мастерами будет отдаваться все чаще чаще по некоторым данным их уже сейчас более 80 Хотя существует такая прослойка нейтральных пользователей которые по тем или иным соображениям пользуются браузерами третьих фирм производителей Агрессивная маркетинговая политика компании Microsoft не ограничилась только этим одним ходом Руководство компании объявило что все будущие версии операционной системы Windows будут использовать язык HTML качестве фундамента интерфейса пользователя Еще четвертых поколениях их браузеров Microsoft обогнала Netscape по количеству поддерживаемых земных языков 98 против 10 планы Microsoft входит также внедрение поддержки интерактивных переговоров рабочих групп Тем временем Консорциум W3C объявил разработке нового языка XML который возможно будущем заменит HTML если он окажется эффективнее удобнее так же будет решено как быть теми миллионами уже существующих Интернете страниц написанных использованием HTML Язык HTML развился из стандартного обобщенного языка описания документов SGML является его производной созданной для разметки текстовых документов Существуют разные суждения том считать HTML языком программирования или нет точки зрения программистов он имеет достаточно простой синтаксис довольно легок изучении но другой стороны для простого пользователя иногда постижение языка HTML может представляться затруднительным World Wide Web стремительно развивается программное обеспечение для сети устаревает обновляется виде всевозможных заплаток дополнений ними развивается сам язык HTML Язык HTML находит применение все чаще областях где раньше не применялся он перестает быть только лишь исключительно языком описания Web страниц Microsoft уже операционную систему Windows 98 внедрила интеграцию World Wide Web что сильно меняет взаимодействие пользователя операционной системой Пользователь работающий локальных становящихся все более популярными intranet сетях теперь имеет возможность получать доступ сетевой информации используя браузер не диспетчер файлов поскольку WEB браузер может отображать не только документы поддерживающие HTML например содержимое папок или таблицы Excel Более того поддержка таких технологий Internet как сценарии потоковая загрузка аудио видео Java Windows 98 встроена саму операционную систему Пользовательский интерфейс теперь по желанию может быть настроен так что все ярлыки станут ссылками переходы по ним могут осуществляться одним щелчком рабочий стол папки могут быть представлены виде WEB страниц возможностью корректировать код тем самым настраивать их внешний вид Внешний вид папки может быть настроен при помощи редактора шаблонов или ручками отредактировать файлы Folder htt Webview css при помощи Notepad Разработчиками создаются интерактивные модули интегрируемые HTML языки программирования средства поддержания баз данных которые также могут быть внедрены исходный код HTML язык расширяется для предоставления средств управления внешним видом возможностями текста графики Если раньше сразу после появления настольных персональных компьютеров основной упор работе делался на на их персональность человек решал свои задачи набирал тексты распечатывал их то сейчас все больше времени стало уделяться интерактивному взаимодействию Стиль работы меняется меняются средства доступа содержимому Язык HTML уже изначально создавался как платформо независимый язык Новые технологии применяются практически везде довольно скоро пространство World Wide Web перестанет быть достоянием лишь пользователей настольных PC уже сейчас некоторые пользователи активно пользуются голосовыми браузерами для незрячих или браузерами использующими азбуку Бройля зачастую содержимое выводится не на монитор компьютера телевизор когда применяются приставки выходом сеть или на телетайп или на монохромные дисплеи различных организаторов пейджеров пр ПУТИ ДАЛЬНЕЙШЕГО РАЗВИТИЯ Уже 1999 году мире объем продаж персональных настольных компьютеров упал примерно на 40 когда продажи всевозможных носимых карманных портативных устройств стремительно пошли вверх этот сектор рынка естественно обратила свои взоры Microsoft Возникает сам собой вопрос на что особенно необходимо обратить внимание при изучении языка сегодня чтобы быть во всеоружии уже недалеком будущем 1997 году Консорциум W3C опубликовал спецификацию языка HTML которой указано какие из элементов устарели не рекомендуются дальнейшему применению APPLET BASEFONT CENTER DIR FONT ISINDEX MENU STRIKE так же новые элеменB\\n', 'url': 'http://www.sasha.by/doc2.php?page=html&theme=0', 'id': '1377976'}}}])",
     "output_type": "error",
     "traceback": [
      "\u001b[0;31m---------------------------------------------------------------------------\u001b[0m",
      "\u001b[0;31mBulkIndexError\u001b[0m                            Traceback (most recent call last)",
      "\u001b[0;32m<ipython-input-55-5cd9fceaea1b>\u001b[0m in \u001b[0;36m<module>\u001b[0;34m()\u001b[0m\n\u001b[1;32m      1\u001b[0m \u001b[0mrecreate_all\u001b[0m\u001b[0;34m(\u001b[0m\u001b[0;34m)\u001b[0m\u001b[0;34m\u001b[0m\u001b[0;34m\u001b[0m\u001b[0m\n\u001b[1;32m      2\u001b[0m \u001b[0mstart\u001b[0m \u001b[0;34m=\u001b[0m \u001b[0mtime\u001b[0m\u001b[0;34m(\u001b[0m\u001b[0;34m)\u001b[0m\u001b[0;34m\u001b[0m\u001b[0;34m\u001b[0m\u001b[0m\n\u001b[0;32m----> 3\u001b[0;31m \u001b[0mrun_generator\u001b[0m\u001b[0;34m(\u001b[0m\u001b[0mpre_snowball_no_title\u001b[0m\u001b[0;34m,\u001b[0m \u001b[0mpre_no_title_generator\u001b[0m\u001b[0;34m)\u001b[0m\u001b[0;34m\u001b[0m\u001b[0;34m\u001b[0m\u001b[0m\n\u001b[0m\u001b[1;32m      4\u001b[0m \u001b[0mend\u001b[0m \u001b[0;34m=\u001b[0m \u001b[0mtime\u001b[0m\u001b[0;34m(\u001b[0m\u001b[0;34m)\u001b[0m\u001b[0;34m\u001b[0m\u001b[0;34m\u001b[0m\u001b[0m\n\u001b[1;32m      5\u001b[0m \u001b[0mprint\u001b[0m\u001b[0;34m(\u001b[0m\u001b[0;34mf'building time = {end - start}'\u001b[0m\u001b[0;34m)\u001b[0m\u001b[0;34m\u001b[0m\u001b[0;34m\u001b[0m\u001b[0m\n",
      "\u001b[0;32m<ipython-input-41-5a9205cb6408>\u001b[0m in \u001b[0;36mrun_generator\u001b[0;34m(index_name, es_actions_generator)\u001b[0m\n\u001b[1;32m      1\u001b[0m \u001b[0;32mdef\u001b[0m \u001b[0mrun_generator\u001b[0m\u001b[0;34m(\u001b[0m\u001b[0mindex_name\u001b[0m\u001b[0;34m,\u001b[0m \u001b[0mes_actions_generator\u001b[0m\u001b[0;34m)\u001b[0m\u001b[0;34m:\u001b[0m\u001b[0;34m\u001b[0m\u001b[0;34m\u001b[0m\u001b[0m\n\u001b[0;32m----> 2\u001b[0;31m     \u001b[0;32mfor\u001b[0m \u001b[0mok\u001b[0m\u001b[0;34m,\u001b[0m \u001b[0mresult\u001b[0m \u001b[0;32min\u001b[0m \u001b[0mparallel_bulk\u001b[0m\u001b[0;34m(\u001b[0m\u001b[0mes\u001b[0m\u001b[0;34m,\u001b[0m \u001b[0mes_actions_generator\u001b[0m\u001b[0;34m(\u001b[0m\u001b[0mindex_name\u001b[0m\u001b[0;34m)\u001b[0m\u001b[0;34m,\u001b[0m \u001b[0mqueue_size\u001b[0m\u001b[0;34m=\u001b[0m\u001b[0;36m4\u001b[0m\u001b[0;34m,\u001b[0m \u001b[0mthread_count\u001b[0m\u001b[0;34m=\u001b[0m\u001b[0;36m4\u001b[0m\u001b[0;34m,\u001b[0m \u001b[0mchunk_size\u001b[0m\u001b[0;34m=\u001b[0m\u001b[0;36m1000\u001b[0m\u001b[0;34m)\u001b[0m\u001b[0;34m:\u001b[0m\u001b[0;34m\u001b[0m\u001b[0;34m\u001b[0m\u001b[0m\n\u001b[0m\u001b[1;32m      3\u001b[0m         \u001b[0;32mif\u001b[0m \u001b[0;32mnot\u001b[0m \u001b[0mok\u001b[0m\u001b[0;34m:\u001b[0m\u001b[0;34m\u001b[0m\u001b[0;34m\u001b[0m\u001b[0m\n\u001b[1;32m      4\u001b[0m             \u001b[0mprint\u001b[0m\u001b[0;34m(\u001b[0m\u001b[0;34m'lol'\u001b[0m\u001b[0;34m)\u001b[0m\u001b[0;34m\u001b[0m\u001b[0;34m\u001b[0m\u001b[0m\n",
      "\u001b[0;32m~/anaconda3/lib/python3.6/site-packages/elasticsearch/helpers/actions.py\u001b[0m in \u001b[0;36mparallel_bulk\u001b[0;34m(client, actions, thread_count, chunk_size, max_chunk_bytes, queue_size, expand_action_callback, *args, **kwargs)\u001b[0m\n\u001b[1;32m    363\u001b[0m             ),\n\u001b[1;32m    364\u001b[0m             _chunk_actions(\n\u001b[0;32m--> 365\u001b[0;31m                 \u001b[0mactions\u001b[0m\u001b[0;34m,\u001b[0m \u001b[0mchunk_size\u001b[0m\u001b[0;34m,\u001b[0m \u001b[0mmax_chunk_bytes\u001b[0m\u001b[0;34m,\u001b[0m \u001b[0mclient\u001b[0m\u001b[0;34m.\u001b[0m\u001b[0mtransport\u001b[0m\u001b[0;34m.\u001b[0m\u001b[0mserializer\u001b[0m\u001b[0;34m\u001b[0m\u001b[0;34m\u001b[0m\u001b[0m\n\u001b[0m\u001b[1;32m    366\u001b[0m             ),\n\u001b[1;32m    367\u001b[0m         ):\n",
      "\u001b[0;32m~/anaconda3/lib/python3.6/multiprocessing/pool.py\u001b[0m in \u001b[0;36mnext\u001b[0;34m(self, timeout)\u001b[0m\n\u001b[1;32m    759\u001b[0m         \u001b[0;32mif\u001b[0m \u001b[0msuccess\u001b[0m\u001b[0;34m:\u001b[0m\u001b[0;34m\u001b[0m\u001b[0;34m\u001b[0m\u001b[0m\n\u001b[1;32m    760\u001b[0m             \u001b[0;32mreturn\u001b[0m \u001b[0mvalue\u001b[0m\u001b[0;34m\u001b[0m\u001b[0;34m\u001b[0m\u001b[0m\n\u001b[0;32m--> 761\u001b[0;31m         \u001b[0;32mraise\u001b[0m \u001b[0mvalue\u001b[0m\u001b[0;34m\u001b[0m\u001b[0;34m\u001b[0m\u001b[0m\n\u001b[0m\u001b[1;32m    762\u001b[0m \u001b[0;34m\u001b[0m\u001b[0m\n\u001b[1;32m    763\u001b[0m     \u001b[0m__next__\u001b[0m \u001b[0;34m=\u001b[0m \u001b[0mnext\u001b[0m                    \u001b[0;31m# XXX\u001b[0m\u001b[0;34m\u001b[0m\u001b[0;34m\u001b[0m\u001b[0m\n",
      "\u001b[0;32m~/anaconda3/lib/python3.6/multiprocessing/pool.py\u001b[0m in \u001b[0;36mworker\u001b[0;34m(inqueue, outqueue, initializer, initargs, maxtasks, wrap_exception)\u001b[0m\n\u001b[1;32m    117\u001b[0m         \u001b[0mjob\u001b[0m\u001b[0;34m,\u001b[0m \u001b[0mi\u001b[0m\u001b[0;34m,\u001b[0m \u001b[0mfunc\u001b[0m\u001b[0;34m,\u001b[0m \u001b[0margs\u001b[0m\u001b[0;34m,\u001b[0m \u001b[0mkwds\u001b[0m \u001b[0;34m=\u001b[0m \u001b[0mtask\u001b[0m\u001b[0;34m\u001b[0m\u001b[0;34m\u001b[0m\u001b[0m\n\u001b[1;32m    118\u001b[0m         \u001b[0;32mtry\u001b[0m\u001b[0;34m:\u001b[0m\u001b[0;34m\u001b[0m\u001b[0;34m\u001b[0m\u001b[0m\n\u001b[0;32m--> 119\u001b[0;31m             \u001b[0mresult\u001b[0m \u001b[0;34m=\u001b[0m \u001b[0;34m(\u001b[0m\u001b[0;32mTrue\u001b[0m\u001b[0;34m,\u001b[0m \u001b[0mfunc\u001b[0m\u001b[0;34m(\u001b[0m\u001b[0;34m*\u001b[0m\u001b[0margs\u001b[0m\u001b[0;34m,\u001b[0m \u001b[0;34m**\u001b[0m\u001b[0mkwds\u001b[0m\u001b[0;34m)\u001b[0m\u001b[0;34m)\u001b[0m\u001b[0;34m\u001b[0m\u001b[0;34m\u001b[0m\u001b[0m\n\u001b[0m\u001b[1;32m    120\u001b[0m         \u001b[0;32mexcept\u001b[0m \u001b[0mException\u001b[0m \u001b[0;32mas\u001b[0m \u001b[0me\u001b[0m\u001b[0;34m:\u001b[0m\u001b[0;34m\u001b[0m\u001b[0;34m\u001b[0m\u001b[0m\n\u001b[1;32m    121\u001b[0m             \u001b[0;32mif\u001b[0m \u001b[0mwrap_exception\u001b[0m \u001b[0;32mand\u001b[0m \u001b[0mfunc\u001b[0m \u001b[0;32mis\u001b[0m \u001b[0;32mnot\u001b[0m \u001b[0m_helper_reraises_exception\u001b[0m\u001b[0;34m:\u001b[0m\u001b[0;34m\u001b[0m\u001b[0;34m\u001b[0m\u001b[0m\n",
      "\u001b[0;32m~/anaconda3/lib/python3.6/site-packages/elasticsearch/helpers/actions.py\u001b[0m in \u001b[0;36m<lambda>\u001b[0;34m(bulk_chunk)\u001b[0m\n\u001b[1;32m    359\u001b[0m             lambda bulk_chunk: list(\n\u001b[1;32m    360\u001b[0m                 _process_bulk_chunk(\n\u001b[0;32m--> 361\u001b[0;31m                     \u001b[0mclient\u001b[0m\u001b[0;34m,\u001b[0m \u001b[0mbulk_chunk\u001b[0m\u001b[0;34m[\u001b[0m\u001b[0;36m1\u001b[0m\u001b[0;34m]\u001b[0m\u001b[0;34m,\u001b[0m \u001b[0mbulk_chunk\u001b[0m\u001b[0;34m[\u001b[0m\u001b[0;36m0\u001b[0m\u001b[0;34m]\u001b[0m\u001b[0;34m,\u001b[0m \u001b[0;34m*\u001b[0m\u001b[0margs\u001b[0m\u001b[0;34m,\u001b[0m \u001b[0;34m**\u001b[0m\u001b[0mkwargs\u001b[0m\u001b[0;34m\u001b[0m\u001b[0;34m\u001b[0m\u001b[0m\n\u001b[0m\u001b[1;32m    362\u001b[0m                 )\n\u001b[1;32m    363\u001b[0m             ),\n",
      "\u001b[0;32m~/anaconda3/lib/python3.6/site-packages/elasticsearch/helpers/actions.py\u001b[0m in \u001b[0;36m_process_bulk_chunk\u001b[0;34m(client, bulk_actions, bulk_data, raise_on_exception, raise_on_error, *args, **kwargs)\u001b[0m\n\u001b[1;32m    156\u001b[0m \u001b[0;34m\u001b[0m\u001b[0m\n\u001b[1;32m    157\u001b[0m     \u001b[0;32mif\u001b[0m \u001b[0merrors\u001b[0m\u001b[0;34m:\u001b[0m\u001b[0;34m\u001b[0m\u001b[0;34m\u001b[0m\u001b[0m\n\u001b[0;32m--> 158\u001b[0;31m         \u001b[0;32mraise\u001b[0m \u001b[0mBulkIndexError\u001b[0m\u001b[0;34m(\u001b[0m\u001b[0;34m\"%i document(s) failed to index.\"\u001b[0m \u001b[0;34m%\u001b[0m \u001b[0mlen\u001b[0m\u001b[0;34m(\u001b[0m\u001b[0merrors\u001b[0m\u001b[0;34m)\u001b[0m\u001b[0;34m,\u001b[0m \u001b[0merrors\u001b[0m\u001b[0;34m)\u001b[0m\u001b[0;34m\u001b[0m\u001b[0;34m\u001b[0m\u001b[0m\n\u001b[0m\u001b[1;32m    159\u001b[0m \u001b[0;34m\u001b[0m\u001b[0m\n\u001b[1;32m    160\u001b[0m \u001b[0;34m\u001b[0m\u001b[0m\n",
      "\u001b[0;31mBulkIndexError\u001b[0m: ('1 document(s) failed to index.', [{'index': {'_index': 'pre_snowball_no_title', '_type': '_doc', '_id': '86719', 'status': 400, 'error': {'type': 'mapper_parsing_exception', 'reason': \"failed to parse field [id] of type [integer] in document with id '86719'. Preview of field's value: 'Дата рождения:'\", 'caused_by': {'type': 'number_format_exception', 'reason': 'For input string: \"Дата рождения:\"'}}, 'data': {'content': 'HTML Введение учебник HTML немного истории Основные понятия Объявление DOCTYPE Определение границ документа помощью элемента Элемент HEAD Элемент BODY Управление цветом Структурное форматирование Организация списки Форматирование символов Организация ссылок Вставка документ объектов Создание таблиц Создание форм HTML Создание документа помощью кадров Языковые стандарты ДОКУМЕНТАЦИЯ ПО ПРОГРАММИРОВАНИЮ HTML язык гипертекстовой разметки CSS каскадные таблицы стилей JavaScript использование web дизайне PHP программирование под Интернет Perl программирование под Интернет MySQL работа Базами Данных Apache настройка веб сервера ВВЕДЕНИЕ УЧЕБНИК HTML НЕМНОГО ИСТОРИИ Историческая справка Стандартизация языка HTML усилия W3C Пути дальнейшего развития ИСТОРИЧЕСКАЯ СПРАВКА Практически появлением первых компьютеров возникла проблема передачи информации между ними способы были найдены это различные носители кабельный способ Были написаны программы позволяющие передавать получать данные практически сразу возникла вторая проблема проблема совместимости как заставить два более компьютера соединенных кабелем работать локальной сети 1999 году мировая общественность отметила 30 ти летие Intrnet Официальным днем рождения сети Intrnet считается января 1969 года когда Управление перспективных исследований Министерства обороны США ARPA Advanced Research Project Agency начало работу над проектом связи оборонных компьютеров только много позже 1989 году выпускник Оксфордского университета бакалавр области физики сотрудник Европейского центра ядерных исследований CERN Тим Бернес Ли разработал всерьез приступил созданию информационной службы World Wide Web Он написал приложение клиент сервер браузер основу всей системы легло понятие гипертекста множества отдельных текстов имеющих ссылки друг на друга Для работы этими текстами был создан специальный протокол HTTP Hyper Text Transfer Protocol были обозначены основные элементы языка разметки HTML Эта технология дала огромный толчок развитии сети сеть стала действительно интернациональной сетью СТАНДАРТИЗАЦИЯ ЯЗЫКА HTML УСИЛИЯ W3C Многие коммерческие компании подхватили эту инициативу стали выпускать свои браузеры бродилки ним свои собственные расширения языка HTML 1994 году был образован Консорциум W3C он был призван навести порядок области языка HTML разработав стандарты необходимые для дальнейшего развития World Wide Web 1996 году Консорциум W3C объявил сотрудничестве лидерами рынка для установления стандартов совместимости программного обеспечения Была предложена версия HTML которая стала компромиссным решением попыткой примирить Microsoft Netscape объединить их оригинальные решения одно целое Успех Консорциума W3C оказался спорным компании продолжили придумывать новые расширения языку HTML внедрили их поддержку свои браузеры Гиганты рынка постоянно пеняют на Консорциум W3C из за того что он является своеобразным тормозом развитии HTML ввиду отсутствия давления на него со стороны пользователей не спешит принять некоторые их расширения то время когда многие WEB разработчики давно успешно их применяют на своих страницах помощью версии HTML Консорциум W3C предпринял очередную попытку установить стандарты На сегодняшний день перед WEB мастерами стоит дилемма использовать чистый HTML достигнуть при этом максимальной читаемости посещаемости или пользоваться расширениями нововведениями ущерб посещаемости создавать интересные эффекты Для достижения универсальности WEB разработчики стали разрабатывать свои страницы двух вариантах предлагать посетителям право выбора зависимости от того каким браузером тот пользуется Но связи предпринятыми мерами отдела маркетинга фирмы Microsoft их браузер Microsoft Internet Explorer теперь бесплатно входит комплектацию оперативной системы как составная часть Windows 98 становится ясно что предпочтение их расширениям WEB мастерами будет отдаваться все чаще чаще по некоторым данным их уже сейчас более 80 Хотя существует такая прослойка нейтральных пользователей которые по тем или иным соображениям пользуются браузерами третьих фирм производителей Агрессивная маркетинговая политика компании Microsoft не ограничилась только этим одним ходом Руководство компании объявило что все будущие версии операционной системы Windows будут использовать язык HTML качестве фундамента интерфейса пользователя Еще четвертых поколениях их браузеров Microsoft обогнала Netscape по количеству поддерживаемых земных языков 98 против 10 планы Microsoft входит также внедрение поддержки интерактивных переговоров рабочих групп Тем временем Консорциум W3C объявил разработке нового языка XML который возможно будущем заменит HTML если он окажется эффективнее удобнее так же будет решено как быть теми миллионами уже существующих Интернете страниц написанных использованием HTML Язык HTML развился из стандартного обобщенного языка описания документов SGML является его производной созданной для разметки текстовых документов Существуют разные суждения том считать HTML языком программирования или нет точки зрения программистов он имеет достаточно простой синтаксис довольно легок изучении но другой стороны для простого пользователя иногда постижение языка HTML может представляться затруднительным World Wide Web стремительно развивается программное обеспечение для сети устаревает обновляется виде всевозможных заплаток дополнений ними развивается сам язык HTML Язык HTML находит применение все чаще областях где раньше не применялся он перестает быть только лишь исключительно языком описания Web страниц Microsoft уже операционную систему Windows 98 внедрила интеграцию World Wide Web что сильно меняет взаимодействие пользователя операционной системой Пользователь работающий локальных становящихся все более популярными intranet сетях теперь имеет возможность получать доступ сетевой информации используя браузер не диспетчер файлов поскольку WEB браузер может отображать не только документы поддерживающие HTML например содержимое папок или таблицы Excel Более того поддержка таких технологий Internet как сценарии потоковая загрузка аудио видео Java Windows 98 встроена саму операционную систему Пользовательский интерфейс теперь по желанию может быть настроен так что все ярлыки станут ссылками переходы по ним могут осуществляться одним щелчком рабочий стол папки могут быть представлены виде WEB страниц возможностью корректировать код тем самым настраивать их внешний вид Внешний вид папки может быть настроен при помощи редактора шаблонов или ручками отредактировать файлы Folder htt Webview css при помощи Notepad Разработчиками создаются интерактивные модули интегрируемые HTML языки программирования средства поддержания баз данных которые также могут быть внедрены исходный код HTML язык расширяется для предоставления средств управления внешним видом возможностями текста графики Если раньше сразу после появления настольных персональных компьютеров основной упор работе делался на на их персональность человек решал свои задачи набирал тексты распечатывал их то сейчас все больше времени стало уделяться интерактивному взаимодействию Стиль работы меняется меняются средства доступа содержимому Язык HTML уже изначально создавался как платформо независимый язык Новые технологии применяются практически везде довольно скоро пространство World Wide Web перестанет быть достоянием лишь пользователей настольных PC уже сейчас некоторые пользователи активно пользуются голосовыми браузерами для незрячих или браузерами использующими азбуку Бройля зачастую содержимое выводится не на монитор компьютера телевизор когда применяются приставки выходом сеть или на телетайп или на монохромные дисплеи различных организаторов пейджеров пр ПУТИ ДАЛЬНЕЙШЕГО РАЗВИТИЯ Уже 1999 году мире объем продаж персональных настольных компьютеров упал примерно на 40 когда продажи всевозможных носимых карманных портативных устройств стремительно пошли вверх этот сектор рынка естественно обратила свои взоры Microsoft Возникает сам собой вопрос на что особенно необходимо обратить внимание при изучении языка сегодня чтобы быть во всеоружии уже недалеком будущем 1997 году Консорциум W3C опубликовал спецификацию языка HTML которой указано какие из элементов устарели не рекомендуются дальнейшему применению APPLET BASEFONT CENTER DIR FONT ISINDEX MENU STRIKE так же новые элеменB\\n', 'url': 'http://www.sasha.by/doc2.php?page=html&theme=0', 'id': '1377976'}}}])"
     ]
    }
   ],
   "source": [
    "recreate_all()\n",
    "start = time()\n",
    "run_generator(pre_snowball_no_title, pre_no_title_generator)\n",
    "end = time()\n",
    "print(f'building time = {end - start}')\n",
    "calc_stats(pre_snowball_no_title, True)"
   ]
  },
  {
   "cell_type": "code",
   "execution_count": 61,
   "metadata": {},
   "outputs": [
    {
     "data": {
      "text/plain": [
       "0.8995925765484571"
      ]
     },
     "execution_count": 61,
     "metadata": {},
     "output_type": "execute_result"
    }
   ],
   "source": [
    "965930174 / 2**30"
   ]
  },
  {
   "cell_type": "code",
   "execution_count": null,
   "metadata": {},
   "outputs": [],
   "source": []
  }
 ],
 "metadata": {
  "kernelspec": {
   "display_name": "Python 3",
   "language": "python",
   "name": "python3"
  },
  "language_info": {
   "codemirror_mode": {
    "name": "ipython",
    "version": 3
   },
   "file_extension": ".py",
   "mimetype": "text/x-python",
   "name": "python",
   "nbconvert_exporter": "python",
   "pygments_lexer": "ipython3",
   "version": "3.6.7"
  }
 },
 "nbformat": 4,
 "nbformat_minor": 2
}
