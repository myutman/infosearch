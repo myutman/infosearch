{
 "cells": [
  {
   "cell_type": "code",
   "execution_count": 1,
   "metadata": {},
   "outputs": [],
   "source": [
    "%config IPCompleter.greedy=True\n",
    "import re\n",
    "import json\n",
    "from collections import defaultdict\n",
    "from tqdm import tqdm_notebook as tqdm\n",
    "from elasticsearch import Elasticsearch\n",
    "from elasticsearch.helpers import parallel_bulk\n",
    "from pymystem3 import Mystem\n",
    "from sklearn.feature_extraction.text import CountVectorizer\n",
    "import requests\n",
    "from time import time\n",
    "import bs4\n",
    "import base64\n",
    "from tqdm import tqdm_notebook"
   ]
  },
  {
   "cell_type": "code",
   "execution_count": 2,
   "metadata": {},
   "outputs": [],
   "source": [
    "es = Elasticsearch([{'host': 'localhost', 'port': 9200, 'timeout': 360, 'maxsize': 25}])"
   ]
  },
  {
   "cell_type": "code",
   "execution_count": 8,
   "metadata": {},
   "outputs": [],
   "source": [
    "raw_index_name=\"raw_index\""
   ]
  },
  {
   "cell_type": "code",
   "execution_count": 9,
   "metadata": {},
   "outputs": [],
   "source": [
    "def recreate_index(name, settings):\n",
    "    if es.indices.exists(index=name):\n",
    "        es.indices.delete(index=name)\n",
    "    es.indices.create(index=name, body=settings)\n",
    "    \n",
    "def check_analyzer(raw_index_name, analyzer, text):\n",
    "    body = analyzer\n",
    "    body['text'] = text\n",
    "    \n",
    "    tokens = es.indices.analyze(index=raw_index_name, body=body)['tokens']\n",
    "    tokens = [token_info['token'] for token_info in tokens]\n",
    "    return tokens    "
   ]
  },
  {
   "cell_type": "code",
   "execution_count": 10,
   "metadata": {},
   "outputs": [],
   "source": [
    "settings = {\n",
    "    'mappings': {\n",
    "        'properties': {\n",
    "            'id': {\n",
    "                'type': 'integer'\n",
    "            },\n",
    "            'url': {\n",
    "                'type': 'text'\n",
    "            },\n",
    "            'content': {\n",
    "                'type': 'text',\n",
    "                'fields': {\n",
    "                    'complex': {\n",
    "                        'type': 'text',\n",
    "                        'analyzer': 'russian_complex'\n",
    "                    }\n",
    "                }\n",
    "            }\n",
    "        }\n",
    "    },\n",
    "    'settings': {\n",
    "        'analysis': {\n",
    "            'analyzer': {\n",
    "                'russian_complex': {\n",
    "                    'char_filter': [\n",
    "                        'no_html'\n",
    "                    ],\n",
    "                    'tokenizer': 'word_longer_2',\n",
    "                    'filter': [\n",
    "                        'lowercase',\n",
    "                        'russian_snow'\n",
    "                    ]\n",
    "                },\n",
    "            },\n",
    "            'char_filter': {\n",
    "                'no_html': {\n",
    "                    'type': 'html_strip',\n",
    "                    \"escaped_tags\": []\n",
    "                }\n",
    "            },\n",
    "            'tokenizer': {\n",
    "                'word_longer_2': {\n",
    "                    'type': 'pattern',\n",
    "                    'pattern': '[a-zA-Z_0-9\\u0400-\\u04FF]{2,}',\n",
    "                    'group': 0\n",
    "                }\n",
    "            },\n",
    "            'filter': {\n",
    "                'russian_snow': {\n",
    "                    'type': 'snowball',\n",
    "                    'language': 'russian'\n",
    "                }\n",
    "            }\n",
    "        }\n",
    "    }\n",
    "}"
   ]
  },
  {
   "cell_type": "code",
   "execution_count": 11,
   "metadata": {},
   "outputs": [],
   "source": [
    "recreate_index(raw_index_name, settings)"
   ]
  },
  {
   "cell_type": "code",
   "execution_count": 17,
   "metadata": {},
   "outputs": [
    {
     "data": {
      "text/plain": [
       "['мое', 'имя']"
      ]
     },
     "execution_count": 17,
     "metadata": {},
     "output_type": "execute_result"
    }
   ],
   "source": [
    "text = '<div><a>Мое имя!!</a></div>'\n",
    "\n",
    "analyzer = {\n",
    "    'char_filter': ['no_html'],\n",
    "    'tokenizer': 'letter',\n",
    "    'filter': ['lowercase']\n",
    "}\n",
    "\n",
    "check_analyzer(raw_index_name, analyzer, text)"
   ]
  },
  {
   "cell_type": "code",
   "execution_count": 18,
   "metadata": {},
   "outputs": [],
   "source": [
    "def create_es_action(index, doc_id, document):\n",
    "    return {\n",
    "        '_index': index,\n",
    "        '_id': doc_id,\n",
    "        '_source': document\n",
    "    }"
   ]
  },
  {
   "cell_type": "code",
   "execution_count": 19,
   "metadata": {},
   "outputs": [],
   "source": [
    "def es_actions_generator(index_name):\n",
    "    index = 0\n",
    "    for doc_id in range(10):\n",
    "        with open(f'../byweb_for_course/byweb.{doc_id}.xml', 'r') as inf:\n",
    "            lines = inf.readlines()\n",
    "            for i in tqdm_notebook(range(1, len(lines) - 1, 3)):\n",
    "                index = index + 1\n",
    "                page = lines[i] + lines[i + 1] + lines[i + 2]\n",
    "                doc = {}\n",
    "                document = bs4.BeautifulSoup(page, \"lxml\")\n",
    "                doc['id'] = index\n",
    "                doc['url'] = base64.b64decode(document.docurl.contents[0]).decode(\"cp1251\")\n",
    "                doc['contnent'] = base64.b64decode(document.content.contents[0]).decode(\"cp1251\")\n",
    "                yield create_es_action(index_name, index, doc)"
   ]
  },
  {
   "cell_type": "code",
   "execution_count": 15,
   "metadata": {},
   "outputs": [],
   "source": [
    "def run_generator(index_name):\n",
    "    for ok, result in parallel_bulk(es, es_actions_generator(index_name), queue_size=4, thread_count=4, chunk_size=1000):\n",
    "        if not ok:\n",
    "            print(result)"
   ]
  },
  {
   "cell_type": "code",
   "execution_count": 124,
   "metadata": {},
   "outputs": [
    {
     "data": {
      "application/vnd.jupyter.widget-view+json": {
       "model_id": "9181e341827b45acb2f9b58fcffe1cd5",
       "version_major": 2,
       "version_minor": 0
      },
      "text/plain": [
       "HBox(children=(IntProgress(value=0, max=20000), HTML(value='')))"
      ]
     },
     "metadata": {},
     "output_type": "display_data"
    },
    {
     "name": "stdout",
     "output_type": "stream",
     "text": [
      "\n"
     ]
    },
    {
     "data": {
      "application/vnd.jupyter.widget-view+json": {
       "model_id": "05724fbdc0ee4c89b0f82074ad3b7159",
       "version_major": 2,
       "version_minor": 0
      },
      "text/plain": [
       "HBox(children=(IntProgress(value=0, max=20000), HTML(value='')))"
      ]
     },
     "metadata": {},
     "output_type": "display_data"
    },
    {
     "name": "stdout",
     "output_type": "stream",
     "text": [
      "\n"
     ]
    }
   ],
   "source": [
    "recreate_index(raw_index_name, settings)\n",
    "run_generator(raw_index_name)"
   ]
  },
  {
   "cell_type": "code",
   "execution_count": 87,
   "metadata": {},
   "outputs": [],
   "source": [
    "def search(index, query, *args):\n",
    "    pretty_print_result(es.search(index=index, body=query, size=20), args)\n",
    "    # note that size set to 20 just because default value is 10 and we know that we have 12 docs and 10 < 12 < 20\n",
    "                        \n",
    "def pretty_print_result(search_result, fields=[]):\n",
    "    # fields is a list of fields names which we want to be printed\n",
    "    res = search_result['hits']\n",
    "    print(f'Total documents: {res[\"total\"][\"value\"]}')\n",
    "    for hit in res['hits']:\n",
    "        print(f'Doc {hit[\"_id\"]}, score is {hit[\"_score\"]}')\n",
    "        for field in fields:\n",
    "            print(f'{field}: {hit[\"_source\"][field]}')\n",
    "                  \n",
    "def get_doc_by_id(index, doc_id):\n",
    "    return es.get(index=index, id=doc_id)['_source']"
   ]
  },
  {
   "cell_type": "code",
   "execution_count": 126,
   "metadata": {},
   "outputs": [
    {
     "name": "stdout",
     "output_type": "stream",
     "text": [
      "Total documents: 10000\n",
      "Doc 29001, score is 1.0\n",
      "url: http://www.atom.by/index.php?c=3&i=1622&ic=1282\n",
      "Doc 29002, score is 1.0\n",
      "url: http://www.atom.by/index.php?c=8&i=2232&ic=789\n",
      "Doc 29003, score is 1.0\n",
      "url: http://www.atom.by/index.php?c=8&i=634&ic=2330\n",
      "Doc 29004, score is 1.0\n",
      "url: http://www.atom.by/index.php?c=8&i=779&ic=663\n",
      "Doc 29005, score is 1.0\n",
      "url: http://www.atom.by/index.php?c=8&i=2232&ic=1736\n",
      "Doc 29006, score is 1.0\n",
      "url: http://www.atom.by/index.php?c=3&i=1622&ic=1912\n",
      "Doc 29007, score is 1.0\n",
      "url: http://www.atom.by/index.php?c=16&i=126&ic=452\n",
      "Doc 29008, score is 1.0\n",
      "url: http://www.atom.by/index.php?c=9&i=915&ic=430\n",
      "Doc 29009, score is 1.0\n",
      "url: http://www.atom.by/index.php?c=8&i=74&ic=570\n",
      "Doc 29010, score is 1.0\n",
      "url: http://www.atom.by/index.php?c=3&i=193&ic=1912\n",
      "Doc 29011, score is 1.0\n",
      "url: http://www.atom.by/index.php?c=8&i=660&ic=3714\n",
      "Doc 29012, score is 1.0\n",
      "url: http://www.atom.by/index.php?c=3&i=2179&ic=342\n",
      "Doc 29013, score is 1.0\n",
      "url: http://www.atom.by/index.php?c=3&i=214&ic=716\n",
      "Doc 29014, score is 1.0\n",
      "url: http://www.atom.by/index.php?c=8&i=1867&ic=2054\n",
      "Doc 29015, score is 1.0\n",
      "url: http://www.atom.by/index.php?c=8&i=1555&ic=575\n",
      "Doc 29016, score is 1.0\n",
      "url: http://www.atom.by/index.php?c=16&i=2350&ic=1945\n",
      "Doc 29017, score is 1.0\n",
      "url: http://www.atom.by/index.php?c=4&i=2089&ic=2439\n",
      "Doc 29018, score is 1.0\n",
      "url: http://www.atom.by/index.php?c=3&i=178&ic=33\n",
      "Doc 29019, score is 1.0\n",
      "url: http://www.atom.by/index.php?c=4&i=2419&ic=980\n",
      "Doc 29020, score is 1.0\n",
      "url: http://www.atom.by/index.php?c=8&i=1639&ic=963\n"
     ]
    }
   ],
   "source": [
    "query = {\n",
    "    'query': {\n",
    "        'match_all': {}\n",
    "    }\n",
    "}\n",
    "\n",
    "search(raw_index_name, query, 'url')"
   ]
  },
  {
   "cell_type": "code",
   "execution_count": null,
   "metadata": {},
   "outputs": [],
   "source": []
  }
 ],
 "metadata": {
  "kernelspec": {
   "display_name": "Python 3",
   "language": "python",
   "name": "python3"
  },
  "language_info": {
   "codemirror_mode": {
    "name": "ipython",
    "version": 3
   },
   "file_extension": ".py",
   "mimetype": "text/x-python",
   "name": "python",
   "nbconvert_exporter": "python",
   "pygments_lexer": "ipython3",
   "version": "3.7.3"
  }
 },
 "nbformat": 4,
 "nbformat_minor": 2
}
