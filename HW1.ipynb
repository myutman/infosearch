{
 "cells": [
  {
   "cell_type": "code",
   "execution_count": 122,
   "metadata": {},
   "outputs": [],
   "source": [
    "import bs4\n",
    "import base64\n",
    "import re\n",
    "import numpy as np\n",
    "import matplotlib.pyplot as plt\n",
    "import plotly.express as px\n",
    "import pandas as pd\n",
    "import os\n",
    "from tqdm import tqdm_notebook as tqdm\n",
    "import pymystem3 as ms\n",
    "from nltk.stem import WordNetLemmatizer\n",
    "from nltk import word_tokenize, pos_tag\n",
    "from urllib.parse import urljoin "
   ]
  },
  {
   "cell_type": "code",
   "execution_count": 56,
   "metadata": {},
   "outputs": [],
   "source": [
    "def tokenize(s):\n",
    "    #print(s)\n",
    "    s = ' '.join(re.split('https?://.*\\\\W', s))\n",
    "    return list(filter(lambda x: len(x) > 1, re.split('\\\\W', s)))"
   ]
  },
  {
   "cell_type": "code",
   "execution_count": 8,
   "metadata": {},
   "outputs": [],
   "source": [
    "def text_from_doc(doc):\n",
    "    a = []\n",
    "    b = []\n",
    "    #print(type(doc))\n",
    "\n",
    "    if isinstance(doc, bs4.element.Tag):\n",
    "        for child in doc.contents:\n",
    "            kek = text_from_doc(child)\n",
    "            a += kek[0]\n",
    "            b += kek[1]\n",
    "        if doc.name == 'a':\n",
    "            if doc.has_attr('href'):\n",
    "                b.append(doc['href'])\n",
    "    else:\n",
    "        a += tokenize(doc)\n",
    "    return a, b"
   ]
  },
  {
   "cell_type": "code",
   "execution_count": 104,
   "metadata": {},
   "outputs": [],
   "source": [
    "mystem = ms.Mystem()\n",
    "wnl = WordNetLemmatizer()"
   ]
  },
  {
   "cell_type": "code",
   "execution_count": 115,
   "metadata": {},
   "outputs": [
    {
     "data": {
      "application/vnd.jupyter.widget-view+json": {
       "model_id": "19e28e6a0f944741ae28a3a649f5402c",
       "version_major": 2,
       "version_minor": 0
      },
      "text/html": [
       "<p>Failed to display Jupyter Widget of type <code>HBox</code>.</p>\n",
       "<p>\n",
       "  If you're reading this message in the Jupyter Notebook or JupyterLab Notebook, it may mean\n",
       "  that the widgets JavaScript is still loading. If this message persists, it\n",
       "  likely means that the widgets JavaScript library is either not installed or\n",
       "  not enabled. See the <a href=\"https://ipywidgets.readthedocs.io/en/stable/user_install.html\">Jupyter\n",
       "  Widgets Documentation</a> for setup instructions.\n",
       "</p>\n",
       "<p>\n",
       "  If you're reading this message in another frontend (for example, a static\n",
       "  rendering on GitHub or <a href=\"https://nbviewer.jupyter.org/\">NBViewer</a>),\n",
       "  it may mean that your frontend doesn't currently support widgets.\n",
       "</p>\n"
      ],
      "text/plain": [
       "HBox(children=(IntProgress(value=1, bar_style='info', max=1), HTML(value='')))"
      ]
     },
     "metadata": {},
     "output_type": "display_data"
    },
    {
     "data": {
      "application/vnd.jupyter.widget-view+json": {
       "model_id": "24aa89213e72418fb712c45662f40b5f",
       "version_major": 2,
       "version_minor": 0
      },
      "text/html": [
       "<p>Failed to display Jupyter Widget of type <code>HBox</code>.</p>\n",
       "<p>\n",
       "  If you're reading this message in the Jupyter Notebook or JupyterLab Notebook, it may mean\n",
       "  that the widgets JavaScript is still loading. If this message persists, it\n",
       "  likely means that the widgets JavaScript library is either not installed or\n",
       "  not enabled. See the <a href=\"https://ipywidgets.readthedocs.io/en/stable/user_install.html\">Jupyter\n",
       "  Widgets Documentation</a> for setup instructions.\n",
       "</p>\n",
       "<p>\n",
       "  If you're reading this message in another frontend (for example, a static\n",
       "  rendering on GitHub or <a href=\"https://nbviewer.jupyter.org/\">NBViewer</a>),\n",
       "  it may mean that your frontend doesn't currently support widgets.\n",
       "</p>\n"
      ],
      "text/plain": [
       "HBox(children=(IntProgress(value=0, max=20000), HTML(value='')))"
      ]
     },
     "metadata": {},
     "output_type": "display_data"
    },
    {
     "name": "stdout",
     "output_type": "stream",
     "text": [
      "\n"
     ]
    },
    {
     "data": {
      "application/vnd.jupyter.widget-view+json": {
       "model_id": "f3d1fbc2239c40aeb9d808e1731a1956",
       "version_major": 2,
       "version_minor": 0
      },
      "text/html": [
       "<p>Failed to display Jupyter Widget of type <code>HBox</code>.</p>\n",
       "<p>\n",
       "  If you're reading this message in the Jupyter Notebook or JupyterLab Notebook, it may mean\n",
       "  that the widgets JavaScript is still loading. If this message persists, it\n",
       "  likely means that the widgets JavaScript library is either not installed or\n",
       "  not enabled. See the <a href=\"https://ipywidgets.readthedocs.io/en/stable/user_install.html\">Jupyter\n",
       "  Widgets Documentation</a> for setup instructions.\n",
       "</p>\n",
       "<p>\n",
       "  If you're reading this message in another frontend (for example, a static\n",
       "  rendering on GitHub or <a href=\"https://nbviewer.jupyter.org/\">NBViewer</a>),\n",
       "  it may mean that your frontend doesn't currently support widgets.\n",
       "</p>\n"
      ],
      "text/plain": [
       "HBox(children=(IntProgress(value=1, bar_style='info', max=1), HTML(value='')))"
      ]
     },
     "metadata": {},
     "output_type": "display_data"
    },
    {
     "data": {
      "application/vnd.jupyter.widget-view+json": {
       "model_id": "68ce522803c246d389e9fe4ae87b906f",
       "version_major": 2,
       "version_minor": 0
      },
      "text/html": [
       "<p>Failed to display Jupyter Widget of type <code>HBox</code>.</p>\n",
       "<p>\n",
       "  If you're reading this message in the Jupyter Notebook or JupyterLab Notebook, it may mean\n",
       "  that the widgets JavaScript is still loading. If this message persists, it\n",
       "  likely means that the widgets JavaScript library is either not installed or\n",
       "  not enabled. See the <a href=\"https://ipywidgets.readthedocs.io/en/stable/user_install.html\">Jupyter\n",
       "  Widgets Documentation</a> for setup instructions.\n",
       "</p>\n",
       "<p>\n",
       "  If you're reading this message in another frontend (for example, a static\n",
       "  rendering on GitHub or <a href=\"https://nbviewer.jupyter.org/\">NBViewer</a>),\n",
       "  it may mean that your frontend doesn't currently support widgets.\n",
       "</p>\n"
      ],
      "text/plain": [
       "HBox(children=(IntProgress(value=0, max=20000), HTML(value='')))"
      ]
     },
     "metadata": {},
     "output_type": "display_data"
    },
    {
     "name": "stdout",
     "output_type": "stream",
     "text": [
      "\n"
     ]
    },
    {
     "data": {
      "application/vnd.jupyter.widget-view+json": {
       "model_id": "e3b717fc75f74f4d86490c9e5ba96d4a",
       "version_major": 2,
       "version_minor": 0
      },
      "text/html": [
       "<p>Failed to display Jupyter Widget of type <code>HBox</code>.</p>\n",
       "<p>\n",
       "  If you're reading this message in the Jupyter Notebook or JupyterLab Notebook, it may mean\n",
       "  that the widgets JavaScript is still loading. If this message persists, it\n",
       "  likely means that the widgets JavaScript library is either not installed or\n",
       "  not enabled. See the <a href=\"https://ipywidgets.readthedocs.io/en/stable/user_install.html\">Jupyter\n",
       "  Widgets Documentation</a> for setup instructions.\n",
       "</p>\n",
       "<p>\n",
       "  If you're reading this message in another frontend (for example, a static\n",
       "  rendering on GitHub or <a href=\"https://nbviewer.jupyter.org/\">NBViewer</a>),\n",
       "  it may mean that your frontend doesn't currently support widgets.\n",
       "</p>\n"
      ],
      "text/plain": [
       "HBox(children=(IntProgress(value=1, bar_style='info', max=1), HTML(value='')))"
      ]
     },
     "metadata": {},
     "output_type": "display_data"
    },
    {
     "data": {
      "application/vnd.jupyter.widget-view+json": {
       "model_id": "6fa4dfaa523343698a51d62315f620d7",
       "version_major": 2,
       "version_minor": 0
      },
      "text/html": [
       "<p>Failed to display Jupyter Widget of type <code>HBox</code>.</p>\n",
       "<p>\n",
       "  If you're reading this message in the Jupyter Notebook or JupyterLab Notebook, it may mean\n",
       "  that the widgets JavaScript is still loading. If this message persists, it\n",
       "  likely means that the widgets JavaScript library is either not installed or\n",
       "  not enabled. See the <a href=\"https://ipywidgets.readthedocs.io/en/stable/user_install.html\">Jupyter\n",
       "  Widgets Documentation</a> for setup instructions.\n",
       "</p>\n",
       "<p>\n",
       "  If you're reading this message in another frontend (for example, a static\n",
       "  rendering on GitHub or <a href=\"https://nbviewer.jupyter.org/\">NBViewer</a>),\n",
       "  it may mean that your frontend doesn't currently support widgets.\n",
       "</p>\n"
      ],
      "text/plain": [
       "HBox(children=(IntProgress(value=0, max=20000), HTML(value='')))"
      ]
     },
     "metadata": {},
     "output_type": "display_data"
    },
    {
     "name": "stdout",
     "output_type": "stream",
     "text": [
      "\n"
     ]
    },
    {
     "data": {
      "application/vnd.jupyter.widget-view+json": {
       "model_id": "c7fdabdc7e11403f9ab2a17b02b99f5e",
       "version_major": 2,
       "version_minor": 0
      },
      "text/html": [
       "<p>Failed to display Jupyter Widget of type <code>HBox</code>.</p>\n",
       "<p>\n",
       "  If you're reading this message in the Jupyter Notebook or JupyterLab Notebook, it may mean\n",
       "  that the widgets JavaScript is still loading. If this message persists, it\n",
       "  likely means that the widgets JavaScript library is either not installed or\n",
       "  not enabled. See the <a href=\"https://ipywidgets.readthedocs.io/en/stable/user_install.html\">Jupyter\n",
       "  Widgets Documentation</a> for setup instructions.\n",
       "</p>\n",
       "<p>\n",
       "  If you're reading this message in another frontend (for example, a static\n",
       "  rendering on GitHub or <a href=\"https://nbviewer.jupyter.org/\">NBViewer</a>),\n",
       "  it may mean that your frontend doesn't currently support widgets.\n",
       "</p>\n"
      ],
      "text/plain": [
       "HBox(children=(IntProgress(value=1, bar_style='info', max=1), HTML(value='')))"
      ]
     },
     "metadata": {},
     "output_type": "display_data"
    },
    {
     "data": {
      "application/vnd.jupyter.widget-view+json": {
       "model_id": "1302100c47624fb6bf2468663d6525f6",
       "version_major": 2,
       "version_minor": 0
      },
      "text/html": [
       "<p>Failed to display Jupyter Widget of type <code>HBox</code>.</p>\n",
       "<p>\n",
       "  If you're reading this message in the Jupyter Notebook or JupyterLab Notebook, it may mean\n",
       "  that the widgets JavaScript is still loading. If this message persists, it\n",
       "  likely means that the widgets JavaScript library is either not installed or\n",
       "  not enabled. See the <a href=\"https://ipywidgets.readthedocs.io/en/stable/user_install.html\">Jupyter\n",
       "  Widgets Documentation</a> for setup instructions.\n",
       "</p>\n",
       "<p>\n",
       "  If you're reading this message in another frontend (for example, a static\n",
       "  rendering on GitHub or <a href=\"https://nbviewer.jupyter.org/\">NBViewer</a>),\n",
       "  it may mean that your frontend doesn't currently support widgets.\n",
       "</p>\n"
      ],
      "text/plain": [
       "HBox(children=(IntProgress(value=0, max=20000), HTML(value='')))"
      ]
     },
     "metadata": {},
     "output_type": "display_data"
    },
    {
     "name": "stdout",
     "output_type": "stream",
     "text": [
      "\n"
     ]
    },
    {
     "data": {
      "application/vnd.jupyter.widget-view+json": {
       "model_id": "a244cfd094c74df68d70718169d71a8e",
       "version_major": 2,
       "version_minor": 0
      },
      "text/html": [
       "<p>Failed to display Jupyter Widget of type <code>HBox</code>.</p>\n",
       "<p>\n",
       "  If you're reading this message in the Jupyter Notebook or JupyterLab Notebook, it may mean\n",
       "  that the widgets JavaScript is still loading. If this message persists, it\n",
       "  likely means that the widgets JavaScript library is either not installed or\n",
       "  not enabled. See the <a href=\"https://ipywidgets.readthedocs.io/en/stable/user_install.html\">Jupyter\n",
       "  Widgets Documentation</a> for setup instructions.\n",
       "</p>\n",
       "<p>\n",
       "  If you're reading this message in another frontend (for example, a static\n",
       "  rendering on GitHub or <a href=\"https://nbviewer.jupyter.org/\">NBViewer</a>),\n",
       "  it may mean that your frontend doesn't currently support widgets.\n",
       "</p>\n"
      ],
      "text/plain": [
       "HBox(children=(IntProgress(value=1, bar_style='info', max=1), HTML(value='')))"
      ]
     },
     "metadata": {},
     "output_type": "display_data"
    },
    {
     "data": {
      "application/vnd.jupyter.widget-view+json": {
       "model_id": "550a935b082c4025aa3a426cd94451fe",
       "version_major": 2,
       "version_minor": 0
      },
      "text/html": [
       "<p>Failed to display Jupyter Widget of type <code>HBox</code>.</p>\n",
       "<p>\n",
       "  If you're reading this message in the Jupyter Notebook or JupyterLab Notebook, it may mean\n",
       "  that the widgets JavaScript is still loading. If this message persists, it\n",
       "  likely means that the widgets JavaScript library is either not installed or\n",
       "  not enabled. See the <a href=\"https://ipywidgets.readthedocs.io/en/stable/user_install.html\">Jupyter\n",
       "  Widgets Documentation</a> for setup instructions.\n",
       "</p>\n",
       "<p>\n",
       "  If you're reading this message in another frontend (for example, a static\n",
       "  rendering on GitHub or <a href=\"https://nbviewer.jupyter.org/\">NBViewer</a>),\n",
       "  it may mean that your frontend doesn't currently support widgets.\n",
       "</p>\n"
      ],
      "text/plain": [
       "HBox(children=(IntProgress(value=0, max=20000), HTML(value='')))"
      ]
     },
     "metadata": {},
     "output_type": "display_data"
    },
    {
     "name": "stdout",
     "output_type": "stream",
     "text": [
      "\n"
     ]
    },
    {
     "data": {
      "application/vnd.jupyter.widget-view+json": {
       "model_id": "135791b4eac64f298c11c0760a5878e3",
       "version_major": 2,
       "version_minor": 0
      },
      "text/html": [
       "<p>Failed to display Jupyter Widget of type <code>HBox</code>.</p>\n",
       "<p>\n",
       "  If you're reading this message in the Jupyter Notebook or JupyterLab Notebook, it may mean\n",
       "  that the widgets JavaScript is still loading. If this message persists, it\n",
       "  likely means that the widgets JavaScript library is either not installed or\n",
       "  not enabled. See the <a href=\"https://ipywidgets.readthedocs.io/en/stable/user_install.html\">Jupyter\n",
       "  Widgets Documentation</a> for setup instructions.\n",
       "</p>\n",
       "<p>\n",
       "  If you're reading this message in another frontend (for example, a static\n",
       "  rendering on GitHub or <a href=\"https://nbviewer.jupyter.org/\">NBViewer</a>),\n",
       "  it may mean that your frontend doesn't currently support widgets.\n",
       "</p>\n"
      ],
      "text/plain": [
       "HBox(children=(IntProgress(value=1, bar_style='info', max=1), HTML(value='')))"
      ]
     },
     "metadata": {},
     "output_type": "display_data"
    },
    {
     "data": {
      "application/vnd.jupyter.widget-view+json": {
       "model_id": "74fddaadcbc14aedb12c4cbb92f97899",
       "version_major": 2,
       "version_minor": 0
      },
      "text/html": [
       "<p>Failed to display Jupyter Widget of type <code>HBox</code>.</p>\n",
       "<p>\n",
       "  If you're reading this message in the Jupyter Notebook or JupyterLab Notebook, it may mean\n",
       "  that the widgets JavaScript is still loading. If this message persists, it\n",
       "  likely means that the widgets JavaScript library is either not installed or\n",
       "  not enabled. See the <a href=\"https://ipywidgets.readthedocs.io/en/stable/user_install.html\">Jupyter\n",
       "  Widgets Documentation</a> for setup instructions.\n",
       "</p>\n",
       "<p>\n",
       "  If you're reading this message in another frontend (for example, a static\n",
       "  rendering on GitHub or <a href=\"https://nbviewer.jupyter.org/\">NBViewer</a>),\n",
       "  it may mean that your frontend doesn't currently support widgets.\n",
       "</p>\n"
      ],
      "text/plain": [
       "HBox(children=(IntProgress(value=0, max=20000), HTML(value='')))"
      ]
     },
     "metadata": {},
     "output_type": "display_data"
    },
    {
     "name": "stdout",
     "output_type": "stream",
     "text": [
      "\n"
     ]
    },
    {
     "data": {
      "application/vnd.jupyter.widget-view+json": {
       "model_id": "7a3030aad1574f2f91d36fa02fdfb65f",
       "version_major": 2,
       "version_minor": 0
      },
      "text/html": [
       "<p>Failed to display Jupyter Widget of type <code>HBox</code>.</p>\n",
       "<p>\n",
       "  If you're reading this message in the Jupyter Notebook or JupyterLab Notebook, it may mean\n",
       "  that the widgets JavaScript is still loading. If this message persists, it\n",
       "  likely means that the widgets JavaScript library is either not installed or\n",
       "  not enabled. See the <a href=\"https://ipywidgets.readthedocs.io/en/stable/user_install.html\">Jupyter\n",
       "  Widgets Documentation</a> for setup instructions.\n",
       "</p>\n",
       "<p>\n",
       "  If you're reading this message in another frontend (for example, a static\n",
       "  rendering on GitHub or <a href=\"https://nbviewer.jupyter.org/\">NBViewer</a>),\n",
       "  it may mean that your frontend doesn't currently support widgets.\n",
       "</p>\n"
      ],
      "text/plain": [
       "HBox(children=(IntProgress(value=1, bar_style='info', max=1), HTML(value='')))"
      ]
     },
     "metadata": {},
     "output_type": "display_data"
    },
    {
     "data": {
      "application/vnd.jupyter.widget-view+json": {
       "model_id": "a3ee2c95001b46f7b2136cdb8c88cf95",
       "version_major": 2,
       "version_minor": 0
      },
      "text/html": [
       "<p>Failed to display Jupyter Widget of type <code>HBox</code>.</p>\n",
       "<p>\n",
       "  If you're reading this message in the Jupyter Notebook or JupyterLab Notebook, it may mean\n",
       "  that the widgets JavaScript is still loading. If this message persists, it\n",
       "  likely means that the widgets JavaScript library is either not installed or\n",
       "  not enabled. See the <a href=\"https://ipywidgets.readthedocs.io/en/stable/user_install.html\">Jupyter\n",
       "  Widgets Documentation</a> for setup instructions.\n",
       "</p>\n",
       "<p>\n",
       "  If you're reading this message in another frontend (for example, a static\n",
       "  rendering on GitHub or <a href=\"https://nbviewer.jupyter.org/\">NBViewer</a>),\n",
       "  it may mean that your frontend doesn't currently support widgets.\n",
       "</p>\n"
      ],
      "text/plain": [
       "HBox(children=(IntProgress(value=0, max=20000), HTML(value='')))"
      ]
     },
     "metadata": {},
     "output_type": "display_data"
    },
    {
     "name": "stdout",
     "output_type": "stream",
     "text": [
      "\n"
     ]
    },
    {
     "data": {
      "application/vnd.jupyter.widget-view+json": {
       "model_id": "618ec833c7984d7cb2d950b4e81ecad2",
       "version_major": 2,
       "version_minor": 0
      },
      "text/html": [
       "<p>Failed to display Jupyter Widget of type <code>HBox</code>.</p>\n",
       "<p>\n",
       "  If you're reading this message in the Jupyter Notebook or JupyterLab Notebook, it may mean\n",
       "  that the widgets JavaScript is still loading. If this message persists, it\n",
       "  likely means that the widgets JavaScript library is either not installed or\n",
       "  not enabled. See the <a href=\"https://ipywidgets.readthedocs.io/en/stable/user_install.html\">Jupyter\n",
       "  Widgets Documentation</a> for setup instructions.\n",
       "</p>\n",
       "<p>\n",
       "  If you're reading this message in another frontend (for example, a static\n",
       "  rendering on GitHub or <a href=\"https://nbviewer.jupyter.org/\">NBViewer</a>),\n",
       "  it may mean that your frontend doesn't currently support widgets.\n",
       "</p>\n"
      ],
      "text/plain": [
       "HBox(children=(IntProgress(value=1, bar_style='info', max=1), HTML(value='')))"
      ]
     },
     "metadata": {},
     "output_type": "display_data"
    },
    {
     "data": {
      "application/vnd.jupyter.widget-view+json": {
       "model_id": "7a51a5d664ec4fecbc3d404da8cee4fc",
       "version_major": 2,
       "version_minor": 0
      },
      "text/html": [
       "<p>Failed to display Jupyter Widget of type <code>HBox</code>.</p>\n",
       "<p>\n",
       "  If you're reading this message in the Jupyter Notebook or JupyterLab Notebook, it may mean\n",
       "  that the widgets JavaScript is still loading. If this message persists, it\n",
       "  likely means that the widgets JavaScript library is either not installed or\n",
       "  not enabled. See the <a href=\"https://ipywidgets.readthedocs.io/en/stable/user_install.html\">Jupyter\n",
       "  Widgets Documentation</a> for setup instructions.\n",
       "</p>\n",
       "<p>\n",
       "  If you're reading this message in another frontend (for example, a static\n",
       "  rendering on GitHub or <a href=\"https://nbviewer.jupyter.org/\">NBViewer</a>),\n",
       "  it may mean that your frontend doesn't currently support widgets.\n",
       "</p>\n"
      ],
      "text/plain": [
       "HBox(children=(IntProgress(value=0, max=20000), HTML(value='')))"
      ]
     },
     "metadata": {},
     "output_type": "display_data"
    },
    {
     "name": "stdout",
     "output_type": "stream",
     "text": [
      "\n"
     ]
    },
    {
     "data": {
      "application/vnd.jupyter.widget-view+json": {
       "model_id": "4440b81e5d4a4b5ca202d21b117fa928",
       "version_major": 2,
       "version_minor": 0
      },
      "text/html": [
       "<p>Failed to display Jupyter Widget of type <code>HBox</code>.</p>\n",
       "<p>\n",
       "  If you're reading this message in the Jupyter Notebook or JupyterLab Notebook, it may mean\n",
       "  that the widgets JavaScript is still loading. If this message persists, it\n",
       "  likely means that the widgets JavaScript library is either not installed or\n",
       "  not enabled. See the <a href=\"https://ipywidgets.readthedocs.io/en/stable/user_install.html\">Jupyter\n",
       "  Widgets Documentation</a> for setup instructions.\n",
       "</p>\n",
       "<p>\n",
       "  If you're reading this message in another frontend (for example, a static\n",
       "  rendering on GitHub or <a href=\"https://nbviewer.jupyter.org/\">NBViewer</a>),\n",
       "  it may mean that your frontend doesn't currently support widgets.\n",
       "</p>\n"
      ],
      "text/plain": [
       "HBox(children=(IntProgress(value=1, bar_style='info', max=1), HTML(value='')))"
      ]
     },
     "metadata": {},
     "output_type": "display_data"
    },
    {
     "data": {
      "application/vnd.jupyter.widget-view+json": {
       "model_id": "c5c945f5f67145c29145f70ba2b5b8a4",
       "version_major": 2,
       "version_minor": 0
      },
      "text/html": [
       "<p>Failed to display Jupyter Widget of type <code>HBox</code>.</p>\n",
       "<p>\n",
       "  If you're reading this message in the Jupyter Notebook or JupyterLab Notebook, it may mean\n",
       "  that the widgets JavaScript is still loading. If this message persists, it\n",
       "  likely means that the widgets JavaScript library is either not installed or\n",
       "  not enabled. See the <a href=\"https://ipywidgets.readthedocs.io/en/stable/user_install.html\">Jupyter\n",
       "  Widgets Documentation</a> for setup instructions.\n",
       "</p>\n",
       "<p>\n",
       "  If you're reading this message in another frontend (for example, a static\n",
       "  rendering on GitHub or <a href=\"https://nbviewer.jupyter.org/\">NBViewer</a>),\n",
       "  it may mean that your frontend doesn't currently support widgets.\n",
       "</p>\n"
      ],
      "text/plain": [
       "HBox(children=(IntProgress(value=0, max=20000), HTML(value='')))"
      ]
     },
     "metadata": {},
     "output_type": "display_data"
    },
    {
     "name": "stdout",
     "output_type": "stream",
     "text": [
      "\n"
     ]
    },
    {
     "data": {
      "application/vnd.jupyter.widget-view+json": {
       "model_id": "7bc597f263cd4a59b241dc414affd025",
       "version_major": 2,
       "version_minor": 0
      },
      "text/html": [
       "<p>Failed to display Jupyter Widget of type <code>HBox</code>.</p>\n",
       "<p>\n",
       "  If you're reading this message in the Jupyter Notebook or JupyterLab Notebook, it may mean\n",
       "  that the widgets JavaScript is still loading. If this message persists, it\n",
       "  likely means that the widgets JavaScript library is either not installed or\n",
       "  not enabled. See the <a href=\"https://ipywidgets.readthedocs.io/en/stable/user_install.html\">Jupyter\n",
       "  Widgets Documentation</a> for setup instructions.\n",
       "</p>\n",
       "<p>\n",
       "  If you're reading this message in another frontend (for example, a static\n",
       "  rendering on GitHub or <a href=\"https://nbviewer.jupyter.org/\">NBViewer</a>),\n",
       "  it may mean that your frontend doesn't currently support widgets.\n",
       "</p>\n"
      ],
      "text/plain": [
       "HBox(children=(IntProgress(value=1, bar_style='info', max=1), HTML(value='')))"
      ]
     },
     "metadata": {},
     "output_type": "display_data"
    },
    {
     "data": {
      "application/vnd.jupyter.widget-view+json": {
       "model_id": "665c4bbb0314415990109332b9a20fd0",
       "version_major": 2,
       "version_minor": 0
      },
      "text/html": [
       "<p>Failed to display Jupyter Widget of type <code>HBox</code>.</p>\n",
       "<p>\n",
       "  If you're reading this message in the Jupyter Notebook or JupyterLab Notebook, it may mean\n",
       "  that the widgets JavaScript is still loading. If this message persists, it\n",
       "  likely means that the widgets JavaScript library is either not installed or\n",
       "  not enabled. See the <a href=\"https://ipywidgets.readthedocs.io/en/stable/user_install.html\">Jupyter\n",
       "  Widgets Documentation</a> for setup instructions.\n",
       "</p>\n",
       "<p>\n",
       "  If you're reading this message in another frontend (for example, a static\n",
       "  rendering on GitHub or <a href=\"https://nbviewer.jupyter.org/\">NBViewer</a>),\n",
       "  it may mean that your frontend doesn't currently support widgets.\n",
       "</p>\n"
      ],
      "text/plain": [
       "HBox(children=(IntProgress(value=0, max=20000), HTML(value='')))"
      ]
     },
     "metadata": {},
     "output_type": "display_data"
    },
    {
     "name": "stdout",
     "output_type": "stream",
     "text": [
      "\n"
     ]
    }
   ],
   "source": [
    "doc_f = open('docs.out', 'w')\n",
    "lem_f = open('lemmas.out', 'w')\n",
    "\n",
    "freqs = dict()\n",
    "idfs = dict()\n",
    "\n",
    "for doc_id in range(10):\n",
    "    file_name = f'../byweb_for_course/byweb.{doc_id}.xml'\n",
    "    with open(file_name, 'r') as inf:\n",
    "        inf.readline()\n",
    "        for i in tqdm(range(20000)):\n",
    "            a = inf.readline()\n",
    "            b = inf.readline()\n",
    "            c = inf.readline()\n",
    "\n",
    "            docid = re.split('<.*?>', c)[1]\n",
    "            url = base64.b64decode(re.split('<.*?>', b)[1]).decode(\"cp1251\")\n",
    "            content = base64.b64decode(re.split('<.*?>', a)[2]).decode(\"cp1251\")\n",
    "            soup1 = bs4.BeautifulSoup(content, 'lxml')\n",
    "\n",
    "            for tag in soup1(['script', 'style']):\n",
    "                tag.decompose()\n",
    "            \n",
    "            a = soup1.get_text()\n",
    "            a = re.sub('(<!--.*?-->)', '', a, flags=re.DOTALL)\n",
    "            a = re.sub('<.*?>', '', a, flags=re.DOTALL)\n",
    "            a = ' '.join(tokenize(a))\n",
    "            lm = ''.join(mystem.lemmatize(a))\n",
    "            lm = ' '.join([(wnl.lemmatize(i,j[0].lower()) if j[0].lower() in ['a','n','v'] else wnl.lemmatize(i)) for i,j in pos_tag(list(map(lambda x: x.lower(), word_tokenize(lm))))])\n",
    "            \n",
    "            \n",
    "            #a = []\n",
    "            #b = []\n",
    "            #for doc in soup1:\n",
    "            #    kek = text_from_doc(doc)\n",
    "            #    a += kek[0]\n",
    "            #    b += kek[1]\n",
    "\n",
    "            \n",
    "            \n",
    "            #jn = ' '.join(a)\n",
    "            #lemmas = !cat a | /home/mikhail/mystem\n",
    "            #lemmas = lemmas[0]\n",
    "            #tokens = re.split('{|}', lemmas)\n",
    "            #tokens1 = []\n",
    "            #for i in range(1, len(tokens), 2):\n",
    "            #    tokens1.append(re.split('\\|', tokens[i])[0])\n",
    "\n",
    "            #idf = dict()\n",
    "\n",
    "            #for t in tokens1:\n",
    "            #    idf[t] = 1\n",
    "            #    if t not in freqs:\n",
    "            #        freqs[t] = 1\n",
    "            #    else:\n",
    "            #        freqs[t] = freqs[t] + 1\n",
    "\n",
    "            #for k in idf.keys():\n",
    "            #    idfs[k] += idf[k]\n",
    "\n",
    "            \n",
    "            doc_f.write('{}\\t{}\\t{}\\n'.format(docid, url, a))\n",
    "            lem_f.write('{}\\t{}\\t{}\\n'.format(docid, url, lm))\n",
    "    \n",
    "            \n",
    "            \n",
    "            #wordlen_f.write('{}\\n'.format(len(a)))\n",
    "            #bytelen_f.write('{}\\n'.format(len(soup1.get_text())))\n",
    "        \n",
    "doc_f.close()\n",
    "lem_f.close()"
   ]
  },
  {
   "cell_type": "code",
   "execution_count": 121,
   "metadata": {
    "scrolled": true
   },
   "outputs": [
    {
     "data": {
      "text/plain": [
       "199280.0"
      ]
     },
     "execution_count": 121,
     "metadata": {},
     "output_type": "execute_result"
    }
   ],
   "source": [
    "np.average(bytelens)"
   ]
  },
  {
   "cell_type": "code",
   "execution_count": 122,
   "metadata": {},
   "outputs": [
    {
     "data": {
      "text/plain": [
       "70.92592592592592"
      ]
     },
     "execution_count": 122,
     "metadata": {},
     "output_type": "execute_result"
    }
   ],
   "source": [
    "np.average(wordlens)"
   ]
  },
  {
   "cell_type": "code",
   "execution_count": 9,
   "metadata": {},
   "outputs": [],
   "source": [
    "kek = dict()\n",
    "inf = open('wordlens.out', 'r')\n",
    "s = inf.readline()\n",
    "while len(s) > 0:\n",
    "    ln = int(s)\n",
    "    key = (ln // 100) * 100\n",
    "    if key not in kek:\n",
    "        kek[key] = 1\n",
    "    else:\n",
    "        kek[key] = kek[key] + 1\n",
    "    s = inf.readline()"
   ]
  },
  {
   "cell_type": "code",
   "execution_count": 10,
   "metadata": {},
   "outputs": [
    {
     "data": {
      "application/vnd.plotly.v1+json": {
       "config": {
        "plotlyServerURL": "https://plot.ly"
       },
       "data": [
        {
         "alignmentgroup": "True",
         "hoverlabel": {
          "namelength": 0
         },
         "hovertemplate": "n_docs=%{x}<br>len in words=%{y}",
         "legendgroup": "",
         "marker": {
          "color": "#636efa"
         },
         "name": "",
         "offsetgroup": "",
         "orientation": "v",
         "showlegend": false,
         "textposition": "auto",
         "type": "bar",
         "x": [
          0,
          100,
          400,
          900,
          2100,
          300,
          200,
          1000,
          800,
          500,
          600,
          700,
          2300,
          1100,
          1200,
          1300,
          8200,
          4100,
          1400,
          1700,
          1500,
          4500,
          3300,
          3500,
          5600,
          2200,
          11500,
          1800,
          2600,
          3800,
          1900,
          2700,
          2900,
          4600,
          16800,
          3000,
          2400,
          12900,
          2500,
          1600,
          2000,
          6500,
          3100,
          5000,
          13300,
          3600,
          4300,
          5200,
          8100,
          7400,
          12100,
          5500,
          15400,
          3200,
          4400,
          4900,
          7900,
          3900,
          4700,
          5300,
          6400,
          3400,
          5900,
          8000,
          7300,
          5400,
          11900,
          5700,
          11400,
          7100,
          2800,
          17200,
          10500,
          12500,
          23300,
          6000,
          7800,
          8900,
          5100,
          19000,
          7700,
          7600,
          6100,
          6900,
          5800,
          19400,
          15700,
          6800,
          13400,
          13800,
          4000,
          14800,
          24400,
          9100,
          7000,
          9500,
          21900,
          15300,
          23700,
          8300,
          10200,
          3700,
          31600,
          6200,
          4800,
          7500,
          19600,
          8600,
          10000,
          8500,
          10100,
          13100,
          6600,
          15900,
          15800,
          14700,
          59800,
          16500,
          9000,
          4200,
          6700,
          6300,
          10700,
          9800,
          11700,
          12600,
          9700,
          20900,
          11000,
          9600,
          8800,
          15100,
          63300,
          7200,
          73100,
          87200,
          23900,
          33200,
          16700
         ],
         "xaxis": "x",
         "y": [
          149734,
          26001,
          2915,
          529,
          28,
          5068,
          8149,
          431,
          809,
          1829,
          1434,
          1082,
          25,
          362,
          287,
          205,
          1,
          9,
          148,
          82,
          128,
          11,
          13,
          9,
          8,
          24,
          1,
          61,
          22,
          9,
          51,
          20,
          20,
          11,
          2,
          21,
          26,
          3,
          23,
          103,
          31,
          4,
          15,
          5,
          1,
          10,
          5,
          6,
          3,
          4,
          1,
          1,
          1,
          11,
          12,
          4,
          5,
          12,
          3,
          7,
          4,
          10,
          4,
          3,
          2,
          5,
          2,
          5,
          2,
          2,
          7,
          1,
          2,
          2,
          1,
          4,
          4,
          3,
          3,
          1,
          3,
          2,
          2,
          1,
          3,
          1,
          1,
          3,
          1,
          2,
          5,
          1,
          1,
          1,
          2,
          1,
          1,
          1,
          1,
          1,
          3,
          5,
          1,
          4,
          7,
          2,
          1,
          3,
          1,
          1,
          1,
          1,
          4,
          1,
          1,
          1,
          1,
          1,
          2,
          1,
          1,
          3,
          1,
          1,
          1,
          1,
          1,
          1,
          1,
          1,
          2,
          1,
          1,
          1,
          1,
          1,
          1,
          1,
          1
         ],
         "yaxis": "y"
        }
       ],
       "layout": {
        "barmode": "relative",
        "height": 600,
        "legend": {
         "tracegroupgap": 0
        },
        "margin": {
         "t": 60
        },
        "template": {
         "data": {
          "bar": [
           {
            "error_x": {
             "color": "#2a3f5f"
            },
            "error_y": {
             "color": "#2a3f5f"
            },
            "marker": {
             "line": {
              "color": "#E5ECF6",
              "width": 0.5
             }
            },
            "type": "bar"
           }
          ],
          "barpolar": [
           {
            "marker": {
             "line": {
              "color": "#E5ECF6",
              "width": 0.5
             }
            },
            "type": "barpolar"
           }
          ],
          "carpet": [
           {
            "aaxis": {
             "endlinecolor": "#2a3f5f",
             "gridcolor": "white",
             "linecolor": "white",
             "minorgridcolor": "white",
             "startlinecolor": "#2a3f5f"
            },
            "baxis": {
             "endlinecolor": "#2a3f5f",
             "gridcolor": "white",
             "linecolor": "white",
             "minorgridcolor": "white",
             "startlinecolor": "#2a3f5f"
            },
            "type": "carpet"
           }
          ],
          "choropleth": [
           {
            "colorbar": {
             "outlinewidth": 0,
             "ticks": ""
            },
            "type": "choropleth"
           }
          ],
          "contour": [
           {
            "colorbar": {
             "outlinewidth": 0,
             "ticks": ""
            },
            "colorscale": [
             [
              0,
              "#0d0887"
             ],
             [
              0.1111111111111111,
              "#46039f"
             ],
             [
              0.2222222222222222,
              "#7201a8"
             ],
             [
              0.3333333333333333,
              "#9c179e"
             ],
             [
              0.4444444444444444,
              "#bd3786"
             ],
             [
              0.5555555555555556,
              "#d8576b"
             ],
             [
              0.6666666666666666,
              "#ed7953"
             ],
             [
              0.7777777777777778,
              "#fb9f3a"
             ],
             [
              0.8888888888888888,
              "#fdca26"
             ],
             [
              1,
              "#f0f921"
             ]
            ],
            "type": "contour"
           }
          ],
          "contourcarpet": [
           {
            "colorbar": {
             "outlinewidth": 0,
             "ticks": ""
            },
            "type": "contourcarpet"
           }
          ],
          "heatmap": [
           {
            "colorbar": {
             "outlinewidth": 0,
             "ticks": ""
            },
            "colorscale": [
             [
              0,
              "#0d0887"
             ],
             [
              0.1111111111111111,
              "#46039f"
             ],
             [
              0.2222222222222222,
              "#7201a8"
             ],
             [
              0.3333333333333333,
              "#9c179e"
             ],
             [
              0.4444444444444444,
              "#bd3786"
             ],
             [
              0.5555555555555556,
              "#d8576b"
             ],
             [
              0.6666666666666666,
              "#ed7953"
             ],
             [
              0.7777777777777778,
              "#fb9f3a"
             ],
             [
              0.8888888888888888,
              "#fdca26"
             ],
             [
              1,
              "#f0f921"
             ]
            ],
            "type": "heatmap"
           }
          ],
          "heatmapgl": [
           {
            "colorbar": {
             "outlinewidth": 0,
             "ticks": ""
            },
            "colorscale": [
             [
              0,
              "#0d0887"
             ],
             [
              0.1111111111111111,
              "#46039f"
             ],
             [
              0.2222222222222222,
              "#7201a8"
             ],
             [
              0.3333333333333333,
              "#9c179e"
             ],
             [
              0.4444444444444444,
              "#bd3786"
             ],
             [
              0.5555555555555556,
              "#d8576b"
             ],
             [
              0.6666666666666666,
              "#ed7953"
             ],
             [
              0.7777777777777778,
              "#fb9f3a"
             ],
             [
              0.8888888888888888,
              "#fdca26"
             ],
             [
              1,
              "#f0f921"
             ]
            ],
            "type": "heatmapgl"
           }
          ],
          "histogram": [
           {
            "marker": {
             "colorbar": {
              "outlinewidth": 0,
              "ticks": ""
             }
            },
            "type": "histogram"
           }
          ],
          "histogram2d": [
           {
            "colorbar": {
             "outlinewidth": 0,
             "ticks": ""
            },
            "colorscale": [
             [
              0,
              "#0d0887"
             ],
             [
              0.1111111111111111,
              "#46039f"
             ],
             [
              0.2222222222222222,
              "#7201a8"
             ],
             [
              0.3333333333333333,
              "#9c179e"
             ],
             [
              0.4444444444444444,
              "#bd3786"
             ],
             [
              0.5555555555555556,
              "#d8576b"
             ],
             [
              0.6666666666666666,
              "#ed7953"
             ],
             [
              0.7777777777777778,
              "#fb9f3a"
             ],
             [
              0.8888888888888888,
              "#fdca26"
             ],
             [
              1,
              "#f0f921"
             ]
            ],
            "type": "histogram2d"
           }
          ],
          "histogram2dcontour": [
           {
            "colorbar": {
             "outlinewidth": 0,
             "ticks": ""
            },
            "colorscale": [
             [
              0,
              "#0d0887"
             ],
             [
              0.1111111111111111,
              "#46039f"
             ],
             [
              0.2222222222222222,
              "#7201a8"
             ],
             [
              0.3333333333333333,
              "#9c179e"
             ],
             [
              0.4444444444444444,
              "#bd3786"
             ],
             [
              0.5555555555555556,
              "#d8576b"
             ],
             [
              0.6666666666666666,
              "#ed7953"
             ],
             [
              0.7777777777777778,
              "#fb9f3a"
             ],
             [
              0.8888888888888888,
              "#fdca26"
             ],
             [
              1,
              "#f0f921"
             ]
            ],
            "type": "histogram2dcontour"
           }
          ],
          "mesh3d": [
           {
            "colorbar": {
             "outlinewidth": 0,
             "ticks": ""
            },
            "type": "mesh3d"
           }
          ],
          "parcoords": [
           {
            "line": {
             "colorbar": {
              "outlinewidth": 0,
              "ticks": ""
             }
            },
            "type": "parcoords"
           }
          ],
          "scatter": [
           {
            "marker": {
             "colorbar": {
              "outlinewidth": 0,
              "ticks": ""
             }
            },
            "type": "scatter"
           }
          ],
          "scatter3d": [
           {
            "line": {
             "colorbar": {
              "outlinewidth": 0,
              "ticks": ""
             }
            },
            "marker": {
             "colorbar": {
              "outlinewidth": 0,
              "ticks": ""
             }
            },
            "type": "scatter3d"
           }
          ],
          "scattercarpet": [
           {
            "marker": {
             "colorbar": {
              "outlinewidth": 0,
              "ticks": ""
             }
            },
            "type": "scattercarpet"
           }
          ],
          "scattergeo": [
           {
            "marker": {
             "colorbar": {
              "outlinewidth": 0,
              "ticks": ""
             }
            },
            "type": "scattergeo"
           }
          ],
          "scattergl": [
           {
            "marker": {
             "colorbar": {
              "outlinewidth": 0,
              "ticks": ""
             }
            },
            "type": "scattergl"
           }
          ],
          "scattermapbox": [
           {
            "marker": {
             "colorbar": {
              "outlinewidth": 0,
              "ticks": ""
             }
            },
            "type": "scattermapbox"
           }
          ],
          "scatterpolar": [
           {
            "marker": {
             "colorbar": {
              "outlinewidth": 0,
              "ticks": ""
             }
            },
            "type": "scatterpolar"
           }
          ],
          "scatterpolargl": [
           {
            "marker": {
             "colorbar": {
              "outlinewidth": 0,
              "ticks": ""
             }
            },
            "type": "scatterpolargl"
           }
          ],
          "scatterternary": [
           {
            "marker": {
             "colorbar": {
              "outlinewidth": 0,
              "ticks": ""
             }
            },
            "type": "scatterternary"
           }
          ],
          "surface": [
           {
            "colorbar": {
             "outlinewidth": 0,
             "ticks": ""
            },
            "colorscale": [
             [
              0,
              "#0d0887"
             ],
             [
              0.1111111111111111,
              "#46039f"
             ],
             [
              0.2222222222222222,
              "#7201a8"
             ],
             [
              0.3333333333333333,
              "#9c179e"
             ],
             [
              0.4444444444444444,
              "#bd3786"
             ],
             [
              0.5555555555555556,
              "#d8576b"
             ],
             [
              0.6666666666666666,
              "#ed7953"
             ],
             [
              0.7777777777777778,
              "#fb9f3a"
             ],
             [
              0.8888888888888888,
              "#fdca26"
             ],
             [
              1,
              "#f0f921"
             ]
            ],
            "type": "surface"
           }
          ],
          "table": [
           {
            "cells": {
             "fill": {
              "color": "#EBF0F8"
             },
             "line": {
              "color": "white"
             }
            },
            "header": {
             "fill": {
              "color": "#C8D4E3"
             },
             "line": {
              "color": "white"
             }
            },
            "type": "table"
           }
          ]
         },
         "layout": {
          "annotationdefaults": {
           "arrowcolor": "#2a3f5f",
           "arrowhead": 0,
           "arrowwidth": 1
          },
          "colorscale": {
           "diverging": [
            [
             0,
             "#8e0152"
            ],
            [
             0.1,
             "#c51b7d"
            ],
            [
             0.2,
             "#de77ae"
            ],
            [
             0.3,
             "#f1b6da"
            ],
            [
             0.4,
             "#fde0ef"
            ],
            [
             0.5,
             "#f7f7f7"
            ],
            [
             0.6,
             "#e6f5d0"
            ],
            [
             0.7,
             "#b8e186"
            ],
            [
             0.8,
             "#7fbc41"
            ],
            [
             0.9,
             "#4d9221"
            ],
            [
             1,
             "#276419"
            ]
           ],
           "sequential": [
            [
             0,
             "#0d0887"
            ],
            [
             0.1111111111111111,
             "#46039f"
            ],
            [
             0.2222222222222222,
             "#7201a8"
            ],
            [
             0.3333333333333333,
             "#9c179e"
            ],
            [
             0.4444444444444444,
             "#bd3786"
            ],
            [
             0.5555555555555556,
             "#d8576b"
            ],
            [
             0.6666666666666666,
             "#ed7953"
            ],
            [
             0.7777777777777778,
             "#fb9f3a"
            ],
            [
             0.8888888888888888,
             "#fdca26"
            ],
            [
             1,
             "#f0f921"
            ]
           ],
           "sequentialminus": [
            [
             0,
             "#0d0887"
            ],
            [
             0.1111111111111111,
             "#46039f"
            ],
            [
             0.2222222222222222,
             "#7201a8"
            ],
            [
             0.3333333333333333,
             "#9c179e"
            ],
            [
             0.4444444444444444,
             "#bd3786"
            ],
            [
             0.5555555555555556,
             "#d8576b"
            ],
            [
             0.6666666666666666,
             "#ed7953"
            ],
            [
             0.7777777777777778,
             "#fb9f3a"
            ],
            [
             0.8888888888888888,
             "#fdca26"
            ],
            [
             1,
             "#f0f921"
            ]
           ]
          },
          "colorway": [
           "#636efa",
           "#EF553B",
           "#00cc96",
           "#ab63fa",
           "#FFA15A",
           "#19d3f3",
           "#FF6692",
           "#B6E880",
           "#FF97FF",
           "#FECB52"
          ],
          "font": {
           "color": "#2a3f5f"
          },
          "geo": {
           "bgcolor": "white",
           "lakecolor": "white",
           "landcolor": "#E5ECF6",
           "showlakes": true,
           "showland": true,
           "subunitcolor": "white"
          },
          "hoverlabel": {
           "align": "left"
          },
          "hovermode": "closest",
          "mapbox": {
           "style": "light"
          },
          "paper_bgcolor": "white",
          "plot_bgcolor": "#E5ECF6",
          "polar": {
           "angularaxis": {
            "gridcolor": "white",
            "linecolor": "white",
            "ticks": ""
           },
           "bgcolor": "#E5ECF6",
           "radialaxis": {
            "gridcolor": "white",
            "linecolor": "white",
            "ticks": ""
           }
          },
          "scene": {
           "xaxis": {
            "backgroundcolor": "#E5ECF6",
            "gridcolor": "white",
            "gridwidth": 2,
            "linecolor": "white",
            "showbackground": true,
            "ticks": "",
            "zerolinecolor": "white"
           },
           "yaxis": {
            "backgroundcolor": "#E5ECF6",
            "gridcolor": "white",
            "gridwidth": 2,
            "linecolor": "white",
            "showbackground": true,
            "ticks": "",
            "zerolinecolor": "white"
           },
           "zaxis": {
            "backgroundcolor": "#E5ECF6",
            "gridcolor": "white",
            "gridwidth": 2,
            "linecolor": "white",
            "showbackground": true,
            "ticks": "",
            "zerolinecolor": "white"
           }
          },
          "shapedefaults": {
           "line": {
            "color": "#2a3f5f"
           }
          },
          "ternary": {
           "aaxis": {
            "gridcolor": "white",
            "linecolor": "white",
            "ticks": ""
           },
           "baxis": {
            "gridcolor": "white",
            "linecolor": "white",
            "ticks": ""
           },
           "bgcolor": "#E5ECF6",
           "caxis": {
            "gridcolor": "white",
            "linecolor": "white",
            "ticks": ""
           }
          },
          "title": {
           "x": 0.05
          },
          "xaxis": {
           "automargin": true,
           "gridcolor": "white",
           "linecolor": "white",
           "ticks": "",
           "zerolinecolor": "white",
           "zerolinewidth": 2
          },
          "yaxis": {
           "automargin": true,
           "gridcolor": "white",
           "linecolor": "white",
           "ticks": "",
           "zerolinecolor": "white",
           "zerolinewidth": 2
          }
         }
        },
        "xaxis": {
         "anchor": "y",
         "domain": [
          0,
          0.98
         ],
         "title": {
          "text": "n_docs"
         }
        },
        "yaxis": {
         "anchor": "x",
         "domain": [
          0,
          1
         ],
         "title": {
          "text": "len in words"
         }
        }
       }
      },
      "text/html": [
       "<div>\n",
       "        \n",
       "        \n",
       "            <div id=\"2f6e10ac-e12d-4ee8-9044-b67c9714b087\" class=\"plotly-graph-div\" style=\"height:600px; width:100%;\"></div>\n",
       "            <script type=\"text/javascript\">\n",
       "                require([\"plotly\"], function(Plotly) {\n",
       "                    window.PLOTLYENV=window.PLOTLYENV || {};\n",
       "                    \n",
       "                if (document.getElementById(\"2f6e10ac-e12d-4ee8-9044-b67c9714b087\")) {\n",
       "                    Plotly.newPlot(\n",
       "                        '2f6e10ac-e12d-4ee8-9044-b67c9714b087',\n",
       "                        [{\"alignmentgroup\": \"True\", \"hoverlabel\": {\"namelength\": 0}, \"hovertemplate\": \"n_docs=%{x}<br>len in words=%{y}\", \"legendgroup\": \"\", \"marker\": {\"color\": \"#636efa\"}, \"name\": \"\", \"offsetgroup\": \"\", \"orientation\": \"v\", \"showlegend\": false, \"textposition\": \"auto\", \"type\": \"bar\", \"x\": [0, 100, 400, 900, 2100, 300, 200, 1000, 800, 500, 600, 700, 2300, 1100, 1200, 1300, 8200, 4100, 1400, 1700, 1500, 4500, 3300, 3500, 5600, 2200, 11500, 1800, 2600, 3800, 1900, 2700, 2900, 4600, 16800, 3000, 2400, 12900, 2500, 1600, 2000, 6500, 3100, 5000, 13300, 3600, 4300, 5200, 8100, 7400, 12100, 5500, 15400, 3200, 4400, 4900, 7900, 3900, 4700, 5300, 6400, 3400, 5900, 8000, 7300, 5400, 11900, 5700, 11400, 7100, 2800, 17200, 10500, 12500, 23300, 6000, 7800, 8900, 5100, 19000, 7700, 7600, 6100, 6900, 5800, 19400, 15700, 6800, 13400, 13800, 4000, 14800, 24400, 9100, 7000, 9500, 21900, 15300, 23700, 8300, 10200, 3700, 31600, 6200, 4800, 7500, 19600, 8600, 10000, 8500, 10100, 13100, 6600, 15900, 15800, 14700, 59800, 16500, 9000, 4200, 6700, 6300, 10700, 9800, 11700, 12600, 9700, 20900, 11000, 9600, 8800, 15100, 63300, 7200, 73100, 87200, 23900, 33200, 16700], \"xaxis\": \"x\", \"y\": [149734, 26001, 2915, 529, 28, 5068, 8149, 431, 809, 1829, 1434, 1082, 25, 362, 287, 205, 1, 9, 148, 82, 128, 11, 13, 9, 8, 24, 1, 61, 22, 9, 51, 20, 20, 11, 2, 21, 26, 3, 23, 103, 31, 4, 15, 5, 1, 10, 5, 6, 3, 4, 1, 1, 1, 11, 12, 4, 5, 12, 3, 7, 4, 10, 4, 3, 2, 5, 2, 5, 2, 2, 7, 1, 2, 2, 1, 4, 4, 3, 3, 1, 3, 2, 2, 1, 3, 1, 1, 3, 1, 2, 5, 1, 1, 1, 2, 1, 1, 1, 1, 1, 3, 5, 1, 4, 7, 2, 1, 3, 1, 1, 1, 1, 4, 1, 1, 1, 1, 1, 2, 1, 1, 3, 1, 1, 1, 1, 1, 1, 1, 1, 2, 1, 1, 1, 1, 1, 1, 1, 1], \"yaxis\": \"y\"}],\n",
       "                        {\"barmode\": \"relative\", \"height\": 600, \"legend\": {\"tracegroupgap\": 0}, \"margin\": {\"t\": 60}, \"template\": {\"data\": {\"bar\": [{\"error_x\": {\"color\": \"#2a3f5f\"}, \"error_y\": {\"color\": \"#2a3f5f\"}, \"marker\": {\"line\": {\"color\": \"#E5ECF6\", \"width\": 0.5}}, \"type\": \"bar\"}], \"barpolar\": [{\"marker\": {\"line\": {\"color\": \"#E5ECF6\", \"width\": 0.5}}, \"type\": \"barpolar\"}], \"carpet\": [{\"aaxis\": {\"endlinecolor\": \"#2a3f5f\", \"gridcolor\": \"white\", \"linecolor\": \"white\", \"minorgridcolor\": \"white\", \"startlinecolor\": \"#2a3f5f\"}, \"baxis\": {\"endlinecolor\": \"#2a3f5f\", \"gridcolor\": \"white\", \"linecolor\": \"white\", \"minorgridcolor\": \"white\", \"startlinecolor\": \"#2a3f5f\"}, \"type\": \"carpet\"}], \"choropleth\": [{\"colorbar\": {\"outlinewidth\": 0, \"ticks\": \"\"}, \"type\": \"choropleth\"}], \"contour\": [{\"colorbar\": {\"outlinewidth\": 0, \"ticks\": \"\"}, \"colorscale\": [[0.0, \"#0d0887\"], [0.1111111111111111, \"#46039f\"], [0.2222222222222222, \"#7201a8\"], [0.3333333333333333, \"#9c179e\"], [0.4444444444444444, \"#bd3786\"], [0.5555555555555556, \"#d8576b\"], [0.6666666666666666, \"#ed7953\"], [0.7777777777777778, \"#fb9f3a\"], [0.8888888888888888, \"#fdca26\"], [1.0, \"#f0f921\"]], \"type\": \"contour\"}], \"contourcarpet\": [{\"colorbar\": {\"outlinewidth\": 0, \"ticks\": \"\"}, \"type\": \"contourcarpet\"}], \"heatmap\": [{\"colorbar\": {\"outlinewidth\": 0, \"ticks\": \"\"}, \"colorscale\": [[0.0, \"#0d0887\"], [0.1111111111111111, \"#46039f\"], [0.2222222222222222, \"#7201a8\"], [0.3333333333333333, \"#9c179e\"], [0.4444444444444444, \"#bd3786\"], [0.5555555555555556, \"#d8576b\"], [0.6666666666666666, \"#ed7953\"], [0.7777777777777778, \"#fb9f3a\"], [0.8888888888888888, \"#fdca26\"], [1.0, \"#f0f921\"]], \"type\": \"heatmap\"}], \"heatmapgl\": [{\"colorbar\": {\"outlinewidth\": 0, \"ticks\": \"\"}, \"colorscale\": [[0.0, \"#0d0887\"], [0.1111111111111111, \"#46039f\"], [0.2222222222222222, \"#7201a8\"], [0.3333333333333333, \"#9c179e\"], [0.4444444444444444, \"#bd3786\"], [0.5555555555555556, \"#d8576b\"], [0.6666666666666666, \"#ed7953\"], [0.7777777777777778, \"#fb9f3a\"], [0.8888888888888888, \"#fdca26\"], [1.0, \"#f0f921\"]], \"type\": \"heatmapgl\"}], \"histogram\": [{\"marker\": {\"colorbar\": {\"outlinewidth\": 0, \"ticks\": \"\"}}, \"type\": \"histogram\"}], \"histogram2d\": [{\"colorbar\": {\"outlinewidth\": 0, \"ticks\": \"\"}, \"colorscale\": [[0.0, \"#0d0887\"], [0.1111111111111111, \"#46039f\"], [0.2222222222222222, \"#7201a8\"], [0.3333333333333333, \"#9c179e\"], [0.4444444444444444, \"#bd3786\"], [0.5555555555555556, \"#d8576b\"], [0.6666666666666666, \"#ed7953\"], [0.7777777777777778, \"#fb9f3a\"], [0.8888888888888888, \"#fdca26\"], [1.0, \"#f0f921\"]], \"type\": \"histogram2d\"}], \"histogram2dcontour\": [{\"colorbar\": {\"outlinewidth\": 0, \"ticks\": \"\"}, \"colorscale\": [[0.0, \"#0d0887\"], [0.1111111111111111, \"#46039f\"], [0.2222222222222222, \"#7201a8\"], [0.3333333333333333, \"#9c179e\"], [0.4444444444444444, \"#bd3786\"], [0.5555555555555556, \"#d8576b\"], [0.6666666666666666, \"#ed7953\"], [0.7777777777777778, \"#fb9f3a\"], [0.8888888888888888, \"#fdca26\"], [1.0, \"#f0f921\"]], \"type\": \"histogram2dcontour\"}], \"mesh3d\": [{\"colorbar\": {\"outlinewidth\": 0, \"ticks\": \"\"}, \"type\": \"mesh3d\"}], \"parcoords\": [{\"line\": {\"colorbar\": {\"outlinewidth\": 0, \"ticks\": \"\"}}, \"type\": \"parcoords\"}], \"scatter\": [{\"marker\": {\"colorbar\": {\"outlinewidth\": 0, \"ticks\": \"\"}}, \"type\": \"scatter\"}], \"scatter3d\": [{\"line\": {\"colorbar\": {\"outlinewidth\": 0, \"ticks\": \"\"}}, \"marker\": {\"colorbar\": {\"outlinewidth\": 0, \"ticks\": \"\"}}, \"type\": \"scatter3d\"}], \"scattercarpet\": [{\"marker\": {\"colorbar\": {\"outlinewidth\": 0, \"ticks\": \"\"}}, \"type\": \"scattercarpet\"}], \"scattergeo\": [{\"marker\": {\"colorbar\": {\"outlinewidth\": 0, \"ticks\": \"\"}}, \"type\": \"scattergeo\"}], \"scattergl\": [{\"marker\": {\"colorbar\": {\"outlinewidth\": 0, \"ticks\": \"\"}}, \"type\": \"scattergl\"}], \"scattermapbox\": [{\"marker\": {\"colorbar\": {\"outlinewidth\": 0, \"ticks\": \"\"}}, \"type\": \"scattermapbox\"}], \"scatterpolar\": [{\"marker\": {\"colorbar\": {\"outlinewidth\": 0, \"ticks\": \"\"}}, \"type\": \"scatterpolar\"}], \"scatterpolargl\": [{\"marker\": {\"colorbar\": {\"outlinewidth\": 0, \"ticks\": \"\"}}, \"type\": \"scatterpolargl\"}], \"scatterternary\": [{\"marker\": {\"colorbar\": {\"outlinewidth\": 0, \"ticks\": \"\"}}, \"type\": \"scatterternary\"}], \"surface\": [{\"colorbar\": {\"outlinewidth\": 0, \"ticks\": \"\"}, \"colorscale\": [[0.0, \"#0d0887\"], [0.1111111111111111, \"#46039f\"], [0.2222222222222222, \"#7201a8\"], [0.3333333333333333, \"#9c179e\"], [0.4444444444444444, \"#bd3786\"], [0.5555555555555556, \"#d8576b\"], [0.6666666666666666, \"#ed7953\"], [0.7777777777777778, \"#fb9f3a\"], [0.8888888888888888, \"#fdca26\"], [1.0, \"#f0f921\"]], \"type\": \"surface\"}], \"table\": [{\"cells\": {\"fill\": {\"color\": \"#EBF0F8\"}, \"line\": {\"color\": \"white\"}}, \"header\": {\"fill\": {\"color\": \"#C8D4E3\"}, \"line\": {\"color\": \"white\"}}, \"type\": \"table\"}]}, \"layout\": {\"annotationdefaults\": {\"arrowcolor\": \"#2a3f5f\", \"arrowhead\": 0, \"arrowwidth\": 1}, \"colorscale\": {\"diverging\": [[0, \"#8e0152\"], [0.1, \"#c51b7d\"], [0.2, \"#de77ae\"], [0.3, \"#f1b6da\"], [0.4, \"#fde0ef\"], [0.5, \"#f7f7f7\"], [0.6, \"#e6f5d0\"], [0.7, \"#b8e186\"], [0.8, \"#7fbc41\"], [0.9, \"#4d9221\"], [1, \"#276419\"]], \"sequential\": [[0.0, \"#0d0887\"], [0.1111111111111111, \"#46039f\"], [0.2222222222222222, \"#7201a8\"], [0.3333333333333333, \"#9c179e\"], [0.4444444444444444, \"#bd3786\"], [0.5555555555555556, \"#d8576b\"], [0.6666666666666666, \"#ed7953\"], [0.7777777777777778, \"#fb9f3a\"], [0.8888888888888888, \"#fdca26\"], [1.0, \"#f0f921\"]], \"sequentialminus\": [[0.0, \"#0d0887\"], [0.1111111111111111, \"#46039f\"], [0.2222222222222222, \"#7201a8\"], [0.3333333333333333, \"#9c179e\"], [0.4444444444444444, \"#bd3786\"], [0.5555555555555556, \"#d8576b\"], [0.6666666666666666, \"#ed7953\"], [0.7777777777777778, \"#fb9f3a\"], [0.8888888888888888, \"#fdca26\"], [1.0, \"#f0f921\"]]}, \"colorway\": [\"#636efa\", \"#EF553B\", \"#00cc96\", \"#ab63fa\", \"#FFA15A\", \"#19d3f3\", \"#FF6692\", \"#B6E880\", \"#FF97FF\", \"#FECB52\"], \"font\": {\"color\": \"#2a3f5f\"}, \"geo\": {\"bgcolor\": \"white\", \"lakecolor\": \"white\", \"landcolor\": \"#E5ECF6\", \"showlakes\": true, \"showland\": true, \"subunitcolor\": \"white\"}, \"hoverlabel\": {\"align\": \"left\"}, \"hovermode\": \"closest\", \"mapbox\": {\"style\": \"light\"}, \"paper_bgcolor\": \"white\", \"plot_bgcolor\": \"#E5ECF6\", \"polar\": {\"angularaxis\": {\"gridcolor\": \"white\", \"linecolor\": \"white\", \"ticks\": \"\"}, \"bgcolor\": \"#E5ECF6\", \"radialaxis\": {\"gridcolor\": \"white\", \"linecolor\": \"white\", \"ticks\": \"\"}}, \"scene\": {\"xaxis\": {\"backgroundcolor\": \"#E5ECF6\", \"gridcolor\": \"white\", \"gridwidth\": 2, \"linecolor\": \"white\", \"showbackground\": true, \"ticks\": \"\", \"zerolinecolor\": \"white\"}, \"yaxis\": {\"backgroundcolor\": \"#E5ECF6\", \"gridcolor\": \"white\", \"gridwidth\": 2, \"linecolor\": \"white\", \"showbackground\": true, \"ticks\": \"\", \"zerolinecolor\": \"white\"}, \"zaxis\": {\"backgroundcolor\": \"#E5ECF6\", \"gridcolor\": \"white\", \"gridwidth\": 2, \"linecolor\": \"white\", \"showbackground\": true, \"ticks\": \"\", \"zerolinecolor\": \"white\"}}, \"shapedefaults\": {\"line\": {\"color\": \"#2a3f5f\"}}, \"ternary\": {\"aaxis\": {\"gridcolor\": \"white\", \"linecolor\": \"white\", \"ticks\": \"\"}, \"baxis\": {\"gridcolor\": \"white\", \"linecolor\": \"white\", \"ticks\": \"\"}, \"bgcolor\": \"#E5ECF6\", \"caxis\": {\"gridcolor\": \"white\", \"linecolor\": \"white\", \"ticks\": \"\"}}, \"title\": {\"x\": 0.05}, \"xaxis\": {\"automargin\": true, \"gridcolor\": \"white\", \"linecolor\": \"white\", \"ticks\": \"\", \"zerolinecolor\": \"white\", \"zerolinewidth\": 2}, \"yaxis\": {\"automargin\": true, \"gridcolor\": \"white\", \"linecolor\": \"white\", \"ticks\": \"\", \"zerolinecolor\": \"white\", \"zerolinewidth\": 2}}}, \"xaxis\": {\"anchor\": \"y\", \"domain\": [0.0, 0.98], \"title\": {\"text\": \"n_docs\"}}, \"yaxis\": {\"anchor\": \"x\", \"domain\": [0.0, 1.0], \"title\": {\"text\": \"len in words\"}}},\n",
       "                        {\"responsive\": true}\n",
       "                    ).then(function(){\n",
       "                            \n",
       "var gd = document.getElementById('2f6e10ac-e12d-4ee8-9044-b67c9714b087');\n",
       "var x = new MutationObserver(function (mutations, observer) {{\n",
       "        var display = window.getComputedStyle(gd).display;\n",
       "        if (!display || display === 'none') {{\n",
       "            console.log([gd, 'removed!']);\n",
       "            Plotly.purge(gd);\n",
       "            observer.disconnect();\n",
       "        }}\n",
       "}});\n",
       "\n",
       "// Listen for the removal of the full notebook cells\n",
       "var notebookContainer = gd.closest('#notebook-container');\n",
       "if (notebookContainer) {{\n",
       "    x.observe(notebookContainer, {childList: true});\n",
       "}}\n",
       "\n",
       "// Listen for the clearing of the current output cell\n",
       "var outputEl = gd.closest('.output');\n",
       "if (outputEl) {{\n",
       "    x.observe(outputEl, {childList: true});\n",
       "}}\n",
       "\n",
       "                        })\n",
       "                };\n",
       "                });\n",
       "            </script>\n",
       "        </div>"
      ]
     },
     "metadata": {},
     "output_type": "display_data"
    }
   ],
   "source": [
    "df = pd.DataFrame()\n",
    "df[\"n_docs\"] = kek.keys()\n",
    "df[\"len in words\"] = kek.values()\n",
    "\n",
    "px.bar(df, x=\"n_docs\", y=\"len in words\")"
   ]
  },
  {
   "cell_type": "code",
   "execution_count": 31,
   "metadata": {},
   "outputs": [
    {
     "name": "stdout",
     "output_type": "stream",
     "text": [
      "n_docs: 200000, average len in words: 0.01204361733264265\n"
     ]
    }
   ],
   "source": [
    "inf = open('bytelens.out', 'r')\n",
    "inf1 = open('wordlens.out', 'r')\n",
    "s = inf.readline()\n",
    "sm = 0\n",
    "ct = 0\n",
    "while len(s) > 0:\n",
    "    s1 = inf1.readline()\n",
    "    ln = int(s)\n",
    "    ln1 = int(s1)\n",
    "    if (ln == 0 and ln1 != 0):\n",
    "        print(ct)\n",
    "    sm += 1 if (ln == 0) else ln1 / ln\n",
    "    ct += 1\n",
    "    s = inf.readline()\n",
    "print('n_docs: {}, average len in words: {}'.format(ct, sm / ct))"
   ]
  },
  {
   "cell_type": "code",
   "execution_count": 8,
   "metadata": {},
   "outputs": [
    {
     "data": {
      "application/vnd.plotly.v1+json": {
       "config": {
        "plotlyServerURL": "https://plot.ly"
       },
       "data": [
        {
         "alignmentgroup": "True",
         "hoverlabel": {
          "namelength": 0
         },
         "hovertemplate": "n_docs=%{x}<br>len in bytes=%{y}",
         "legendgroup": "",
         "marker": {
          "color": "#636efa"
         },
         "name": "",
         "offsetgroup": "",
         "orientation": "v",
         "showlegend": false,
         "textposition": "auto",
         "type": "bar",
         "x": [
          130000,
          90000,
          320000,
          100000,
          270000,
          190000,
          590000,
          420000,
          10000,
          300000,
          70000,
          210000,
          180000,
          0,
          50000,
          60000,
          410000,
          400000,
          310000,
          30000,
          290000,
          160000,
          360000,
          20000,
          120000,
          80000,
          140000,
          110000,
          40000,
          150000,
          340000,
          280000,
          260000,
          170000,
          200000,
          460000,
          740000,
          250000,
          490000,
          430000,
          370000,
          520000,
          350000,
          220000,
          390000,
          500000,
          380000,
          530000,
          330000,
          810000,
          230000,
          240000,
          540000,
          550000,
          510000,
          2550000,
          450000,
          1720000,
          2010000,
          1280000,
          580000,
          2150000,
          440000,
          480000,
          470000,
          2080000,
          690000,
          660000,
          680000,
          800000,
          630000,
          640000,
          1770000,
          650000,
          700000,
          720000,
          670000,
          1440000,
          750000,
          710000,
          1150000,
          2130000,
          1130000,
          610000,
          1730000,
          3040000,
          3280000,
          1050000,
          870000,
          2720000,
          1530000,
          2360000,
          2180000,
          2160000,
          1830000,
          1110000,
          620000,
          1860000,
          1030000,
          840000,
          1070000,
          2750000,
          820000,
          2570000,
          2380000,
          600000,
          1220000,
          1600000,
          2660000,
          560000,
          570000,
          780000,
          760000,
          790000,
          890000,
          970000,
          770000,
          730000,
          2790000,
          1370000,
          1400000,
          1430000,
          2350000,
          2370000,
          2860000,
          980000,
          1620000,
          850000,
          1360000,
          2060000,
          1090000,
          3170000,
          1970000,
          1690000,
          1940000,
          830000,
          1670000,
          2870000,
          1180000,
          920000,
          1570000,
          910000,
          1080000,
          930000,
          3340000,
          3430000,
          3070000,
          1420000,
          3370000,
          1460000,
          3480000,
          990000,
          3200000,
          1630000,
          1010000,
          880000,
          3440000,
          1700000,
          2400000,
          1800000,
          1300000,
          860000,
          1780000,
          1380000,
          2260000,
          940000,
          2310000,
          1140000,
          1250000,
          1060000,
          1230000,
          1590000,
          960000,
          2000000,
          1650000,
          2320000,
          2990000,
          1540000,
          1840000,
          1200000,
          2440000,
          1760000,
          3790000,
          1240000,
          2230000,
          1190000,
          2900000,
          2190000,
          3300000,
          1850000,
          2340000,
          2420000,
          1610000,
          3690000,
          2920000,
          1310000,
          2410000,
          2850000,
          1790000,
          1890000,
          3180000,
          1820000,
          1550000,
          1340000,
          1270000,
          1000000,
          3670000,
          3390000,
          3190000,
          2690000,
          2460000,
          1500000,
          1450000,
          1520000,
          1470000,
          1410000,
          1290000,
          1390000,
          1040000,
          2210000,
          2520000,
          3150000,
          2480000,
          1810000,
          2300000,
          1210000,
          2600000,
          3290000,
          3120000,
          3010000,
          2450000,
          1490000,
          950000,
          2090000,
          2120000,
          1680000,
          1900000,
          1950000,
          3840000,
          2830000,
          3460000,
          2650000,
          2710000,
          3080000,
          2200000,
          2030000,
          2220000,
          2840000,
          2740000,
          3410000,
          2280000,
          2330000,
          2810000,
          1100000,
          1930000,
          2290000,
          2820000,
          1160000,
          3020000,
          1560000,
          1120000,
          1020000,
          2730000,
          2040000,
          1870000,
          1350000,
          3530000,
          2760000,
          1660000,
          900000,
          1320000,
          2700000,
          3160000,
          2540000,
          3500000,
          3270000,
          2500000,
          2020000,
          1510000,
          1640000,
          2390000,
          1750000,
          3230000,
          3250000,
          3330000,
          3420000,
          3240000,
          2970000,
          3640000,
          3100000,
          1980000,
          1170000,
          1880000,
          2680000,
          1580000,
          3720000,
          3220000,
          3580000,
          2630000,
          2580000,
          3810000,
          3360000,
          3000000,
          2270000,
          2910000,
          3210000,
          2050000,
          3590000,
          2110000,
          2590000,
          2490000,
          3090000,
          1260000,
          3660000,
          2470000,
          1740000,
          1480000,
          2100000,
          3520000,
          3820000,
          3700000,
          2670000,
          2770000,
          3380000,
          2140000,
          3780000,
          2620000,
          3540000,
          2980000
         ],
         "xaxis": "x",
         "y": [
          2943,
          5806,
          673,
          4732,
          968,
          1402,
          75,
          299,
          17136,
          833,
          8492,
          1136,
          1482,
          60779,
          8641,
          7615,
          337,
          324,
          768,
          10647,
          926,
          2064,
          523,
          12061,
          3521,
          6977,
          2946,
          4276,
          8841,
          2867,
          501,
          994,
          1138,
          1727,
          1230,
          364,
          24,
          2289,
          233,
          311,
          469,
          293,
          615,
          1190,
          361,
          240,
          350,
          476,
          507,
          22,
          1056,
          1364,
          219,
          168,
          258,
          2,
          333,
          5,
          3,
          4,
          98,
          4,
          259,
          205,
          329,
          3,
          53,
          99,
          57,
          22,
          105,
          77,
          2,
          68,
          39,
          42,
          65,
          12,
          26,
          87,
          18,
          1,
          9,
          112,
          3,
          2,
          1,
          10,
          8,
          3,
          6,
          2,
          5,
          3,
          5,
          11,
          95,
          2,
          6,
          11,
          7,
          4,
          25,
          3,
          4,
          84,
          3,
          2,
          1,
          137,
          105,
          15,
          21,
          24,
          13,
          11,
          21,
          44,
          1,
          13,
          6,
          3,
          2,
          4,
          3,
          8,
          3,
          15,
          6,
          2,
          4,
          3,
          4,
          6,
          6,
          14,
          2,
          2,
          7,
          8,
          7,
          12,
          5,
          6,
          2,
          1,
          1,
          5,
          1,
          5,
          3,
          4,
          2,
          3,
          7,
          13,
          5,
          6,
          3,
          2,
          7,
          8,
          2,
          3,
          2,
          14,
          2,
          9,
          6,
          5,
          3,
          4,
          12,
          2,
          2,
          1,
          1,
          4,
          1,
          4,
          3,
          2,
          2,
          4,
          2,
          8,
          1,
          1,
          1,
          2,
          2,
          2,
          2,
          1,
          1,
          2,
          3,
          2,
          2,
          1,
          2,
          4,
          4,
          4,
          7,
          6,
          1,
          4,
          1,
          2,
          1,
          4,
          2,
          7,
          5,
          7,
          6,
          4,
          5,
          3,
          2,
          3,
          5,
          1,
          3,
          10,
          1,
          3,
          1,
          2,
          2,
          2,
          10,
          5,
          2,
          3,
          2,
          3,
          1,
          2,
          3,
          2,
          2,
          1,
          1,
          1,
          3,
          1,
          3,
          2,
          2,
          4,
          2,
          11,
          3,
          2,
          1,
          3,
          4,
          4,
          5,
          4,
          1,
          3,
          5,
          1,
          2,
          1,
          3,
          5,
          2,
          4,
          1,
          2,
          1,
          1,
          1,
          4,
          1,
          2,
          2,
          4,
          1,
          2,
          2,
          2,
          2,
          1,
          1,
          2,
          3,
          4,
          1,
          2,
          4,
          2,
          2,
          1,
          1,
          1,
          2,
          1,
          2,
          2,
          1,
          2,
          2,
          2,
          2,
          1,
          1,
          1,
          1,
          2,
          1,
          1,
          2,
          1,
          1,
          1,
          1,
          1,
          1,
          1,
          1,
          1,
          1,
          1,
          1
         ],
         "yaxis": "y"
        }
       ],
       "layout": {
        "barmode": "relative",
        "height": 600,
        "legend": {
         "tracegroupgap": 0
        },
        "margin": {
         "t": 60
        },
        "template": {
         "data": {
          "bar": [
           {
            "error_x": {
             "color": "#2a3f5f"
            },
            "error_y": {
             "color": "#2a3f5f"
            },
            "marker": {
             "line": {
              "color": "#E5ECF6",
              "width": 0.5
             }
            },
            "type": "bar"
           }
          ],
          "barpolar": [
           {
            "marker": {
             "line": {
              "color": "#E5ECF6",
              "width": 0.5
             }
            },
            "type": "barpolar"
           }
          ],
          "carpet": [
           {
            "aaxis": {
             "endlinecolor": "#2a3f5f",
             "gridcolor": "white",
             "linecolor": "white",
             "minorgridcolor": "white",
             "startlinecolor": "#2a3f5f"
            },
            "baxis": {
             "endlinecolor": "#2a3f5f",
             "gridcolor": "white",
             "linecolor": "white",
             "minorgridcolor": "white",
             "startlinecolor": "#2a3f5f"
            },
            "type": "carpet"
           }
          ],
          "choropleth": [
           {
            "colorbar": {
             "outlinewidth": 0,
             "ticks": ""
            },
            "type": "choropleth"
           }
          ],
          "contour": [
           {
            "colorbar": {
             "outlinewidth": 0,
             "ticks": ""
            },
            "colorscale": [
             [
              0,
              "#0d0887"
             ],
             [
              0.1111111111111111,
              "#46039f"
             ],
             [
              0.2222222222222222,
              "#7201a8"
             ],
             [
              0.3333333333333333,
              "#9c179e"
             ],
             [
              0.4444444444444444,
              "#bd3786"
             ],
             [
              0.5555555555555556,
              "#d8576b"
             ],
             [
              0.6666666666666666,
              "#ed7953"
             ],
             [
              0.7777777777777778,
              "#fb9f3a"
             ],
             [
              0.8888888888888888,
              "#fdca26"
             ],
             [
              1,
              "#f0f921"
             ]
            ],
            "type": "contour"
           }
          ],
          "contourcarpet": [
           {
            "colorbar": {
             "outlinewidth": 0,
             "ticks": ""
            },
            "type": "contourcarpet"
           }
          ],
          "heatmap": [
           {
            "colorbar": {
             "outlinewidth": 0,
             "ticks": ""
            },
            "colorscale": [
             [
              0,
              "#0d0887"
             ],
             [
              0.1111111111111111,
              "#46039f"
             ],
             [
              0.2222222222222222,
              "#7201a8"
             ],
             [
              0.3333333333333333,
              "#9c179e"
             ],
             [
              0.4444444444444444,
              "#bd3786"
             ],
             [
              0.5555555555555556,
              "#d8576b"
             ],
             [
              0.6666666666666666,
              "#ed7953"
             ],
             [
              0.7777777777777778,
              "#fb9f3a"
             ],
             [
              0.8888888888888888,
              "#fdca26"
             ],
             [
              1,
              "#f0f921"
             ]
            ],
            "type": "heatmap"
           }
          ],
          "heatmapgl": [
           {
            "colorbar": {
             "outlinewidth": 0,
             "ticks": ""
            },
            "colorscale": [
             [
              0,
              "#0d0887"
             ],
             [
              0.1111111111111111,
              "#46039f"
             ],
             [
              0.2222222222222222,
              "#7201a8"
             ],
             [
              0.3333333333333333,
              "#9c179e"
             ],
             [
              0.4444444444444444,
              "#bd3786"
             ],
             [
              0.5555555555555556,
              "#d8576b"
             ],
             [
              0.6666666666666666,
              "#ed7953"
             ],
             [
              0.7777777777777778,
              "#fb9f3a"
             ],
             [
              0.8888888888888888,
              "#fdca26"
             ],
             [
              1,
              "#f0f921"
             ]
            ],
            "type": "heatmapgl"
           }
          ],
          "histogram": [
           {
            "marker": {
             "colorbar": {
              "outlinewidth": 0,
              "ticks": ""
             }
            },
            "type": "histogram"
           }
          ],
          "histogram2d": [
           {
            "colorbar": {
             "outlinewidth": 0,
             "ticks": ""
            },
            "colorscale": [
             [
              0,
              "#0d0887"
             ],
             [
              0.1111111111111111,
              "#46039f"
             ],
             [
              0.2222222222222222,
              "#7201a8"
             ],
             [
              0.3333333333333333,
              "#9c179e"
             ],
             [
              0.4444444444444444,
              "#bd3786"
             ],
             [
              0.5555555555555556,
              "#d8576b"
             ],
             [
              0.6666666666666666,
              "#ed7953"
             ],
             [
              0.7777777777777778,
              "#fb9f3a"
             ],
             [
              0.8888888888888888,
              "#fdca26"
             ],
             [
              1,
              "#f0f921"
             ]
            ],
            "type": "histogram2d"
           }
          ],
          "histogram2dcontour": [
           {
            "colorbar": {
             "outlinewidth": 0,
             "ticks": ""
            },
            "colorscale": [
             [
              0,
              "#0d0887"
             ],
             [
              0.1111111111111111,
              "#46039f"
             ],
             [
              0.2222222222222222,
              "#7201a8"
             ],
             [
              0.3333333333333333,
              "#9c179e"
             ],
             [
              0.4444444444444444,
              "#bd3786"
             ],
             [
              0.5555555555555556,
              "#d8576b"
             ],
             [
              0.6666666666666666,
              "#ed7953"
             ],
             [
              0.7777777777777778,
              "#fb9f3a"
             ],
             [
              0.8888888888888888,
              "#fdca26"
             ],
             [
              1,
              "#f0f921"
             ]
            ],
            "type": "histogram2dcontour"
           }
          ],
          "mesh3d": [
           {
            "colorbar": {
             "outlinewidth": 0,
             "ticks": ""
            },
            "type": "mesh3d"
           }
          ],
          "parcoords": [
           {
            "line": {
             "colorbar": {
              "outlinewidth": 0,
              "ticks": ""
             }
            },
            "type": "parcoords"
           }
          ],
          "scatter": [
           {
            "marker": {
             "colorbar": {
              "outlinewidth": 0,
              "ticks": ""
             }
            },
            "type": "scatter"
           }
          ],
          "scatter3d": [
           {
            "line": {
             "colorbar": {
              "outlinewidth": 0,
              "ticks": ""
             }
            },
            "marker": {
             "colorbar": {
              "outlinewidth": 0,
              "ticks": ""
             }
            },
            "type": "scatter3d"
           }
          ],
          "scattercarpet": [
           {
            "marker": {
             "colorbar": {
              "outlinewidth": 0,
              "ticks": ""
             }
            },
            "type": "scattercarpet"
           }
          ],
          "scattergeo": [
           {
            "marker": {
             "colorbar": {
              "outlinewidth": 0,
              "ticks": ""
             }
            },
            "type": "scattergeo"
           }
          ],
          "scattergl": [
           {
            "marker": {
             "colorbar": {
              "outlinewidth": 0,
              "ticks": ""
             }
            },
            "type": "scattergl"
           }
          ],
          "scattermapbox": [
           {
            "marker": {
             "colorbar": {
              "outlinewidth": 0,
              "ticks": ""
             }
            },
            "type": "scattermapbox"
           }
          ],
          "scatterpolar": [
           {
            "marker": {
             "colorbar": {
              "outlinewidth": 0,
              "ticks": ""
             }
            },
            "type": "scatterpolar"
           }
          ],
          "scatterpolargl": [
           {
            "marker": {
             "colorbar": {
              "outlinewidth": 0,
              "ticks": ""
             }
            },
            "type": "scatterpolargl"
           }
          ],
          "scatterternary": [
           {
            "marker": {
             "colorbar": {
              "outlinewidth": 0,
              "ticks": ""
             }
            },
            "type": "scatterternary"
           }
          ],
          "surface": [
           {
            "colorbar": {
             "outlinewidth": 0,
             "ticks": ""
            },
            "colorscale": [
             [
              0,
              "#0d0887"
             ],
             [
              0.1111111111111111,
              "#46039f"
             ],
             [
              0.2222222222222222,
              "#7201a8"
             ],
             [
              0.3333333333333333,
              "#9c179e"
             ],
             [
              0.4444444444444444,
              "#bd3786"
             ],
             [
              0.5555555555555556,
              "#d8576b"
             ],
             [
              0.6666666666666666,
              "#ed7953"
             ],
             [
              0.7777777777777778,
              "#fb9f3a"
             ],
             [
              0.8888888888888888,
              "#fdca26"
             ],
             [
              1,
              "#f0f921"
             ]
            ],
            "type": "surface"
           }
          ],
          "table": [
           {
            "cells": {
             "fill": {
              "color": "#EBF0F8"
             },
             "line": {
              "color": "white"
             }
            },
            "header": {
             "fill": {
              "color": "#C8D4E3"
             },
             "line": {
              "color": "white"
             }
            },
            "type": "table"
           }
          ]
         },
         "layout": {
          "annotationdefaults": {
           "arrowcolor": "#2a3f5f",
           "arrowhead": 0,
           "arrowwidth": 1
          },
          "colorscale": {
           "diverging": [
            [
             0,
             "#8e0152"
            ],
            [
             0.1,
             "#c51b7d"
            ],
            [
             0.2,
             "#de77ae"
            ],
            [
             0.3,
             "#f1b6da"
            ],
            [
             0.4,
             "#fde0ef"
            ],
            [
             0.5,
             "#f7f7f7"
            ],
            [
             0.6,
             "#e6f5d0"
            ],
            [
             0.7,
             "#b8e186"
            ],
            [
             0.8,
             "#7fbc41"
            ],
            [
             0.9,
             "#4d9221"
            ],
            [
             1,
             "#276419"
            ]
           ],
           "sequential": [
            [
             0,
             "#0d0887"
            ],
            [
             0.1111111111111111,
             "#46039f"
            ],
            [
             0.2222222222222222,
             "#7201a8"
            ],
            [
             0.3333333333333333,
             "#9c179e"
            ],
            [
             0.4444444444444444,
             "#bd3786"
            ],
            [
             0.5555555555555556,
             "#d8576b"
            ],
            [
             0.6666666666666666,
             "#ed7953"
            ],
            [
             0.7777777777777778,
             "#fb9f3a"
            ],
            [
             0.8888888888888888,
             "#fdca26"
            ],
            [
             1,
             "#f0f921"
            ]
           ],
           "sequentialminus": [
            [
             0,
             "#0d0887"
            ],
            [
             0.1111111111111111,
             "#46039f"
            ],
            [
             0.2222222222222222,
             "#7201a8"
            ],
            [
             0.3333333333333333,
             "#9c179e"
            ],
            [
             0.4444444444444444,
             "#bd3786"
            ],
            [
             0.5555555555555556,
             "#d8576b"
            ],
            [
             0.6666666666666666,
             "#ed7953"
            ],
            [
             0.7777777777777778,
             "#fb9f3a"
            ],
            [
             0.8888888888888888,
             "#fdca26"
            ],
            [
             1,
             "#f0f921"
            ]
           ]
          },
          "colorway": [
           "#636efa",
           "#EF553B",
           "#00cc96",
           "#ab63fa",
           "#FFA15A",
           "#19d3f3",
           "#FF6692",
           "#B6E880",
           "#FF97FF",
           "#FECB52"
          ],
          "font": {
           "color": "#2a3f5f"
          },
          "geo": {
           "bgcolor": "white",
           "lakecolor": "white",
           "landcolor": "#E5ECF6",
           "showlakes": true,
           "showland": true,
           "subunitcolor": "white"
          },
          "hoverlabel": {
           "align": "left"
          },
          "hovermode": "closest",
          "mapbox": {
           "style": "light"
          },
          "paper_bgcolor": "white",
          "plot_bgcolor": "#E5ECF6",
          "polar": {
           "angularaxis": {
            "gridcolor": "white",
            "linecolor": "white",
            "ticks": ""
           },
           "bgcolor": "#E5ECF6",
           "radialaxis": {
            "gridcolor": "white",
            "linecolor": "white",
            "ticks": ""
           }
          },
          "scene": {
           "xaxis": {
            "backgroundcolor": "#E5ECF6",
            "gridcolor": "white",
            "gridwidth": 2,
            "linecolor": "white",
            "showbackground": true,
            "ticks": "",
            "zerolinecolor": "white"
           },
           "yaxis": {
            "backgroundcolor": "#E5ECF6",
            "gridcolor": "white",
            "gridwidth": 2,
            "linecolor": "white",
            "showbackground": true,
            "ticks": "",
            "zerolinecolor": "white"
           },
           "zaxis": {
            "backgroundcolor": "#E5ECF6",
            "gridcolor": "white",
            "gridwidth": 2,
            "linecolor": "white",
            "showbackground": true,
            "ticks": "",
            "zerolinecolor": "white"
           }
          },
          "shapedefaults": {
           "line": {
            "color": "#2a3f5f"
           }
          },
          "ternary": {
           "aaxis": {
            "gridcolor": "white",
            "linecolor": "white",
            "ticks": ""
           },
           "baxis": {
            "gridcolor": "white",
            "linecolor": "white",
            "ticks": ""
           },
           "bgcolor": "#E5ECF6",
           "caxis": {
            "gridcolor": "white",
            "linecolor": "white",
            "ticks": ""
           }
          },
          "title": {
           "x": 0.05
          },
          "xaxis": {
           "automargin": true,
           "gridcolor": "white",
           "linecolor": "white",
           "ticks": "",
           "zerolinecolor": "white",
           "zerolinewidth": 2
          },
          "yaxis": {
           "automargin": true,
           "gridcolor": "white",
           "linecolor": "white",
           "ticks": "",
           "zerolinecolor": "white",
           "zerolinewidth": 2
          }
         }
        },
        "xaxis": {
         "anchor": "y",
         "domain": [
          0,
          0.98
         ],
         "title": {
          "text": "n_docs"
         }
        },
        "yaxis": {
         "anchor": "x",
         "domain": [
          0,
          1
         ],
         "title": {
          "text": "len in bytes"
         }
        }
       }
      },
      "text/html": [
       "<div>\n",
       "        \n",
       "        \n",
       "            <div id=\"eaab2a1c-3668-4c33-9867-69abd1229d4e\" class=\"plotly-graph-div\" style=\"height:600px; width:100%;\"></div>\n",
       "            <script type=\"text/javascript\">\n",
       "                require([\"plotly\"], function(Plotly) {\n",
       "                    window.PLOTLYENV=window.PLOTLYENV || {};\n",
       "                    \n",
       "                if (document.getElementById(\"eaab2a1c-3668-4c33-9867-69abd1229d4e\")) {\n",
       "                    Plotly.newPlot(\n",
       "                        'eaab2a1c-3668-4c33-9867-69abd1229d4e',\n",
       "                        [{\"alignmentgroup\": \"True\", \"hoverlabel\": {\"namelength\": 0}, \"hovertemplate\": \"n_docs=%{x}<br>len in bytes=%{y}\", \"legendgroup\": \"\", \"marker\": {\"color\": \"#636efa\"}, \"name\": \"\", \"offsetgroup\": \"\", \"orientation\": \"v\", \"showlegend\": false, \"textposition\": \"auto\", \"type\": \"bar\", \"x\": [130000, 90000, 320000, 100000, 270000, 190000, 590000, 420000, 10000, 300000, 70000, 210000, 180000, 0, 50000, 60000, 410000, 400000, 310000, 30000, 290000, 160000, 360000, 20000, 120000, 80000, 140000, 110000, 40000, 150000, 340000, 280000, 260000, 170000, 200000, 460000, 740000, 250000, 490000, 430000, 370000, 520000, 350000, 220000, 390000, 500000, 380000, 530000, 330000, 810000, 230000, 240000, 540000, 550000, 510000, 2550000, 450000, 1720000, 2010000, 1280000, 580000, 2150000, 440000, 480000, 470000, 2080000, 690000, 660000, 680000, 800000, 630000, 640000, 1770000, 650000, 700000, 720000, 670000, 1440000, 750000, 710000, 1150000, 2130000, 1130000, 610000, 1730000, 3040000, 3280000, 1050000, 870000, 2720000, 1530000, 2360000, 2180000, 2160000, 1830000, 1110000, 620000, 1860000, 1030000, 840000, 1070000, 2750000, 820000, 2570000, 2380000, 600000, 1220000, 1600000, 2660000, 560000, 570000, 780000, 760000, 790000, 890000, 970000, 770000, 730000, 2790000, 1370000, 1400000, 1430000, 2350000, 2370000, 2860000, 980000, 1620000, 850000, 1360000, 2060000, 1090000, 3170000, 1970000, 1690000, 1940000, 830000, 1670000, 2870000, 1180000, 920000, 1570000, 910000, 1080000, 930000, 3340000, 3430000, 3070000, 1420000, 3370000, 1460000, 3480000, 990000, 3200000, 1630000, 1010000, 880000, 3440000, 1700000, 2400000, 1800000, 1300000, 860000, 1780000, 1380000, 2260000, 940000, 2310000, 1140000, 1250000, 1060000, 1230000, 1590000, 960000, 2000000, 1650000, 2320000, 2990000, 1540000, 1840000, 1200000, 2440000, 1760000, 3790000, 1240000, 2230000, 1190000, 2900000, 2190000, 3300000, 1850000, 2340000, 2420000, 1610000, 3690000, 2920000, 1310000, 2410000, 2850000, 1790000, 1890000, 3180000, 1820000, 1550000, 1340000, 1270000, 1000000, 3670000, 3390000, 3190000, 2690000, 2460000, 1500000, 1450000, 1520000, 1470000, 1410000, 1290000, 1390000, 1040000, 2210000, 2520000, 3150000, 2480000, 1810000, 2300000, 1210000, 2600000, 3290000, 3120000, 3010000, 2450000, 1490000, 950000, 2090000, 2120000, 1680000, 1900000, 1950000, 3840000, 2830000, 3460000, 2650000, 2710000, 3080000, 2200000, 2030000, 2220000, 2840000, 2740000, 3410000, 2280000, 2330000, 2810000, 1100000, 1930000, 2290000, 2820000, 1160000, 3020000, 1560000, 1120000, 1020000, 2730000, 2040000, 1870000, 1350000, 3530000, 2760000, 1660000, 900000, 1320000, 2700000, 3160000, 2540000, 3500000, 3270000, 2500000, 2020000, 1510000, 1640000, 2390000, 1750000, 3230000, 3250000, 3330000, 3420000, 3240000, 2970000, 3640000, 3100000, 1980000, 1170000, 1880000, 2680000, 1580000, 3720000, 3220000, 3580000, 2630000, 2580000, 3810000, 3360000, 3000000, 2270000, 2910000, 3210000, 2050000, 3590000, 2110000, 2590000, 2490000, 3090000, 1260000, 3660000, 2470000, 1740000, 1480000, 2100000, 3520000, 3820000, 3700000, 2670000, 2770000, 3380000, 2140000, 3780000, 2620000, 3540000, 2980000], \"xaxis\": \"x\", \"y\": [2943, 5806, 673, 4732, 968, 1402, 75, 299, 17136, 833, 8492, 1136, 1482, 60779, 8641, 7615, 337, 324, 768, 10647, 926, 2064, 523, 12061, 3521, 6977, 2946, 4276, 8841, 2867, 501, 994, 1138, 1727, 1230, 364, 24, 2289, 233, 311, 469, 293, 615, 1190, 361, 240, 350, 476, 507, 22, 1056, 1364, 219, 168, 258, 2, 333, 5, 3, 4, 98, 4, 259, 205, 329, 3, 53, 99, 57, 22, 105, 77, 2, 68, 39, 42, 65, 12, 26, 87, 18, 1, 9, 112, 3, 2, 1, 10, 8, 3, 6, 2, 5, 3, 5, 11, 95, 2, 6, 11, 7, 4, 25, 3, 4, 84, 3, 2, 1, 137, 105, 15, 21, 24, 13, 11, 21, 44, 1, 13, 6, 3, 2, 4, 3, 8, 3, 15, 6, 2, 4, 3, 4, 6, 6, 14, 2, 2, 7, 8, 7, 12, 5, 6, 2, 1, 1, 5, 1, 5, 3, 4, 2, 3, 7, 13, 5, 6, 3, 2, 7, 8, 2, 3, 2, 14, 2, 9, 6, 5, 3, 4, 12, 2, 2, 1, 1, 4, 1, 4, 3, 2, 2, 4, 2, 8, 1, 1, 1, 2, 2, 2, 2, 1, 1, 2, 3, 2, 2, 1, 2, 4, 4, 4, 7, 6, 1, 4, 1, 2, 1, 4, 2, 7, 5, 7, 6, 4, 5, 3, 2, 3, 5, 1, 3, 10, 1, 3, 1, 2, 2, 2, 10, 5, 2, 3, 2, 3, 1, 2, 3, 2, 2, 1, 1, 1, 3, 1, 3, 2, 2, 4, 2, 11, 3, 2, 1, 3, 4, 4, 5, 4, 1, 3, 5, 1, 2, 1, 3, 5, 2, 4, 1, 2, 1, 1, 1, 4, 1, 2, 2, 4, 1, 2, 2, 2, 2, 1, 1, 2, 3, 4, 1, 2, 4, 2, 2, 1, 1, 1, 2, 1, 2, 2, 1, 2, 2, 2, 2, 1, 1, 1, 1, 2, 1, 1, 2, 1, 1, 1, 1, 1, 1, 1, 1, 1, 1, 1, 1], \"yaxis\": \"y\"}],\n",
       "                        {\"barmode\": \"relative\", \"height\": 600, \"legend\": {\"tracegroupgap\": 0}, \"margin\": {\"t\": 60}, \"template\": {\"data\": {\"bar\": [{\"error_x\": {\"color\": \"#2a3f5f\"}, \"error_y\": {\"color\": \"#2a3f5f\"}, \"marker\": {\"line\": {\"color\": \"#E5ECF6\", \"width\": 0.5}}, \"type\": \"bar\"}], \"barpolar\": [{\"marker\": {\"line\": {\"color\": \"#E5ECF6\", \"width\": 0.5}}, \"type\": \"barpolar\"}], \"carpet\": [{\"aaxis\": {\"endlinecolor\": \"#2a3f5f\", \"gridcolor\": \"white\", \"linecolor\": \"white\", \"minorgridcolor\": \"white\", \"startlinecolor\": \"#2a3f5f\"}, \"baxis\": {\"endlinecolor\": \"#2a3f5f\", \"gridcolor\": \"white\", \"linecolor\": \"white\", \"minorgridcolor\": \"white\", \"startlinecolor\": \"#2a3f5f\"}, \"type\": \"carpet\"}], \"choropleth\": [{\"colorbar\": {\"outlinewidth\": 0, \"ticks\": \"\"}, \"type\": \"choropleth\"}], \"contour\": [{\"colorbar\": {\"outlinewidth\": 0, \"ticks\": \"\"}, \"colorscale\": [[0.0, \"#0d0887\"], [0.1111111111111111, \"#46039f\"], [0.2222222222222222, \"#7201a8\"], [0.3333333333333333, \"#9c179e\"], [0.4444444444444444, \"#bd3786\"], [0.5555555555555556, \"#d8576b\"], [0.6666666666666666, \"#ed7953\"], [0.7777777777777778, \"#fb9f3a\"], [0.8888888888888888, \"#fdca26\"], [1.0, \"#f0f921\"]], \"type\": \"contour\"}], \"contourcarpet\": [{\"colorbar\": {\"outlinewidth\": 0, \"ticks\": \"\"}, \"type\": \"contourcarpet\"}], \"heatmap\": [{\"colorbar\": {\"outlinewidth\": 0, \"ticks\": \"\"}, \"colorscale\": [[0.0, \"#0d0887\"], [0.1111111111111111, \"#46039f\"], [0.2222222222222222, \"#7201a8\"], [0.3333333333333333, \"#9c179e\"], [0.4444444444444444, \"#bd3786\"], [0.5555555555555556, \"#d8576b\"], [0.6666666666666666, \"#ed7953\"], [0.7777777777777778, \"#fb9f3a\"], [0.8888888888888888, \"#fdca26\"], [1.0, \"#f0f921\"]], \"type\": \"heatmap\"}], \"heatmapgl\": [{\"colorbar\": {\"outlinewidth\": 0, \"ticks\": \"\"}, \"colorscale\": [[0.0, \"#0d0887\"], [0.1111111111111111, \"#46039f\"], [0.2222222222222222, \"#7201a8\"], [0.3333333333333333, \"#9c179e\"], [0.4444444444444444, \"#bd3786\"], [0.5555555555555556, \"#d8576b\"], [0.6666666666666666, \"#ed7953\"], [0.7777777777777778, \"#fb9f3a\"], [0.8888888888888888, \"#fdca26\"], [1.0, \"#f0f921\"]], \"type\": \"heatmapgl\"}], \"histogram\": [{\"marker\": {\"colorbar\": {\"outlinewidth\": 0, \"ticks\": \"\"}}, \"type\": \"histogram\"}], \"histogram2d\": [{\"colorbar\": {\"outlinewidth\": 0, \"ticks\": \"\"}, \"colorscale\": [[0.0, \"#0d0887\"], [0.1111111111111111, \"#46039f\"], [0.2222222222222222, \"#7201a8\"], [0.3333333333333333, \"#9c179e\"], [0.4444444444444444, \"#bd3786\"], [0.5555555555555556, \"#d8576b\"], [0.6666666666666666, \"#ed7953\"], [0.7777777777777778, \"#fb9f3a\"], [0.8888888888888888, \"#fdca26\"], [1.0, \"#f0f921\"]], \"type\": \"histogram2d\"}], \"histogram2dcontour\": [{\"colorbar\": {\"outlinewidth\": 0, \"ticks\": \"\"}, \"colorscale\": [[0.0, \"#0d0887\"], [0.1111111111111111, \"#46039f\"], [0.2222222222222222, \"#7201a8\"], [0.3333333333333333, \"#9c179e\"], [0.4444444444444444, \"#bd3786\"], [0.5555555555555556, \"#d8576b\"], [0.6666666666666666, \"#ed7953\"], [0.7777777777777778, \"#fb9f3a\"], [0.8888888888888888, \"#fdca26\"], [1.0, \"#f0f921\"]], \"type\": \"histogram2dcontour\"}], \"mesh3d\": [{\"colorbar\": {\"outlinewidth\": 0, \"ticks\": \"\"}, \"type\": \"mesh3d\"}], \"parcoords\": [{\"line\": {\"colorbar\": {\"outlinewidth\": 0, \"ticks\": \"\"}}, \"type\": \"parcoords\"}], \"scatter\": [{\"marker\": {\"colorbar\": {\"outlinewidth\": 0, \"ticks\": \"\"}}, \"type\": \"scatter\"}], \"scatter3d\": [{\"line\": {\"colorbar\": {\"outlinewidth\": 0, \"ticks\": \"\"}}, \"marker\": {\"colorbar\": {\"outlinewidth\": 0, \"ticks\": \"\"}}, \"type\": \"scatter3d\"}], \"scattercarpet\": [{\"marker\": {\"colorbar\": {\"outlinewidth\": 0, \"ticks\": \"\"}}, \"type\": \"scattercarpet\"}], \"scattergeo\": [{\"marker\": {\"colorbar\": {\"outlinewidth\": 0, \"ticks\": \"\"}}, \"type\": \"scattergeo\"}], \"scattergl\": [{\"marker\": {\"colorbar\": {\"outlinewidth\": 0, \"ticks\": \"\"}}, \"type\": \"scattergl\"}], \"scattermapbox\": [{\"marker\": {\"colorbar\": {\"outlinewidth\": 0, \"ticks\": \"\"}}, \"type\": \"scattermapbox\"}], \"scatterpolar\": [{\"marker\": {\"colorbar\": {\"outlinewidth\": 0, \"ticks\": \"\"}}, \"type\": \"scatterpolar\"}], \"scatterpolargl\": [{\"marker\": {\"colorbar\": {\"outlinewidth\": 0, \"ticks\": \"\"}}, \"type\": \"scatterpolargl\"}], \"scatterternary\": [{\"marker\": {\"colorbar\": {\"outlinewidth\": 0, \"ticks\": \"\"}}, \"type\": \"scatterternary\"}], \"surface\": [{\"colorbar\": {\"outlinewidth\": 0, \"ticks\": \"\"}, \"colorscale\": [[0.0, \"#0d0887\"], [0.1111111111111111, \"#46039f\"], [0.2222222222222222, \"#7201a8\"], [0.3333333333333333, \"#9c179e\"], [0.4444444444444444, \"#bd3786\"], [0.5555555555555556, \"#d8576b\"], [0.6666666666666666, \"#ed7953\"], [0.7777777777777778, \"#fb9f3a\"], [0.8888888888888888, \"#fdca26\"], [1.0, \"#f0f921\"]], \"type\": \"surface\"}], \"table\": [{\"cells\": {\"fill\": {\"color\": \"#EBF0F8\"}, \"line\": {\"color\": \"white\"}}, \"header\": {\"fill\": {\"color\": \"#C8D4E3\"}, \"line\": {\"color\": \"white\"}}, \"type\": \"table\"}]}, \"layout\": {\"annotationdefaults\": {\"arrowcolor\": \"#2a3f5f\", \"arrowhead\": 0, \"arrowwidth\": 1}, \"colorscale\": {\"diverging\": [[0, \"#8e0152\"], [0.1, \"#c51b7d\"], [0.2, \"#de77ae\"], [0.3, \"#f1b6da\"], [0.4, \"#fde0ef\"], [0.5, \"#f7f7f7\"], [0.6, \"#e6f5d0\"], [0.7, \"#b8e186\"], [0.8, \"#7fbc41\"], [0.9, \"#4d9221\"], [1, \"#276419\"]], \"sequential\": [[0.0, \"#0d0887\"], [0.1111111111111111, \"#46039f\"], [0.2222222222222222, \"#7201a8\"], [0.3333333333333333, \"#9c179e\"], [0.4444444444444444, \"#bd3786\"], [0.5555555555555556, \"#d8576b\"], [0.6666666666666666, \"#ed7953\"], [0.7777777777777778, \"#fb9f3a\"], [0.8888888888888888, \"#fdca26\"], [1.0, \"#f0f921\"]], \"sequentialminus\": [[0.0, \"#0d0887\"], [0.1111111111111111, \"#46039f\"], [0.2222222222222222, \"#7201a8\"], [0.3333333333333333, \"#9c179e\"], [0.4444444444444444, \"#bd3786\"], [0.5555555555555556, \"#d8576b\"], [0.6666666666666666, \"#ed7953\"], [0.7777777777777778, \"#fb9f3a\"], [0.8888888888888888, \"#fdca26\"], [1.0, \"#f0f921\"]]}, \"colorway\": [\"#636efa\", \"#EF553B\", \"#00cc96\", \"#ab63fa\", \"#FFA15A\", \"#19d3f3\", \"#FF6692\", \"#B6E880\", \"#FF97FF\", \"#FECB52\"], \"font\": {\"color\": \"#2a3f5f\"}, \"geo\": {\"bgcolor\": \"white\", \"lakecolor\": \"white\", \"landcolor\": \"#E5ECF6\", \"showlakes\": true, \"showland\": true, \"subunitcolor\": \"white\"}, \"hoverlabel\": {\"align\": \"left\"}, \"hovermode\": \"closest\", \"mapbox\": {\"style\": \"light\"}, \"paper_bgcolor\": \"white\", \"plot_bgcolor\": \"#E5ECF6\", \"polar\": {\"angularaxis\": {\"gridcolor\": \"white\", \"linecolor\": \"white\", \"ticks\": \"\"}, \"bgcolor\": \"#E5ECF6\", \"radialaxis\": {\"gridcolor\": \"white\", \"linecolor\": \"white\", \"ticks\": \"\"}}, \"scene\": {\"xaxis\": {\"backgroundcolor\": \"#E5ECF6\", \"gridcolor\": \"white\", \"gridwidth\": 2, \"linecolor\": \"white\", \"showbackground\": true, \"ticks\": \"\", \"zerolinecolor\": \"white\"}, \"yaxis\": {\"backgroundcolor\": \"#E5ECF6\", \"gridcolor\": \"white\", \"gridwidth\": 2, \"linecolor\": \"white\", \"showbackground\": true, \"ticks\": \"\", \"zerolinecolor\": \"white\"}, \"zaxis\": {\"backgroundcolor\": \"#E5ECF6\", \"gridcolor\": \"white\", \"gridwidth\": 2, \"linecolor\": \"white\", \"showbackground\": true, \"ticks\": \"\", \"zerolinecolor\": \"white\"}}, \"shapedefaults\": {\"line\": {\"color\": \"#2a3f5f\"}}, \"ternary\": {\"aaxis\": {\"gridcolor\": \"white\", \"linecolor\": \"white\", \"ticks\": \"\"}, \"baxis\": {\"gridcolor\": \"white\", \"linecolor\": \"white\", \"ticks\": \"\"}, \"bgcolor\": \"#E5ECF6\", \"caxis\": {\"gridcolor\": \"white\", \"linecolor\": \"white\", \"ticks\": \"\"}}, \"title\": {\"x\": 0.05}, \"xaxis\": {\"automargin\": true, \"gridcolor\": \"white\", \"linecolor\": \"white\", \"ticks\": \"\", \"zerolinecolor\": \"white\", \"zerolinewidth\": 2}, \"yaxis\": {\"automargin\": true, \"gridcolor\": \"white\", \"linecolor\": \"white\", \"ticks\": \"\", \"zerolinecolor\": \"white\", \"zerolinewidth\": 2}}}, \"xaxis\": {\"anchor\": \"y\", \"domain\": [0.0, 0.98], \"title\": {\"text\": \"n_docs\"}}, \"yaxis\": {\"anchor\": \"x\", \"domain\": [0.0, 1.0], \"title\": {\"text\": \"len in bytes\"}}},\n",
       "                        {\"responsive\": true}\n",
       "                    ).then(function(){\n",
       "                            \n",
       "var gd = document.getElementById('eaab2a1c-3668-4c33-9867-69abd1229d4e');\n",
       "var x = new MutationObserver(function (mutations, observer) {{\n",
       "        var display = window.getComputedStyle(gd).display;\n",
       "        if (!display || display === 'none') {{\n",
       "            console.log([gd, 'removed!']);\n",
       "            Plotly.purge(gd);\n",
       "            observer.disconnect();\n",
       "        }}\n",
       "}});\n",
       "\n",
       "// Listen for the removal of the full notebook cells\n",
       "var notebookContainer = gd.closest('#notebook-container');\n",
       "if (notebookContainer) {{\n",
       "    x.observe(notebookContainer, {childList: true});\n",
       "}}\n",
       "\n",
       "// Listen for the clearing of the current output cell\n",
       "var outputEl = gd.closest('.output');\n",
       "if (outputEl) {{\n",
       "    x.observe(outputEl, {childList: true});\n",
       "}}\n",
       "\n",
       "                        })\n",
       "                };\n",
       "                });\n",
       "            </script>\n",
       "        </div>"
      ]
     },
     "metadata": {},
     "output_type": "display_data"
    }
   ],
   "source": [
    "kek = dict()\n",
    "inf = open('bytelens.out', 'r')\n",
    "s = inf.readline()\n",
    "while len(s) > 0:\n",
    "    ln = int(s)\n",
    "    key = (ln // 10000) * 10000\n",
    "    if key not in kek:\n",
    "        kek[key] = 1\n",
    "    else:\n",
    "        kek[key] = kek[key] + 1\n",
    "    s = inf.readline()\n",
    "    \n",
    "df = pd.DataFrame()\n",
    "df[\"n_docs\"] = kek.keys()\n",
    "df[\"len in bytes\"] = kek.values()\n",
    "\n",
    "px.bar(df, x=\"n_docs\", y=\"len in bytes\")"
   ]
  },
  {
   "cell_type": "code",
   "execution_count": 106,
   "metadata": {},
   "outputs": [],
   "source": [
    "a = ' '.join(docs[7][2])\n",
    "b = !echo $a | /home/mikhail/mystem"
   ]
  },
  {
   "cell_type": "code",
   "execution_count": 91,
   "metadata": {},
   "outputs": [
    {
     "data": {
      "text/plain": [
       "'http://brest.linux.by/forum/index.php?action=vthread&forum=8&topic=126'"
      ]
     },
     "execution_count": 91,
     "metadata": {},
     "output_type": "execute_result"
    }
   ],
   "source": [
    "docs[7][1]"
   ]
  },
  {
   "cell_type": "code",
   "execution_count": 56,
   "metadata": {},
   "outputs": [
    {
     "data": {
      "text/plain": [
       "['abacaba ', 'caa']"
      ]
     },
     "execution_count": 56,
     "metadata": {},
     "output_type": "execute_result"
    }
   ],
   "source": [
    "s = 'abacaba http://krk.lol/arbidol caa'\n",
    "re.split('https?://.*\\\\W', s)"
   ]
  },
  {
   "cell_type": "code",
   "execution_count": 92,
   "metadata": {},
   "outputs": [
    {
     "data": {
      "text/plain": [
       "['Начало']"
      ]
     },
     "execution_count": 92,
     "metadata": {},
     "output_type": "execute_result"
    }
   ],
   "source": [
    "re.split('({|})', b[0])"
   ]
  },
  {
   "cell_type": "code",
   "execution_count": 93,
   "metadata": {},
   "outputs": [
    {
     "data": {
      "text/plain": [
       "'Начало'"
      ]
     },
     "execution_count": 93,
     "metadata": {},
     "output_type": "execute_result"
    }
   ],
   "source": [
    "b[0]"
   ]
  },
  {
   "cell_type": "code",
   "execution_count": 94,
   "metadata": {},
   "outputs": [
    {
     "data": {
      "text/plain": [
       "['Начало']"
      ]
     },
     "execution_count": 94,
     "metadata": {},
     "output_type": "execute_result"
    }
   ],
   "source": [
    "re.split('(^|}).*?{', b[0])"
   ]
  },
  {
   "cell_type": "code",
   "execution_count": 107,
   "metadata": {
    "scrolled": true
   },
   "outputs": [
    {
     "data": {
      "text/plain": [
       "['Начало{начало|начинать}Ответить{отвечать}Статистика{статистика|статистик}Регистрация{регистрация}Поиск{поиск}FAQ{FAQ??}Язык{язык}Аноним{аноним}thxburjuinrwz{thxburjuinrwz??}html{html??}html{html??}html{html??}html{html??}html{html??}html{html??}html{html??}Аноним{аноним}mziwj{mziwj??}html{html??}html{html??}html{html??}html{html??}html{html??}html{html??}html{html??}html{html??}Аноним{аноним}mziwj{mziwj??}']"
      ]
     },
     "execution_count": 107,
     "metadata": {},
     "output_type": "execute_result"
    }
   ],
   "source": [
    "b"
   ]
  },
  {
   "cell_type": "code",
   "execution_count": 117,
   "metadata": {},
   "outputs": [],
   "source": [
    "kek = re.split('{|}', b[0])\n",
    "kek1 = ''\n",
    "for i in range(1, len(kek), 2):\n",
    "    kek1 += re.split('\\|', kek[i])[0] + ' '"
   ]
  },
  {
   "cell_type": "code",
   "execution_count": 118,
   "metadata": {},
   "outputs": [
    {
     "data": {
      "text/plain": [
       "'начало отвечать статистика регистрация поиск FAQ?? язык аноним thxburjuinrwz?? html?? html?? html?? html?? html?? html?? html?? аноним mziwj?? html?? html?? html?? html?? html?? html?? html?? html?? аноним mziwj?? '"
      ]
     },
     "execution_count": 118,
     "metadata": {},
     "output_type": "execute_result"
    }
   ],
   "source": [
    "kek1"
   ]
  },
  {
   "cell_type": "code",
   "execution_count": 24,
   "metadata": {},
   "outputs": [
    {
     "data": {
      "text/plain": [
       "''"
      ]
     },
     "execution_count": 24,
     "metadata": {},
     "output_type": "execute_result"
    }
   ],
   "source": []
  },
  {
   "cell_type": "code",
   "execution_count": 27,
   "metadata": {},
   "outputs": [
    {
     "data": {
      "text/plain": [
       "{}"
      ]
     },
     "execution_count": 27,
     "metadata": {},
     "output_type": "execute_result"
    }
   ],
   "source": [
    "idfs"
   ]
  },
  {
   "cell_type": "code",
   "execution_count": 3,
   "metadata": {},
   "outputs": [
    {
     "name": "stdout",
     "output_type": "stream",
     "text": [
      "500\n",
      "500\n",
      "500\n",
      "500\n",
      "500\n",
      "500\n",
      "500\n",
      "500\n",
      "500\n",
      "500\n",
      "500\n",
      "500\n",
      "500\n",
      "500\n",
      "500\n",
      "500\n",
      "500\n",
      "500\n",
      "500\n",
      "500\n",
      "500\n",
      "500\n",
      "500\n",
      "500\n",
      "500\n",
      "500\n",
      "500\n",
      "500\n",
      "500\n",
      "500\n",
      "500\n",
      "500\n",
      "500\n",
      "500\n",
      "500\n",
      "500\n",
      "500\n",
      "500\n",
      "500\n",
      "500\n",
      "500\n",
      "500\n",
      "500\n",
      "500\n",
      "500\n",
      "500\n",
      "500\n",
      "500\n",
      "500\n",
      "500\n",
      "500\n",
      "500\n",
      "500\n",
      "500\n",
      "500\n",
      "500\n",
      "500\n",
      "500\n",
      "500\n",
      "500\n",
      "500\n",
      "500\n",
      "500\n",
      "500\n",
      "500\n",
      "500\n",
      "500\n",
      "500\n",
      "500\n",
      "500\n",
      "500\n",
      "500\n",
      "500\n",
      "500\n",
      "500\n",
      "500\n",
      "500\n",
      "500\n",
      "500\n",
      "500\n",
      "500\n",
      "500\n",
      "500\n",
      "500\n",
      "500\n",
      "500\n",
      "500\n",
      "500\n",
      "500\n",
      "500\n",
      "500\n",
      "500\n",
      "500\n",
      "500\n",
      "500\n",
      "500\n",
      "500\n",
      "500\n",
      "500\n",
      "500\n",
      "500\n",
      "500\n",
      "500\n",
      "500\n",
      "500\n",
      "500\n",
      "500\n",
      "500\n",
      "500\n",
      "500\n",
      "500\n",
      "500\n",
      "500\n",
      "500\n",
      "500\n",
      "500\n",
      "500\n",
      "500\n",
      "500\n",
      "500\n",
      "500\n",
      "500\n",
      "500\n",
      "500\n",
      "500\n",
      "500\n",
      "500\n",
      "500\n",
      "500\n",
      "500\n",
      "500\n",
      "500\n",
      "500\n",
      "500\n",
      "500\n",
      "500\n",
      "500\n",
      "500\n",
      "500\n",
      "500\n",
      "500\n",
      "500\n",
      "500\n",
      "500\n",
      "500\n",
      "500\n",
      "500\n",
      "500\n",
      "500\n",
      "500\n",
      "500\n",
      "500\n",
      "500\n",
      "500\n",
      "500\n",
      "500\n",
      "500\n",
      "500\n",
      "500\n",
      "500\n",
      "500\n",
      "500\n",
      "500\n",
      "500\n",
      "500\n",
      "500\n",
      "500\n",
      "500\n",
      "500\n",
      "500\n",
      "500\n",
      "500\n",
      "500\n",
      "500\n",
      "500\n",
      "500\n",
      "500\n",
      "500\n",
      "500\n",
      "500\n",
      "500\n",
      "500\n",
      "500\n",
      "500\n",
      "500\n",
      "500\n",
      "500\n",
      "500\n",
      "500\n",
      "500\n",
      "500\n",
      "500\n",
      "500\n",
      "500\n",
      "500\n",
      "500\n",
      "500\n",
      "500\n",
      "500\n",
      "500\n",
      "500\n",
      "500\n",
      "500\n",
      "500\n",
      "500\n",
      "500\n",
      "500\n",
      "500\n",
      "500\n",
      "500\n",
      "500\n",
      "500\n",
      "500\n",
      "500\n",
      "500\n",
      "500\n",
      "500\n",
      "500\n",
      "500\n",
      "500\n",
      "500\n",
      "500\n",
      "500\n",
      "500\n",
      "500\n",
      "500\n",
      "500\n",
      "500\n",
      "500\n",
      "500\n",
      "500\n",
      "500\n",
      "500\n",
      "500\n",
      "500\n",
      "500\n",
      "500\n",
      "500\n",
      "500\n",
      "500\n",
      "500\n",
      "500\n",
      "500\n",
      "500\n",
      "500\n",
      "500\n",
      "500\n",
      "500\n",
      "500\n",
      "500\n",
      "500\n",
      "500\n",
      "500\n",
      "500\n",
      "500\n",
      "500\n",
      "500\n",
      "500\n",
      "500\n",
      "500\n",
      "500\n",
      "500\n",
      "500\n",
      "500\n",
      "500\n",
      "500\n",
      "500\n",
      "500\n",
      "500\n",
      "500\n",
      "500\n",
      "500\n",
      "500\n",
      "500\n",
      "500\n",
      "500\n",
      "500\n",
      "500\n",
      "500\n",
      "500\n",
      "500\n",
      "500\n",
      "500\n",
      "500\n",
      "500\n",
      "500\n",
      "500\n",
      "500\n",
      "500\n",
      "500\n",
      "500\n",
      "500\n",
      "500\n",
      "500\n",
      "500\n",
      "500\n",
      "500\n",
      "500\n",
      "500\n",
      "500\n",
      "500\n",
      "500\n",
      "500\n",
      "500\n",
      "500\n",
      "500\n",
      "500\n",
      "500\n",
      "500\n",
      "500\n",
      "500\n",
      "500\n",
      "500\n",
      "500\n",
      "500\n",
      "500\n",
      "500\n",
      "500\n",
      "500\n",
      "500\n",
      "500\n",
      "500\n",
      "500\n",
      "500\n",
      "500\n",
      "500\n",
      "500\n",
      "500\n",
      "500\n",
      "500\n",
      "500\n",
      "500\n",
      "500\n",
      "500\n",
      "500\n",
      "500\n",
      "500\n",
      "500\n",
      "500\n",
      "500\n",
      "500\n",
      "500\n",
      "500\n",
      "500\n",
      "500\n",
      "500\n",
      "500\n",
      "500\n",
      "500\n",
      "500\n",
      "500\n",
      "500\n",
      "500\n",
      "500\n",
      "500\n",
      "500\n",
      "500\n",
      "500\n",
      "500\n",
      "500\n",
      "500\n",
      "500\n",
      "500\n",
      "500\n",
      "500\n",
      "500\n",
      "500\n",
      "500\n",
      "500\n",
      "500\n",
      "500\n",
      "500\n",
      "500\n",
      "500\n",
      "500\n",
      "500\n",
      "500\n",
      "500\n",
      "500\n",
      "500\n",
      "500\n",
      "500\n",
      "500\n",
      "500\n",
      "500\n",
      "500\n",
      "500\n",
      "500\n",
      "500\n",
      "500\n",
      "500\n",
      "500\n",
      "500\n",
      "500\n",
      "500\n",
      "500\n",
      "500\n",
      "500\n",
      "500\n"
     ]
    }
   ],
   "source": [
    "inf = open('docs.out', 'r')\n",
    "ouf = open('lemmas.out', 'w')\n",
    "s = inf.readline()\n",
    "ct = 0\n",
    "while len(s) > 0:\n",
    "#for i in range(10):\n",
    "    ct += 1\n",
    "    if ct > 500:\n",
    "        print('500')\n",
    "        ct = 0\n",
    "    word = s.split('\\t')[2]\n",
    "    words = word[1:len(word) - 1].split(\"', '\")\n",
    "    words[0] = words[0][1:]\n",
    "    words[-1] = words[-1][:-1]\n",
    "    ouf1 = open('tmp', 'w')\n",
    "    concat = ' '.join(words)\n",
    "    ouf1.write(concat)\n",
    "    ouf1.close()\n",
    "    lemmas = !cat tmp | /home/mikhail/mystem -lnd\n",
    "    ouf.write('{}\\n'.format(lemmas))\n",
    "    #print(lemmas)\n",
    "    \n",
    "    s = inf.readline()\n",
    "    \n",
    "ouf.close()\n",
    "    "
   ]
  },
  {
   "cell_type": "code",
   "execution_count": 35,
   "metadata": {},
   "outputs": [
    {
     "data": {
      "text/plain": [
       "['lol', ' ', 'кек', ' ', 'чебурек', '\\n']"
      ]
     },
     "execution_count": 35,
     "metadata": {},
     "output_type": "execute_result"
    }
   ],
   "source": [
    "ms.lemmatize('lol кек чебуреков')"
   ]
  },
  {
   "cell_type": "code",
   "execution_count": 116,
   "metadata": {
    "scrolled": false
   },
   "outputs": [
    {
     "name": "stdout",
     "output_type": "stream",
     "text": [
      "4\thttp://forum.linux.by/viewtopic.php?t=6497\tlinux by просмотр тема хотеть что бы аська сам переконекчиваться\r\n",
      "11\thttp://forum.linux.by/viewtopic.php?t=928\tlinux by просмотр тема помогать\r\n",
      "29\thttp://forum.linux.by/viewtopic.php?t=3739\tlinux by просмотр тема zyxel omni 56k plus usb как заставлять он работать\r\n",
      "31\thttp://forum.linux.by/viewtopic.php?t=2416\tlinux by просмотр тема обзор mandrake linux 10 community edition\r\n",
      "34\thttp://forum.linux.by/viewtopic.php?p=32833\tlinux by просмотр тема открытый занятие по unix часть продолжение\r\n",
      "47\thttp://forum.linux.by/viewtopic.php?p=55398&sid=6a4b28a076ba11dad80a5f53475a35fa\tlinux by просмотр тема быть ли кто опыт установка ncpi под wine\r\n",
      "54\thttp://brest.linux.by/forum/index.php?action=vthread&forum=8&topic=136&page=2\tфорум blug sfgwg начинать отвечать статистика регистрация поиск faq язык форум blug test sfgwg посл ответ сообщение аноним дата 25 мара 2007 20 27 57buy levitra buy levitra аноним дата 26 мара 2007 10 30 53 phentermine without prescription phentermine without prescription\r\n",
      "56\thttp://brest.linux.by/forum/index.php?action=vthread&forum=8&topic=126\tфорум blug airliner down in anti missile defense test начинать отвечать статистика регистрация поиск faq язык форум blug test airliner down in anti missile defense test 10 49 50 посл ответ сообщение аноним дата 12 янва 2007 00 11 14i rise off the seat a my sack contract and push stream of sperm out of my cock this time my orgasm be so powerful it snap my throat shut and could only make guttural groan a move she lower herself to the bottom and begin pulse her cunt around my cock spurt into her again and again each glob of jizz sending jolt through my body she put her hand around my neck pull our head closer a she lick and nibble the edge of my ear breathe heavily a my body begin to settle down she lean back and look anew car pricecar financingcar showcar for saleused car auto loancar loanauto loan tolko taks аноним дата 25 янва 2007 13 29 45ephedra аноним дата 25 янва 2007 13 41 29ephedra\r\n",
      "58\thttp://i18n.linux.by/forum/profile.php?mode=viewprofile&u=3&sid=2f3648f429313af080e08e2819651264\ti18n linux by прагляд профілю i18n linux byфорум суполкі перакладчыкаў gnu linux faq пошук карыстальнікі група рэгістрацыя профіль увайсці праверыць асабістыя паведамленні уваход спіс форумаў i18n linux by профіль карыстальніка booxter аватар аба карыстальніку booxter зарэгістраваны 16 09 2006 усяго паведамленняў 14 18 67 ад агульнага ліку 06 паведамленняў дзень знайсці ўсе паведамленні карыстальніка booxter адкуль сайт род заняткаў інтарэсы як звязацца booxter электронный адрас асабістае паведамленна jabber id booxter jabber org by gnupg перайсf\r\n",
      "73\thttp://forum.linux.by/viewforum.php?f=2&topicdays=0&start=1250&sid=b49b29372829a07d747307d3869cea95\tlinux by просмотр форум общий форум faq свод правило\r\n",
      "88\thttp://forum.polotsk.by/lofiversion/index.php/t31.html\tфорум на polotsk by wifi сетка помощь поиск пользователь календарь полный версия wifi сетка форум на polotsk by компьютер информационный технология сеть сеть страница j571 30 12 2006 14 хотеть спрашивать про wifi на мариненко сколько уже там дом комп подлючать сабираеться кто ибувать подлючаться на мариненко она speccyfan 31 12 2006 17 52 рассказывать кто курс как вообще дело обстоять сеть на мариненко bozo 10 2007 20 47 до мой дом простой сетка не доходить вообще знать кто нить какой сетка сетка располагать рядом бровка 51 ckie 11 2007 44 быть сеть райен василевец кто хотеть мочь подключаться greenkiller 13 2007 34 ну вроде мечта сетка на мариненко оживать сейчас подключаться дом на бровка 51 просить откликаться проживать дом бровка 49 вы следующий если кто то быть данные про такой человек даже если они пока не планировать подключаться просить откликаться bozo 14 2007 13 30 51 подключаться кто то пробовать уже звонить тот человек он сказать что необходимый кол во человек не набираться кто обращаться то насчет сетка бадек 14 2007 20 55 кто обращаться василевец ckie 20 2007 18 03 цитата бадек 14 2007 19 55 кто обращаться василевец ко я если кама надо то писать личка alex 20 2007 20 56 кросавый обжимкаб кб ckie 20 2007 23 42 цитата alex 20 2007 19 56 кросавый обжимкаб кб ки что ты это хочеша сказать вообщето так свитч между себя соединять linux 2007 23 36 цитата ckie 20 2007 17 03 ко я если кама надо то писать личка какой покрытие на данный момент простоквашино ckie 10 2007 14 45 какой скороть через сеть wi fi n0nam3 10 2007 14 50 цитата ckie 10 2007 13 45 какой скороть через сеть wi fi wi fi max 11 mbit secwi max max по стандарт 70 mbit secно все конечно зависеть от условие эксплуатация ckie 10 2007 20 08 цитата n0nam3 10 2007 13 50 wi fi max 11 mbit secwi max max по стандарт 70 mbit secно все конечно зависеть от условие эксплуатация 100 мбит так понимать не бывать или не правый n0nam3 10 2007 23 10 цитата ckie 10 2007 19 08 100 мбит так понимать не бывать или не правый пока нет или быть но это засекречивать разработка пентагон ckie 11 2007 23 57 цитата n0nam3 10 2007 22 10 пока нет или быть но это засекречивать разработка пентагон помойма быть такой сеть оборудование линк скорость они 108 мбит n0nam3 12 2007 16 цитата ckie 11 2007 22 57 помойма быть такой сеть оборудование линк скорость они 108 мбит wi fi не верить то более link ckie 12 2007 23 53 цитата n0nam3 11 2007 23 16 wi fi не верить то более link ну никс так написать сам пока еще не пробовать n0nam3 13 2007 58 цитата ckie 12 2007 22 53 ну никс так написать сам пока еще не пробовалмочь это теоретически возможный практически же она вряд ли разогнаться до такой скорость самый надежный проверять adeo 13 2007 16 27 цитата n0nam3 12 2007 23 58 мочь это теоретически возможный практически же она вряд ли разогнаться до такой скорость самый надежный проверять разгониться ток путь хороший антеннок расстояние до 300 метр весь пучок так на асус при внешний антенна до 18 dbi до 54 мбит видимость нужный между антеннок расстояние до км весь удовольствие около 300 убитый енот n0nam3 13 2007 20 44 цитата adeo 13 2007 15 27 разгониться ток путь хороший антеннок расстояние до 300 метр весь пучок так на асус при внешний антенна до 18 dbi до 54 мбит видимость нужный между антеннок расстояние до км весь удовольствие около 300 убитый енот не ты немного упускать там идти разговор 108 мегабит поэтому не вериться я adeo 14 2007 15 28 цитата n0nam3 13 2007 19 44 не ты немного упускать там идти разговор 108 мегабит поэтому не вериться я да конечно ну на 100 мбита точка зарабатывать ток если быть находиться прямой видимость на расстояние если не ошибаться до 100 метр линк жизнь такой скорость не давать ток если zyxel или асус если речь зайти делинка то брать 2100ар неплохой что самый главное дешевый вариант ну так по крайний мера советовать минский админ они хорошо себя зарекомендовать роутер не советовать ckie 16 2007 00 цитата adeo 14 2007 14 28 да конечно ну на 100 мбита точка зарабатывать ток если быть находиться прямой видимость на расстояние если не ошибаться до 100 метр линк жизнь такой скорость не давать ток если zyxel или асус если речь зайти делинка то брать 2100ар неплохой что самый главное дешевый вариант ну так по крайний мера советовать минский админ они хорошо себя зарекомендовать роутер не советовать кто такой роутор n0nam3\r\n",
      "92\thttp://forum.linux.by/viewtopic.php?t=6311\tlinux by просмотр тема журналист столичный телевидение переходить на linux\r\n",
      "103\thttp://www.proftransdor.by/social.html\tсоциальный партнерство об итог выполнение отраслевой тарифный соглашение между министерство транспорт коммуникация республика беларусь белорусский профессиональный союз работник транспорт дорожный хозяйство на 2006 2008 год состояние мера по развитие социальный партнерство коллегия министерство транспорт коммуникация республика беларусь 30 11 2006 год рассматривать вопрос об итог выполнение отраслевой тарифный соглашение между министерство транспорт коммуникация республика беларусь белорусский профессиональный союз работник транспорт дорожный хозяйство на 2006 2008 год состояние мера по развитие социальный партнерство отраслевой тарифный соглашение заключать учет положение генеральный го соглашение между правительство рес публика беларусь республиканский объе динение наниматель профсоюз на основание отраслевой тарифный со глашение во весь организация система минтранс заключать коллективный догово ры соглашение определять согласованный позиция сторона по основной направление регулирование социально трудовой отноша ний организация отрасль совместный действие по его реализация сторона проводиться систематический работа по следующий основной направля ниям стабилизация работа отраслевой орг низация оплата стимулирование труд до полнительный компенсация гарантия воз награждение работник охрана труд ре жим труд отдых обеспечение занятос ти итог работа министерство за 10 месить цев текущий год свидетельствовать об обес печение рост основной показатель соци ально экономический развитие по сравне нию прошлый год сохранение полагать тельный динамика складываться течение предыдущий пятилетка один из направление социально эконо мический развитие транспорт республь ке являться совершенствование оплата тереть да работник отрасль организация министерство устанавливать доводить задание по рост заработный плата осуществляться ежемесячный конт роль за его выполнение по итог работа за январь октябрь 2006 год номинальный среднемесячный заработа ная плата целое по министерство состави ла 610 тыс руб увеличиваться соответ ствующий период 2005 год на 28 про цент что позволять обеспечивать выполне ние установленный задание по рост зара ботна плата весь подотрасль на 105 процент тот число за октябрь 109 про цент за исключение организация промышленность 99 процент прочее ви дов деятельность 98 процент впервые за три год работа условие доводить задание по рост заработный плата органуть зация автомобильный транспорт обеспечь ли по итог работа за месяц 2006 год выполнение задание следовать констатировать тот факт что уро веня заработный плата по организация ава томобильный водный транспорт дорож ного хозяйство промышленность прев сила складываться целое по республика рост реальный заработный плата составлять 119 процент что также превышать уста новлять на 2006 год правительство за дание 107 108 процент при сохранение положительный тенденция стабилизация финансовый состояние орг низация отрасль прогнозироваться дальнейший повышение заработный плата обеспечение уровень установленный задание по итог год немаловажный значение отрасль прида ется вопрос своевременность выплата за работный плата налаживать действенный си стем контроль что позволять ужесточить требование руководитель организация по соблюдение они срок выплата заработа ной плата устанавливать коллективный договор отсутствие задолженность по заработный плата являться условие вып латы надбавка за сложность напряженность премия руководитель организация результат течение последний три год наниматель обеспечивать отсутствие задол женность по выплата заработный плата случай выплата заработный плата низко минимальный не устанавливать работа по охрана труд вестись минтран сом комплексно по различный направлень яма тот число по совершенствование взаимодействие наниматель профсоюз ных орган по осуществление законод тельство труд наниматель ежегодно принимать согнуть шение по охрана труд который определь ют конкретный сумма средство на мероприи тий по профилактика производственный травматизм профзаболевание улучшение условие труд санитарный бытовой обесп чение работник цель усиление контроль за соблюдень есть законодательство труд обеспечень есть работник средство индивидуальный защита спецобувь спецодежда исполь зование выделять средство на меропирать ятие по охрана труд создание здоровый безопасный условие труд республикан ском комитет белорусский профсоюз ра ботник транспорт дорожный хозяйство область вводить должность техничес ких инспектор по охрана труд система управление охрана труд организация отрасль предусматривать совма стный участие общественный инспекто ра профсоюз ежедневный контроль за со стояние охрана труд ежеквартально состояние охрана труд организация отрасль рассматриваться на коллегия министерство участие предста витель рк белорусский профсоюз работа ник транспорт дорожный хозяйство за нарушение законодательство труд правило инструкция по охрана труд что приводить случай производственный трава матизм со смертельный тяжелый исхо дом по организация минтранс расторгать нут контракт 30 должностной лицо 12 работник 89 объявлять выгово ры немаловажный значение придаваться вопро сам обеспечение занятость население со ответствие мероприятие государственный ныть программа занятость население рес публика беларусь на 2006 год организаци яха система минтранс трудоустроенный 1324 выпускник обучаться государственный ных учреждение образование 19 инвали дов создавать 536 рабочий место трудоуст ройство на они гражданин вместе то следовать отмечать что отдельный норма положение отраслевой тарифный соглашение коллективный договор организация подотрасль выполняться не полный объем оплата стимулирование труд раздел по итог работа за 10 месяц доводить задание по рост номинальный заработный плата выполнять 56 организация или 77 от их общий количество при это большой отставание от доводить уровень заработный плата допускать руп речицкий арза 80 руп белтрансснаб 82 оао борисовский арза 82 иметься отдельный организация крайне низкий уровень заработный плата оао таксомоторный трест брест 281 тыс руб за январь октябрь 2006 год оао лидатрансавто 259 тыс рубль охрана труд режим труд отдых раздел несмотря на то что текущий год работа по охрана труд вестись системно по различный направление состояние ус\r\n",
      "109\thttp://games.linux.by/history.html\tйзтщ рпд linux веъ ртпвмен убкф опчпуфй ултйоыпфщ жбкмщ лпофблфщ мйолй ъдтбчуфчхкф хчбцбенщк рпуефйфемша ьфпф убкф ртедобъобюео дмс фпзп юфпвщ рплбъбфш юфп linux ьфп ое фпмшлп уетчетобс уйуфенб оп фблц дпуфпкобс ъбнеоб windows лбл дмс ртпжеууйпобмшопзп рпмшъпчбфемс ртпзтбннйуфб уйуфенопзп бднйойуфтбфптба фбл дмс обюйобаэезп рпмшъпчбфемс\r\n",
      "110\thttp://forum.kupi.by/profile.php?mode=viewprofile&u=1787&sid=2ac518230cf85d759e9ff031a4e4b893\tфорум на www kupi by просмотр профиль форум на www kupi by faq поиск пользователь группа регистрация профиль входить проверять личный сообщение вход список форум форум на www kupi by профиль пользователь cello bag 595 аватара пользователь cello bag 595 зарегистрировать 05 01 2007 всего сообщение 00 от общий число 01 сообщение день находить весь сообщение пользователь cello bag 595 откуда airline shop com сайт\r\n",
      "118\thttp://www.alphatour.by/index.php?lang=rus&link=news&action=archive&category=0&start=5\tновость альфа тур eng компания подбор тур путеводитель агент контакт беларусь специальный предложение подбор тур каталог экскурсия памятка турист страховка виза латвия специальный предложение подбор тур каталог экскурсия памятка турист страховка виза греция специальный предложение подбор тур каталог экскурсия памятка турист страховка виза болгария специальный предложение подбор тур каталог экскурсия памятка турист страховка виза турция специальный предложение подбор тур каталог экскурсия памятка турист страховка виза египет специальный предложение подбор тур каталог экскурсия памятка турист страховка виза тайланд специальный предложение подбор тур каталог экскурсия памятка турист страховка виза польша специальный предложение подбор тур каталог экскурсия памятка турист страховка виза литва специальный предложение подбор тур каталог экскурсия памятка турист страховка виза новость архив 11 12 2006 проект закон внесение изменение дополнение закон республика беларусь туризм четко разграничивать понятие туроператор турагент об это сегодня на расширенный выездной заседание постоянный комиссия по охрана здоровье физический культура дело семья молодежь палата представитель национальный собрание беларусь сообщать заместитель председатель комиссия николай дубовик подробно 04 12 2006 список туристический достопримечательность полесье входить мозырьский родник об это сообщать вчера министерство спорт туризм сейчас под мозырь более 30 природный источник грунтовый вода подробно 30 11 2006 каталог тонкость продажа хороший настольный помошник турагенство подробно 30 11 2006 россиянин становиться мало отдыхать за граница количество иностранный турист путешествовать по россия напротив вырастать такой вывод содержаться анализ статистический данные по въездной выездной туризм за первый девять месяц 2006 год опубликовывать федеральный агентство по туризм подробно 28 11 2006 уважаемый дама господин реализация новогодний тур подходить завершение поторопиться кто еще не успевать для тот кто следовать визовый страна убедительно просить предоставлять документ для оформление виза так как начало декабрь большинство консульский служба уходить на каникулы подробно 28 11 2006 московский гостиница признавать самый дорогой мир это выясняться ход исследование проводить специализированный интернет сайт hotel com подробно 27 11 2006 россия выходить лидер по число турист на курорт красный море россия обгонять германия по число турист посещать египетский курорт на красный море об это интервью риа новость рассказывать губернатор провинция южный море египет генерал абу бакр ар рашиди подробно 24 11 2006 литовский сторона постараться находить возможность чтобы облегчать белорус въезд стра\r\n",
      "120\thttp://forum.linux.by/profile.php?mode=viewprofile&u=981&sid=57653dc32725eb339083aba66766adca\tlinux by просмотр профиль\r\n",
      "124\thttp://forum.polotsk.by/lofiversion/index.php/t1228.html\tфорум на polotsk by день рождение xxfantassstikaxx помощь поиск пользователь календарь полный версия день рождение xxfantassstikaxx форум на polotsk by человеческий взаимоотношение семья дом поздравление bottle 17 2007 02 день рождение xxfantassstikaxx форум polotsk by лицо администрация от имя весь пользователь поздравлять вы день рождение желать все хороший чтобы можно быть выбирать хороший ну конечно научаться хорошо фотографировать получать за это золотой медаль diller 17 2007 12 06 начит так поздравлять день рождение желать счастие личный жизнь пух весь весь много много muerte 17 2007 20 00 день рождение amiga это текстовой версия только основной контент для просмотр полный версия этот страница пожалуйста нажимать сюда русский версия invision power board 2001 2007 invision power service inc\r\n",
      "133\thttp://forum.polotsk.by/index.php?showtopic=209\tдевушка друг когда форум на polotsk by\r\n",
      "135\thttp://forum.polotsk.by/index.php?showtopic=185&mode=threaded\tновый кино форум на polotsk by\r\n"
     ]
    }
   ],
   "source": [
    "!head lemmas.out -n 20"
   ]
  },
  {
   "cell_type": "code",
   "execution_count": 55,
   "metadata": {},
   "outputs": [],
   "source": [
    "a = \"мама мыла раму\"\n",
    "lemmas = !echo $a | /home/mikhail/mystem -lnd"
   ]
  },
  {
   "cell_type": "code",
   "execution_count": 56,
   "metadata": {},
   "outputs": [
    {
     "data": {
      "text/plain": [
       "['мама', 'мыть', 'рама']"
      ]
     },
     "execution_count": 56,
     "metadata": {},
     "output_type": "execute_result"
    }
   ],
   "source": [
    "lemmas"
   ]
  },
  {
   "cell_type": "code",
   "execution_count": 28,
   "metadata": {},
   "outputs": [],
   "source": [
    "!head wordlens.out -n 3683"
   ]
  },
  {
   "cell_type": "code",
   "execution_count": 24,
   "metadata": {},
   "outputs": [
    {
     "data": {
      "text/plain": [
       "'cbc'"
      ]
     },
     "execution_count": 24,
     "metadata": {},
     "output_type": "execute_result"
    }
   ],
   "source": [
    "re.sub('a', 'b', 'cac', flags=re.DOTALL)"
   ]
  },
  {
   "cell_type": "code",
   "execution_count": 37,
   "metadata": {},
   "outputs": [
    {
     "data": {
      "text/plain": [
       "'оплата карта Visa MasterCard мтс абонент главный карта сайт поиск bel оплата карта Visa MasterCard центр обслуживание абонент мтс УП иностранный банк москва минск АСБ беларусбанк оао белвнешэкономбанк оао белпромстройбанк оао приорбанк оао белинвестбанк оао технобанк зао межторгбанк зао трастбанк зао белсвиссбанк зао минский транзитный банк оао паритетбанк оплата карта система белкарт банкомат оплата карта система нефтекарт банкомат абонент как платить оплата банковский карта оплата карта Visa MasterCard оплата карта Visa MasterCard центр обслуживание абонент мтс УП иностранный банк москва минск АСБ беларусбанк оао белвнешэкономбанк оао белпромстройбанк оао белинвестбанк приорбанк оао оао технобанк зао белсвиссбанк зао трастбанк зао межторгбанк зао минский транзитный банк оао паритетбанк узнавать тариф на GPRS роуминг узнавать как совершать международный звонок добавлять услуга по SMS высказывать свой мнение работа сеть мтс узнавать новый тариф на международный роуминг входить интернет помощник бесплатно отправлять SMS сообщение правило пользование сайт обратный связь вакансия форум 2007 сооо мобильный телесистема весь право защищать\\n'"
      ]
     },
     "execution_count": 37,
     "metadata": {},
     "output_type": "execute_result"
    }
   ],
   "source": [
    "''.join(ms.lemmatize(' '.join(tokenize(soup1.get_text()))))"
   ]
  },
  {
   "cell_type": "code",
   "execution_count": 71,
   "metadata": {},
   "outputs": [],
   "source": [
    "wnl = WordNetLemmatizer()"
   ]
  },
  {
   "cell_type": "code",
   "execution_count": 111,
   "metadata": {},
   "outputs": [
    {
     "data": {
      "text/plain": [
       "['pigeon', 'be', 'жопой', 'run', 'at', 'the', 'valley']"
      ]
     },
     "execution_count": 111,
     "metadata": {},
     "output_type": "execute_result"
    }
   ],
   "source": [
    "txt = 'Pigeons are жопой running aT tHe valleys\\n'\n",
    "[wnl.lemmatize(i,j[0].lower()) if j[0].lower() in ['a','n','v'] else wnl.lemmatize(i) for i,j in pos_tag(list(map(lambda x: x.lower(), word_tokenize(txt))))]"
   ]
  },
  {
   "cell_type": "code",
   "execution_count": 120,
   "metadata": {},
   "outputs": [
    {
     "name": "stdout",
     "output_type": "stream",
     "text": [
      "Collecting urlparse\n",
      "  ERROR: Could not find a version that satisfies the requirement urlparse (from versions: none)\n",
      "ERROR: No matching distribution found for urlparse\n"
     ]
    }
   ],
   "source": [
    "!pip3 install urlparse"
   ]
  },
  {
   "cell_type": "code",
   "execution_count": 101,
   "metadata": {},
   "outputs": [
    {
     "data": {
      "text/plain": [
       "['pigeons', 'are', 'running', 'at', 'the', 'valleys']"
      ]
     },
     "execution_count": 101,
     "metadata": {},
     "output_type": "execute_result"
    }
   ],
   "source": []
  },
  {
   "cell_type": "code",
   "execution_count": 97,
   "metadata": {},
   "outputs": [
    {
     "data": {
      "text/plain": [
       "['пощук', ' ', 'вібраваць', ' ', 'чирик', '\\n']"
      ]
     },
     "execution_count": 97,
     "metadata": {},
     "output_type": "execute_result"
    }
   ],
   "source": [
    "mystem.lemmatize('пощуком вібраваць чириком')"
   ]
  },
  {
   "cell_type": "code",
   "execution_count": 90,
   "metadata": {},
   "outputs": [
    {
     "data": {
      "text/plain": [
       "['перапаўненню']"
      ]
     },
     "execution_count": 90,
     "metadata": {},
     "output_type": "execute_result"
    }
   ],
   "source": [
    "re.split('\\W', 'перапаўненню')"
   ]
  },
  {
   "cell_type": "code",
   "execution_count": 99,
   "metadata": {},
   "outputs": [
    {
     "data": {
      "text/plain": [
       "'kek'"
      ]
     },
     "execution_count": 99,
     "metadata": {},
     "output_type": "execute_result"
    }
   ],
   "source": [
    "'KEK'.lower()"
   ]
  },
  {
   "cell_type": "code",
   "execution_count": 127,
   "metadata": {},
   "outputs": [
    {
     "data": {
      "application/vnd.jupyter.widget-view+json": {
       "model_id": "4d48c04de9ad43aaa9bdfcdc479c13dd",
       "version_major": 2,
       "version_minor": 0
      },
      "text/html": [
       "<p>Failed to display Jupyter Widget of type <code>HBox</code>.</p>\n",
       "<p>\n",
       "  If you're reading this message in the Jupyter Notebook or JupyterLab Notebook, it may mean\n",
       "  that the widgets JavaScript is still loading. If this message persists, it\n",
       "  likely means that the widgets JavaScript library is either not installed or\n",
       "  not enabled. See the <a href=\"https://ipywidgets.readthedocs.io/en/stable/user_install.html\">Jupyter\n",
       "  Widgets Documentation</a> for setup instructions.\n",
       "</p>\n",
       "<p>\n",
       "  If you're reading this message in another frontend (for example, a static\n",
       "  rendering on GitHub or <a href=\"https://nbviewer.jupyter.org/\">NBViewer</a>),\n",
       "  it may mean that your frontend doesn't currently support widgets.\n",
       "</p>\n"
      ],
      "text/plain": [
       "HBox(children=(IntProgress(value=1, bar_style='info', max=1), HTML(value='')))"
      ]
     },
     "metadata": {},
     "output_type": "display_data"
    },
    {
     "data": {
      "application/vnd.jupyter.widget-view+json": {
       "model_id": "b8980f30f72f4c20ab125863c3116e8b",
       "version_major": 2,
       "version_minor": 0
      },
      "text/html": [
       "<p>Failed to display Jupyter Widget of type <code>HBox</code>.</p>\n",
       "<p>\n",
       "  If you're reading this message in the Jupyter Notebook or JupyterLab Notebook, it may mean\n",
       "  that the widgets JavaScript is still loading. If this message persists, it\n",
       "  likely means that the widgets JavaScript library is either not installed or\n",
       "  not enabled. See the <a href=\"https://ipywidgets.readthedocs.io/en/stable/user_install.html\">Jupyter\n",
       "  Widgets Documentation</a> for setup instructions.\n",
       "</p>\n",
       "<p>\n",
       "  If you're reading this message in another frontend (for example, a static\n",
       "  rendering on GitHub or <a href=\"https://nbviewer.jupyter.org/\">NBViewer</a>),\n",
       "  it may mean that your frontend doesn't currently support widgets.\n",
       "</p>\n"
      ],
      "text/plain": [
       "HBox(children=(IntProgress(value=0, max=20000), HTML(value='')))"
      ]
     },
     "metadata": {},
     "output_type": "display_data"
    },
    {
     "name": "stdout",
     "output_type": "stream",
     "text": [
      "\n"
     ]
    },
    {
     "data": {
      "application/vnd.jupyter.widget-view+json": {
       "model_id": "231c8ef910a64f6cb47fa26629534dd3",
       "version_major": 2,
       "version_minor": 0
      },
      "text/html": [
       "<p>Failed to display Jupyter Widget of type <code>HBox</code>.</p>\n",
       "<p>\n",
       "  If you're reading this message in the Jupyter Notebook or JupyterLab Notebook, it may mean\n",
       "  that the widgets JavaScript is still loading. If this message persists, it\n",
       "  likely means that the widgets JavaScript library is either not installed or\n",
       "  not enabled. See the <a href=\"https://ipywidgets.readthedocs.io/en/stable/user_install.html\">Jupyter\n",
       "  Widgets Documentation</a> for setup instructions.\n",
       "</p>\n",
       "<p>\n",
       "  If you're reading this message in another frontend (for example, a static\n",
       "  rendering on GitHub or <a href=\"https://nbviewer.jupyter.org/\">NBViewer</a>),\n",
       "  it may mean that your frontend doesn't currently support widgets.\n",
       "</p>\n"
      ],
      "text/plain": [
       "HBox(children=(IntProgress(value=1, bar_style='info', max=1), HTML(value='')))"
      ]
     },
     "metadata": {},
     "output_type": "display_data"
    },
    {
     "data": {
      "application/vnd.jupyter.widget-view+json": {
       "model_id": "ed8a1a36190e4a1db9a7934f03fc6a21",
       "version_major": 2,
       "version_minor": 0
      },
      "text/html": [
       "<p>Failed to display Jupyter Widget of type <code>HBox</code>.</p>\n",
       "<p>\n",
       "  If you're reading this message in the Jupyter Notebook or JupyterLab Notebook, it may mean\n",
       "  that the widgets JavaScript is still loading. If this message persists, it\n",
       "  likely means that the widgets JavaScript library is either not installed or\n",
       "  not enabled. See the <a href=\"https://ipywidgets.readthedocs.io/en/stable/user_install.html\">Jupyter\n",
       "  Widgets Documentation</a> for setup instructions.\n",
       "</p>\n",
       "<p>\n",
       "  If you're reading this message in another frontend (for example, a static\n",
       "  rendering on GitHub or <a href=\"https://nbviewer.jupyter.org/\">NBViewer</a>),\n",
       "  it may mean that your frontend doesn't currently support widgets.\n",
       "</p>\n"
      ],
      "text/plain": [
       "HBox(children=(IntProgress(value=0, max=20000), HTML(value='')))"
      ]
     },
     "metadata": {},
     "output_type": "display_data"
    },
    {
     "name": "stdout",
     "output_type": "stream",
     "text": [
      "\n"
     ]
    },
    {
     "data": {
      "application/vnd.jupyter.widget-view+json": {
       "model_id": "fb5fae283ebf410fa527cceeecc8cce1",
       "version_major": 2,
       "version_minor": 0
      },
      "text/html": [
       "<p>Failed to display Jupyter Widget of type <code>HBox</code>.</p>\n",
       "<p>\n",
       "  If you're reading this message in the Jupyter Notebook or JupyterLab Notebook, it may mean\n",
       "  that the widgets JavaScript is still loading. If this message persists, it\n",
       "  likely means that the widgets JavaScript library is either not installed or\n",
       "  not enabled. See the <a href=\"https://ipywidgets.readthedocs.io/en/stable/user_install.html\">Jupyter\n",
       "  Widgets Documentation</a> for setup instructions.\n",
       "</p>\n",
       "<p>\n",
       "  If you're reading this message in another frontend (for example, a static\n",
       "  rendering on GitHub or <a href=\"https://nbviewer.jupyter.org/\">NBViewer</a>),\n",
       "  it may mean that your frontend doesn't currently support widgets.\n",
       "</p>\n"
      ],
      "text/plain": [
       "HBox(children=(IntProgress(value=1, bar_style='info', max=1), HTML(value='')))"
      ]
     },
     "metadata": {},
     "output_type": "display_data"
    },
    {
     "data": {
      "application/vnd.jupyter.widget-view+json": {
       "model_id": "9d7804399ecb43a380a44021e0b6768c",
       "version_major": 2,
       "version_minor": 0
      },
      "text/html": [
       "<p>Failed to display Jupyter Widget of type <code>HBox</code>.</p>\n",
       "<p>\n",
       "  If you're reading this message in the Jupyter Notebook or JupyterLab Notebook, it may mean\n",
       "  that the widgets JavaScript is still loading. If this message persists, it\n",
       "  likely means that the widgets JavaScript library is either not installed or\n",
       "  not enabled. See the <a href=\"https://ipywidgets.readthedocs.io/en/stable/user_install.html\">Jupyter\n",
       "  Widgets Documentation</a> for setup instructions.\n",
       "</p>\n",
       "<p>\n",
       "  If you're reading this message in another frontend (for example, a static\n",
       "  rendering on GitHub or <a href=\"https://nbviewer.jupyter.org/\">NBViewer</a>),\n",
       "  it may mean that your frontend doesn't currently support widgets.\n",
       "</p>\n"
      ],
      "text/plain": [
       "HBox(children=(IntProgress(value=0, max=20000), HTML(value='')))"
      ]
     },
     "metadata": {},
     "output_type": "display_data"
    },
    {
     "name": "stdout",
     "output_type": "stream",
     "text": [
      "\n"
     ]
    },
    {
     "data": {
      "application/vnd.jupyter.widget-view+json": {
       "model_id": "3a5ba522936b470baaf1ffc6150057af",
       "version_major": 2,
       "version_minor": 0
      },
      "text/html": [
       "<p>Failed to display Jupyter Widget of type <code>HBox</code>.</p>\n",
       "<p>\n",
       "  If you're reading this message in the Jupyter Notebook or JupyterLab Notebook, it may mean\n",
       "  that the widgets JavaScript is still loading. If this message persists, it\n",
       "  likely means that the widgets JavaScript library is either not installed or\n",
       "  not enabled. See the <a href=\"https://ipywidgets.readthedocs.io/en/stable/user_install.html\">Jupyter\n",
       "  Widgets Documentation</a> for setup instructions.\n",
       "</p>\n",
       "<p>\n",
       "  If you're reading this message in another frontend (for example, a static\n",
       "  rendering on GitHub or <a href=\"https://nbviewer.jupyter.org/\">NBViewer</a>),\n",
       "  it may mean that your frontend doesn't currently support widgets.\n",
       "</p>\n"
      ],
      "text/plain": [
       "HBox(children=(IntProgress(value=1, bar_style='info', max=1), HTML(value='')))"
      ]
     },
     "metadata": {},
     "output_type": "display_data"
    },
    {
     "data": {
      "application/vnd.jupyter.widget-view+json": {
       "model_id": "96bc8c294f6543479bfdf13de03d57b1",
       "version_major": 2,
       "version_minor": 0
      },
      "text/html": [
       "<p>Failed to display Jupyter Widget of type <code>HBox</code>.</p>\n",
       "<p>\n",
       "  If you're reading this message in the Jupyter Notebook or JupyterLab Notebook, it may mean\n",
       "  that the widgets JavaScript is still loading. If this message persists, it\n",
       "  likely means that the widgets JavaScript library is either not installed or\n",
       "  not enabled. See the <a href=\"https://ipywidgets.readthedocs.io/en/stable/user_install.html\">Jupyter\n",
       "  Widgets Documentation</a> for setup instructions.\n",
       "</p>\n",
       "<p>\n",
       "  If you're reading this message in another frontend (for example, a static\n",
       "  rendering on GitHub or <a href=\"https://nbviewer.jupyter.org/\">NBViewer</a>),\n",
       "  it may mean that your frontend doesn't currently support widgets.\n",
       "</p>\n"
      ],
      "text/plain": [
       "HBox(children=(IntProgress(value=0, max=20000), HTML(value='')))"
      ]
     },
     "metadata": {},
     "output_type": "display_data"
    },
    {
     "name": "stdout",
     "output_type": "stream",
     "text": [
      "\n"
     ]
    },
    {
     "data": {
      "application/vnd.jupyter.widget-view+json": {
       "model_id": "6200945e5ebd4a96b5d6685f6ce9be2e",
       "version_major": 2,
       "version_minor": 0
      },
      "text/html": [
       "<p>Failed to display Jupyter Widget of type <code>HBox</code>.</p>\n",
       "<p>\n",
       "  If you're reading this message in the Jupyter Notebook or JupyterLab Notebook, it may mean\n",
       "  that the widgets JavaScript is still loading. If this message persists, it\n",
       "  likely means that the widgets JavaScript library is either not installed or\n",
       "  not enabled. See the <a href=\"https://ipywidgets.readthedocs.io/en/stable/user_install.html\">Jupyter\n",
       "  Widgets Documentation</a> for setup instructions.\n",
       "</p>\n",
       "<p>\n",
       "  If you're reading this message in another frontend (for example, a static\n",
       "  rendering on GitHub or <a href=\"https://nbviewer.jupyter.org/\">NBViewer</a>),\n",
       "  it may mean that your frontend doesn't currently support widgets.\n",
       "</p>\n"
      ],
      "text/plain": [
       "HBox(children=(IntProgress(value=1, bar_style='info', max=1), HTML(value='')))"
      ]
     },
     "metadata": {},
     "output_type": "display_data"
    },
    {
     "data": {
      "application/vnd.jupyter.widget-view+json": {
       "model_id": "826c6f7f90ce4ad0b60a1308fca47a37",
       "version_major": 2,
       "version_minor": 0
      },
      "text/html": [
       "<p>Failed to display Jupyter Widget of type <code>HBox</code>.</p>\n",
       "<p>\n",
       "  If you're reading this message in the Jupyter Notebook or JupyterLab Notebook, it may mean\n",
       "  that the widgets JavaScript is still loading. If this message persists, it\n",
       "  likely means that the widgets JavaScript library is either not installed or\n",
       "  not enabled. See the <a href=\"https://ipywidgets.readthedocs.io/en/stable/user_install.html\">Jupyter\n",
       "  Widgets Documentation</a> for setup instructions.\n",
       "</p>\n",
       "<p>\n",
       "  If you're reading this message in another frontend (for example, a static\n",
       "  rendering on GitHub or <a href=\"https://nbviewer.jupyter.org/\">NBViewer</a>),\n",
       "  it may mean that your frontend doesn't currently support widgets.\n",
       "</p>\n"
      ],
      "text/plain": [
       "HBox(children=(IntProgress(value=0, max=20000), HTML(value='')))"
      ]
     },
     "metadata": {},
     "output_type": "display_data"
    },
    {
     "name": "stdout",
     "output_type": "stream",
     "text": [
      "\n"
     ]
    },
    {
     "ename": "ValueError",
     "evalue": "Invalid IPv6 URL",
     "output_type": "error",
     "traceback": [
      "\u001b[0;31m---------------------------------------------------------------------------\u001b[0m",
      "\u001b[0;31mValueError\u001b[0m                                Traceback (most recent call last)",
      "\u001b[0;32m<ipython-input-127-492243ebf8c1>\u001b[0m in \u001b[0;36m<module>\u001b[0;34m()\u001b[0m\n\u001b[1;32m     21\u001b[0m             \u001b[0;32mfor\u001b[0m \u001b[0mtag\u001b[0m \u001b[0;32min\u001b[0m \u001b[0msoup1\u001b[0m\u001b[0;34m(\u001b[0m\u001b[0;34m[\u001b[0m\u001b[0;34m'a'\u001b[0m\u001b[0;34m]\u001b[0m\u001b[0;34m)\u001b[0m\u001b[0;34m:\u001b[0m\u001b[0;34m\u001b[0m\u001b[0;34m\u001b[0m\u001b[0m\n\u001b[1;32m     22\u001b[0m                 \u001b[0;32mif\u001b[0m \u001b[0mtag\u001b[0m\u001b[0;34m.\u001b[0m\u001b[0mhas_attr\u001b[0m\u001b[0;34m(\u001b[0m\u001b[0;34m'href'\u001b[0m\u001b[0;34m)\u001b[0m\u001b[0;34m:\u001b[0m\u001b[0;34m\u001b[0m\u001b[0;34m\u001b[0m\u001b[0m\n\u001b[0;32m---> 23\u001b[0;31m                     \u001b[0murls\u001b[0m\u001b[0;34m.\u001b[0m\u001b[0mappend\u001b[0m\u001b[0;34m(\u001b[0m\u001b[0murljoin\u001b[0m\u001b[0;34m(\u001b[0m\u001b[0murl\u001b[0m\u001b[0;34m,\u001b[0m \u001b[0mtag\u001b[0m\u001b[0;34m[\u001b[0m\u001b[0;34m'href'\u001b[0m\u001b[0;34m]\u001b[0m\u001b[0;34m)\u001b[0m\u001b[0;34m)\u001b[0m\u001b[0;34m\u001b[0m\u001b[0;34m\u001b[0m\u001b[0m\n\u001b[0m\u001b[1;32m     24\u001b[0m \u001b[0;34m\u001b[0m\u001b[0m\n\u001b[1;32m     25\u001b[0m             \u001b[0murls\u001b[0m \u001b[0;34m=\u001b[0m \u001b[0;34m' '\u001b[0m\u001b[0;34m.\u001b[0m\u001b[0mjoin\u001b[0m\u001b[0;34m(\u001b[0m\u001b[0murls\u001b[0m\u001b[0;34m)\u001b[0m\u001b[0;34m\u001b[0m\u001b[0;34m\u001b[0m\u001b[0m\n",
      "\u001b[0;32m~/anaconda3/lib/python3.6/urllib/parse.py\u001b[0m in \u001b[0;36murljoin\u001b[0;34m(base, url, allow_fragments)\u001b[0m\n\u001b[1;32m    490\u001b[0m             \u001b[0murlparse\u001b[0m\u001b[0;34m(\u001b[0m\u001b[0mbase\u001b[0m\u001b[0;34m,\u001b[0m \u001b[0;34m''\u001b[0m\u001b[0;34m,\u001b[0m \u001b[0mallow_fragments\u001b[0m\u001b[0;34m)\u001b[0m\u001b[0;34m\u001b[0m\u001b[0;34m\u001b[0m\u001b[0m\n\u001b[1;32m    491\u001b[0m     \u001b[0mscheme\u001b[0m\u001b[0;34m,\u001b[0m \u001b[0mnetloc\u001b[0m\u001b[0;34m,\u001b[0m \u001b[0mpath\u001b[0m\u001b[0;34m,\u001b[0m \u001b[0mparams\u001b[0m\u001b[0;34m,\u001b[0m \u001b[0mquery\u001b[0m\u001b[0;34m,\u001b[0m \u001b[0mfragment\u001b[0m \u001b[0;34m=\u001b[0m\u001b[0;31m \u001b[0m\u001b[0;31m\\\u001b[0m\u001b[0;34m\u001b[0m\u001b[0;34m\u001b[0m\u001b[0m\n\u001b[0;32m--> 492\u001b[0;31m             \u001b[0murlparse\u001b[0m\u001b[0;34m(\u001b[0m\u001b[0murl\u001b[0m\u001b[0;34m,\u001b[0m \u001b[0mbscheme\u001b[0m\u001b[0;34m,\u001b[0m \u001b[0mallow_fragments\u001b[0m\u001b[0;34m)\u001b[0m\u001b[0;34m\u001b[0m\u001b[0;34m\u001b[0m\u001b[0m\n\u001b[0m\u001b[1;32m    493\u001b[0m \u001b[0;34m\u001b[0m\u001b[0m\n\u001b[1;32m    494\u001b[0m     \u001b[0;32mif\u001b[0m \u001b[0mscheme\u001b[0m \u001b[0;34m!=\u001b[0m \u001b[0mbscheme\u001b[0m \u001b[0;32mor\u001b[0m \u001b[0mscheme\u001b[0m \u001b[0;32mnot\u001b[0m \u001b[0;32min\u001b[0m \u001b[0muses_relative\u001b[0m\u001b[0;34m:\u001b[0m\u001b[0;34m\u001b[0m\u001b[0;34m\u001b[0m\u001b[0m\n",
      "\u001b[0;32m~/anaconda3/lib/python3.6/urllib/parse.py\u001b[0m in \u001b[0;36murlparse\u001b[0;34m(url, scheme, allow_fragments)\u001b[0m\n\u001b[1;32m    366\u001b[0m     (e.g. netloc is a single string) and we don't expand % escapes.\"\"\"\n\u001b[1;32m    367\u001b[0m     \u001b[0murl\u001b[0m\u001b[0;34m,\u001b[0m \u001b[0mscheme\u001b[0m\u001b[0;34m,\u001b[0m \u001b[0m_coerce_result\u001b[0m \u001b[0;34m=\u001b[0m \u001b[0m_coerce_args\u001b[0m\u001b[0;34m(\u001b[0m\u001b[0murl\u001b[0m\u001b[0;34m,\u001b[0m \u001b[0mscheme\u001b[0m\u001b[0;34m)\u001b[0m\u001b[0;34m\u001b[0m\u001b[0;34m\u001b[0m\u001b[0m\n\u001b[0;32m--> 368\u001b[0;31m     \u001b[0msplitresult\u001b[0m \u001b[0;34m=\u001b[0m \u001b[0murlsplit\u001b[0m\u001b[0;34m(\u001b[0m\u001b[0murl\u001b[0m\u001b[0;34m,\u001b[0m \u001b[0mscheme\u001b[0m\u001b[0;34m,\u001b[0m \u001b[0mallow_fragments\u001b[0m\u001b[0;34m)\u001b[0m\u001b[0;34m\u001b[0m\u001b[0;34m\u001b[0m\u001b[0m\n\u001b[0m\u001b[1;32m    369\u001b[0m     \u001b[0mscheme\u001b[0m\u001b[0;34m,\u001b[0m \u001b[0mnetloc\u001b[0m\u001b[0;34m,\u001b[0m \u001b[0murl\u001b[0m\u001b[0;34m,\u001b[0m \u001b[0mquery\u001b[0m\u001b[0;34m,\u001b[0m \u001b[0mfragment\u001b[0m \u001b[0;34m=\u001b[0m \u001b[0msplitresult\u001b[0m\u001b[0;34m\u001b[0m\u001b[0;34m\u001b[0m\u001b[0m\n\u001b[1;32m    370\u001b[0m     \u001b[0;32mif\u001b[0m \u001b[0mscheme\u001b[0m \u001b[0;32min\u001b[0m \u001b[0muses_params\u001b[0m \u001b[0;32mand\u001b[0m \u001b[0;34m';'\u001b[0m \u001b[0;32min\u001b[0m \u001b[0murl\u001b[0m\u001b[0;34m:\u001b[0m\u001b[0;34m\u001b[0m\u001b[0;34m\u001b[0m\u001b[0m\n",
      "\u001b[0;32m~/anaconda3/lib/python3.6/urllib/parse.py\u001b[0m in \u001b[0;36murlsplit\u001b[0;34m(url, scheme, allow_fragments)\u001b[0m\n\u001b[1;32m    416\u001b[0m                 if (('[' in netloc and ']' not in netloc) or\n\u001b[1;32m    417\u001b[0m                         (']' in netloc and '[' not in netloc)):\n\u001b[0;32m--> 418\u001b[0;31m                     \u001b[0;32mraise\u001b[0m \u001b[0mValueError\u001b[0m\u001b[0;34m(\u001b[0m\u001b[0;34m\"Invalid IPv6 URL\"\u001b[0m\u001b[0;34m)\u001b[0m\u001b[0;34m\u001b[0m\u001b[0;34m\u001b[0m\u001b[0m\n\u001b[0m\u001b[1;32m    419\u001b[0m             \u001b[0;32mif\u001b[0m \u001b[0mallow_fragments\u001b[0m \u001b[0;32mand\u001b[0m \u001b[0;34m'#'\u001b[0m \u001b[0;32min\u001b[0m \u001b[0murl\u001b[0m\u001b[0;34m:\u001b[0m\u001b[0;34m\u001b[0m\u001b[0;34m\u001b[0m\u001b[0m\n\u001b[1;32m    420\u001b[0m                 \u001b[0murl\u001b[0m\u001b[0;34m,\u001b[0m \u001b[0mfragment\u001b[0m \u001b[0;34m=\u001b[0m \u001b[0murl\u001b[0m\u001b[0;34m.\u001b[0m\u001b[0msplit\u001b[0m\u001b[0;34m(\u001b[0m\u001b[0;34m'#'\u001b[0m\u001b[0;34m,\u001b[0m \u001b[0;36m1\u001b[0m\u001b[0;34m)\u001b[0m\u001b[0;34m\u001b[0m\u001b[0;34m\u001b[0m\u001b[0m\n",
      "\u001b[0;31mValueError\u001b[0m: Invalid IPv6 URL"
     ]
    }
   ],
   "source": [
    "urls_f = open('urls.doc', 'w')\n",
    "\n",
    "freqs = dict()\n",
    "idfs = dict()\n",
    "\n",
    "for doc_id in range(10):\n",
    "    file_name = f'../byweb_for_course/byweb.{doc_id}.xml'\n",
    "    with open(file_name, 'r') as inf:\n",
    "        inf.readline()\n",
    "        for i in tqdm(range(20000)):\n",
    "            a = inf.readline()\n",
    "            b = inf.readline()\n",
    "            c = inf.readline()\n",
    "\n",
    "            docid = re.split('<.*?>', c)[1]\n",
    "            url = base64.b64decode(re.split('<.*?>', b)[1]).decode(\"cp1251\")\n",
    "            content = base64.b64decode(re.split('<.*?>', a)[2]).decode(\"cp1251\")\n",
    "            soup1 = bs4.BeautifulSoup(content, 'lxml')\n",
    "\n",
    "            urls = []\n",
    "            for tag in soup1(['a']):\n",
    "                if tag.has_attr('href'):\n",
    "                    try:\n",
    "                        urls.append(urljoin(url, tag['href']))\n",
    "                    except:\n",
    "                        print('oops: ', tag['href'])\n",
    "            \n",
    "            urls = ' '.join(urls)\n",
    "            \n",
    "            #a = []\n",
    "            #b = []\n",
    "            #for doc in soup1:\n",
    "            #    kek = text_from_doc(doc)\n",
    "            #    a += kek[0]\n",
    "            #    b += kek[1]\n",
    "\n",
    "            \n",
    "            \n",
    "            #jn = ' '.join(a)\n",
    "            #lemmas = !cat a | /home/mikhail/mystem\n",
    "            #lemmas = lemmas[0]\n",
    "            #tokens = re.split('{|}', lemmas)\n",
    "            #tokens1 = []\n",
    "            #for i in range(1, len(tokens), 2):\n",
    "            #    tokens1.append(re.split('\\|', tokens[i])[0])\n",
    "\n",
    "            #idf = dict()\n",
    "\n",
    "            #for t in tokens1:\n",
    "            #    idf[t] = 1\n",
    "            #    if t not in freqs:\n",
    "            #        freqs[t] = 1\n",
    "            #    else:\n",
    "            #        freqs[t] = freqs[t] + 1\n",
    "\n",
    "            #for k in idf.keys():\n",
    "            #    idfs[k] += idf[k]\n",
    "\n",
    "            \n",
    "            \n",
    "    \n",
    "            urls_f.write(f'{id}\\t{url}\\t{urls}\\n')\n",
    "            \n",
    "            #wordlen_f.write('{}\\n'.format(len(a)))\n",
    "            #bytelen_f.write('{}\\n'.format(len(soup1.get_text())))\n",
    "        \n",
    "urls_f.close()"
   ]
  },
  {
   "cell_type": "code",
   "execution_count": 128,
   "metadata": {},
   "outputs": [
    {
     "data": {
      "text/plain": [
       "[<a class=\"menu\" href=\"http://www.frisbee.by/index.php\"><font class=\"f12b\">Главная</font></a>,\n",
       " <a class=\"menu\" href=\"http://www.frisbee.by/manua1/\"><font class=\"f12b\">Учебник</font></a>,\n",
       " <a class=\"menu\" href=\"http://www.frisbee.by/tourn.php\"><font class=\"f12b\">Турниры</font></a>,\n",
       " <a class=\"menu\" href=\"http://www.frisbee.by/image.php\"><font class=\"f12b\">Фотогалерея</font></a>,\n",
       " <a class=\"menu\" href=\"http://www.frisbee.by/links.php\"><font class=\"f12b\">Ссылки</font></a>,\n",
       " <a class=\"menu\" href=\"http://www.frisbee.by/diary.php\"><font class=\"f12b\">Дневник</font></a>,\n",
       " <a class=\"menu\" href=\"http://www.frisbee.by/f/index.php\"><font class=\"f12b\">Форум</font></a>,\n",
       " <a class=\"menu\" href=\"http://www.frisbee.by/chat/index.php\"><font class=\"f12b\">Чат</font></a>,\n",
       " <a class=\"menu\" href=\"http://www.frisbee.by/players/\"><font class=\"f12b\">МЫ:)</font></a>,\n",
       " <a class=\"menu\" href=\"http://www.frisbee.by/brest07/\"><font class=\"f12b\" color=\"white\">БРЕСТ 2007</font></a>,\n",
       " <a href=\"image.php?album=lviv06&amp;allcom\"><font color=\"#cc0000\">29</font></a>,\n",
       " <a class=\"menu\" href=\"image.php?album=lviv06\">ОЧУ (Львов) 2006</a>,\n",
       " <a href=\"image.php?album=kiev06&amp;allcom\"><font color=\"#cc0000\">33</font></a>,\n",
       " <a class=\"menu\" href=\"image.php?album=kiev06\"><font color=\"blue\">Киевская шляпа 2006</font></a>,\n",
       " <a class=\"menu\" href=\"image.php?album=volgatropic06\">Волга-Тропик 2006</a>,\n",
       " <a class=\"menu\" href=\"image.php?album=bu06\">Брест без границ 2006</a>,\n",
       " <a class=\"menu\" href=\"image.php?album=zaraza06\">ZARAZA 2006</a>,\n",
       " <a class=\"menu\" href=\"image.php?album=brest0604\">Брест хэт 2006</a>,\n",
       " <a href=\"image.php?album=bu05&amp;allcom\"><font color=\"#cc0000\">6</font></a>,\n",
       " <a class=\"menu\" href=\"image.php?album=bu05\">Брест без границ 2005</a>,\n",
       " <a class=\"menu\" href=\"image.php?album=mfdf05\">МФЛД-II</a>,\n",
       " <a class=\"menu\" href=\"image.php?album=zaraza05_2\">more ZARAZA 2005</a>,\n",
       " <a href=\"image.php?album=zaraza05&amp;allcom\"><font color=\"#cc0000\">6</font></a>,\n",
       " <a class=\"menu\" href=\"image.php?album=zaraza05\">ZARAZA 2005</a>,\n",
       " <a href=\"image.php?album=kiek05&amp;allcom\"><font color=\"#cc0000\">7</font></a>,\n",
       " <a class=\"menu\" href=\"image.php?album=kiek05\">Kiek in de Kök 2005</a>,\n",
       " <a href=\"image.php?album=uf05&amp;allcom\"><font color=\"#cc0000\">1</font></a>,\n",
       " <a class=\"menu\" href=\"image.php?album=uf05\">UltiFreeze 2005</a>,\n",
       " <a href=\"image.php?album=ln05&amp;allcom\"><font color=\"#cc0000\">2</font></a>,\n",
       " <a class=\"menu\" href=\"image.php?album=ln05\">Лорд Новгород 2005</a>,\n",
       " <a href=\"image.php?album=brest0410&amp;allcom\"><font color=\"#cc0000\">1</font></a>,\n",
       " <a class=\"menu\" href=\"image.php?album=brest0410\">Поездка в Брест</a>,\n",
       " <a href=\"image.php?album=minsk04&amp;allcom\"><font color=\"#cc0000\">4</font></a>,\n",
       " <a class=\"menu\" href=\"image.php?album=minsk04\">Минский турнир</a>,\n",
       " <a class=\"menu\" href=\"image.php?album=project4\">Проект 4</a>,\n",
       " <a href=\"image.php?album=wugc04_2&amp;allcom\"><font color=\"#cc0000\">8</font></a>,\n",
       " <a class=\"menu\" href=\"image.php?album=wugc04_2\">WUGC 2004 2</a>,\n",
       " <a href=\"image.php?album=wugc04&amp;allcom\"><font color=\"#cc0000\">3</font></a>,\n",
       " <a class=\"menu\" href=\"image.php?album=wugc04\">WUGC 2004</a>,\n",
       " <a class=\"menu\" href=\"image.php?album=mff04\">МФФ 2004</a>,\n",
       " <a class=\"menu\" href=\"image.php?album=brest04_eh\">Брест 2004 (Е.Храмов)</a>,\n",
       " <a class=\"menu\" href=\"image.php?album=brest04\">Брест 2004</a>,\n",
       " <a class=\"menu\" href=\"image.php?album=ln04\">Лорд Новгород 2004</a>,\n",
       " <a class=\"menu\" href=\"image.php?album=snow3\">Snowtimate III</a>,\n",
       " <a class=\"menu\" href=\"image.php?album=snow2\">Snowtimate II</a>,\n",
       " <a class=\"menu\" href=\"image.php?album=uf04\">UltiFreeze 2004</a>,\n",
       " <a href=\"image.php?album=snow1&amp;allcom\"><font color=\"#cc0000\">1</font></a>,\n",
       " <a class=\"menu\" href=\"image.php?album=snow1\">Snowtimate</a>,\n",
       " <a class=\"menu\" href=\"image.php?album=piter03\">Питер 2003</a>,\n",
       " <a class=\"menu\" href=\"image.php?album=jb03\">Jurmalas Bite '03</a>,\n",
       " <a class=\"menu\" href=\"image.php?album=jb03dif\">Юрмала разные</a>,\n",
       " <a class=\"menu\" href=\"image.php?album=kiev06&amp;page=1\">UP</a>,\n",
       " <a href=\"image.php?album=kiev06&amp;img=DSCN7700.jpg\"><img src=\"photo/kiev06/tn_DSCN7700.jpg\" style=\"border: none\"/></a>,\n",
       " <a href=\"image.php?album=kiev06&amp;img=DSCN7706.jpg\"><img src=\"photo/kiev06/tn_DSCN7706.jpg\" style=\"border: none\"/></a>,\n",
       " <a href=\"http://parishilton.happyhost.org/porn-tape-paris-hilton-11.html\" target=\"_blank\">http://parishilton.happyhost.org/porn-tape-paris-hilton-11.html</a>,\n",
       " <a href=\"http://parishilton.happyhost.org/porn-tape-paris-hilton-11.html]porn\" target=\"_blank\">http://parishilton.happyhost.org/porn-tape-paris-hilton-11.html]porn</a>,\n",
       " <a href=\"http://parishilton.happyhost.org\" target=\"_blank\">http://parishilton.happyhost.org</a>,\n",
       " <a href=\"http://parishilton.happyhost.org]paris\" target=\"_blank\">http://parishilton.happyhost.org]paris</a>,\n",
       " <a href=\"http://parishilton.happyhost.org/porn-tape-paris-hilton-11.html\" target=\"_blank\">http://parishilton.happyhost.org/porn-tape-paris-hilton-11.html</a>,\n",
       " <a href=\"http://parishilton.happyhost.org/porn-tape-paris-hilton-11.html]porn\" target=\"_blank\">http://parishilton.happyhost.org/porn-tape-paris-hilton-11.html]porn</a>,\n",
       " <a href=\"http://parishilton.happyhost.org/nude-paris-hilton-10.html\" target=\"_blank\">http://parishilton.happyhost.org/nude-paris-hilton-10.html</a>,\n",
       " <a href=\"http://parishilton.happyhost.org/nude-paris-hilton-10.html]nude\" target=\"_blank\">http://parishilton.happyhost.org/nude-paris-hilton-10.html]nude</a>,\n",
       " <a href=\"http://parishilton.happyhost.org/sex-tape-paris-hilton-9.html\" target=\"_blank\">http://parishilton.happyhost.org/sex-tape-paris-hilton-9.html</a>,\n",
       " <a href=\"http://parishilton.happyhost.org/sex-tape-paris-hilton-9.html]sex\" target=\"_blank\">http://parishilton.happyhost.org/sex-tape-paris-hilton-9.html]sex</a>,\n",
       " <a href=\"http://parishilton.happyhost.org/paris-hilton-sex-video-2.html\" target=\"_blank\">http://parishilton.happyhost.org/paris-hilton-sex-video-2.html</a>,\n",
       " <a href=\"http://parishilton.happyhost.org/paris-hilton-sex-video-2.html]paris\" target=\"_blank\">http://parishilton.happyhost.org/paris-hilton-sex-video-2.html]paris</a>,\n",
       " <a href=\"http://parishilton.happyhost.org/sex-tape-paris-hilton-9.html\" target=\"_blank\">http://parishilton.happyhost.org/sex-tape-paris-hilton-9.html</a>,\n",
       " <a href=\"http://parishilton.happyhost.org/sex-tape-paris-hilton-9.html]sex\" target=\"_blank\">http://parishilton.happyhost.org/sex-tape-paris-hilton-9.html]sex</a>,\n",
       " <a href=\"http://parishilton.happyhost.org/paris-hilton-sex-video-2.html\" target=\"_blank\">http://parishilton.happyhost.org/paris-hilton-sex-video-2.html</a>,\n",
       " <a href=\"http://parishilton.happyhost.org/paris-hilton-sex-video-2.html]paris\" target=\"_blank\">http://parishilton.happyhost.org/paris-hilton-sex-video-2.html]paris</a>]"
      ]
     },
     "execution_count": 128,
     "metadata": {},
     "output_type": "execute_result"
    }
   ],
   "source": [
    "soup1(['a'])"
   ]
  },
  {
   "cell_type": "code",
   "execution_count": 142,
   "metadata": {},
   "outputs": [
    {
     "name": "stdout",
     "output_type": "stream",
     "text": [
      "oops:  http://parishilton.happyhost.org]paris\n"
     ]
    }
   ],
   "source": [
    "for tag in soup1(['a']):\n",
    "    if tag.has_attr('href'):\n",
    "        #print(url, tag['href'])\n",
    "        try:\n",
    "            urls.append(urljoin(url, tag['href']))\n",
    "        except:\n",
    "            print('oops: ', tag['href'])"
   ]
  },
  {
   "cell_type": "code",
   "execution_count": 140,
   "metadata": {},
   "outputs": [
    {
     "name": "stdout",
     "output_type": "stream",
     "text": [
      "oops:  http://parishilton.happyhost.org]paris\n"
     ]
    }
   ],
   "source": [
    "try:\n",
    "    urljoin(url, 'http://parishilton.happyhost.org]paris')\n",
    "except:\n",
    "    print('oops: ', 'http://parishilton.happyhost.org]paris')"
   ]
  },
  {
   "cell_type": "code",
   "execution_count": null,
   "metadata": {},
   "outputs": [],
   "source": []
  }
 ],
 "metadata": {
  "kernelspec": {
   "display_name": "Python 3",
   "language": "python",
   "name": "python3"
  },
  "language_info": {
   "codemirror_mode": {
    "name": "ipython",
    "version": 3
   },
   "file_extension": ".py",
   "mimetype": "text/x-python",
   "name": "python",
   "nbconvert_exporter": "python",
   "pygments_lexer": "ipython3",
   "version": "3.6.7"
  }
 },
 "nbformat": 4,
 "nbformat_minor": 2
}
