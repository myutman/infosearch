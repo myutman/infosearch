{
 "cells": [
  {
   "cell_type": "code",
   "execution_count": 1,
   "metadata": {},
   "outputs": [],
   "source": [
    "import bs4\n",
    "import base64\n",
    "import re\n",
    "import numpy as np\n",
    "import matplotlib.pyplot as plt\n",
    "import plotly.express as px\n",
    "import pandas as pd\n",
    "import os\n",
    "from tqdm import tqdm_notebook"
   ]
  },
  {
   "cell_type": "code",
   "execution_count": 2,
   "metadata": {},
   "outputs": [],
   "source": [
    "def tokenize(s):\n",
    "    #print(s)aq\n",
    "    s = ' '.join(re.split('https?://.*\\\\W', s))\n",
    "    return list(filter(lambda x: len(x) > 1, re.split('\\\\W', s)))"
   ]
  },
  {
   "cell_type": "code",
   "execution_count": 3,
   "metadata": {},
   "outputs": [],
   "source": [
    "def text_from_doc(doc):\n",
    "    words = []\n",
    "    links = []\n",
    "\n",
    "    if isinstance(doc, bs4.element.Comment):\n",
    "        pass\n",
    "    elif isinstance(doc, bs4.element.Tag):\n",
    "        if (doc.name != 'style' and doc.name != 'script'):\n",
    "            if (doc.name == 'a' or doc.name == 'link') and doc.has_attr('href'):\n",
    "                links.append(doc['href'])\n",
    "            for child in doc.contents:\n",
    "                child_words, child_links = text_from_doc(child)\n",
    "                words += child_words\n",
    "                links += child_links\n",
    "    else:\n",
    "        words += tokenize(doc)\n",
    "    return words, links"
   ]
  },
  {
   "cell_type": "code",
   "execution_count": 4,
   "metadata": {},
   "outputs": [],
   "source": [
    "def get_lemmas(words):\n",
    "    result = !echo {words} | /Users/xrater/Documents/mystem -lnd\n",
    "    return result"
   ]
  },
  {
   "cell_type": "code",
   "execution_count": 5,
   "metadata": {},
   "outputs": [],
   "source": [
    "files_directory = \"../byweb_for_course/\"\n",
    "files_in_dir = !(ls {files_directory} | grep byweb.0)\n",
    "\n",
    "documents = dict()\n",
    "documents_meta = dict()\n",
    "for file_name in files_in_dir:\n",
    "    data_file = open(os.path.join('../byweb_for_course/', file_name), 'r') \n",
    "    lines = data_file.readlines()\n",
    "    \n",
    "#    for i in tqdm_notebook(range(1, len(lines) - 1, 3)):\n",
    "    for i in range(1, 5, 3):\n",
    "        page = lines[i] + lines[i + 1] + lines[i + 2]\n",
    "        document = bs4.BeautifulSoup(page, \"lxml\")\n",
    "        docid = document.docid.contents[0]\n",
    "        url = base64.b64decode(document.docurl.contents[0]).decode(\"cp1251\")\n",
    "        content = base64.b64decode(document.content.contents[0]).decode(\"cp1251\")\n",
    "        page_data = bs4.BeautifulSoup(content, 'lxml')\n",
    "\n",
    "        documents[url] = page_data\n",
    "        documents_meta[url] = dict()\n",
    "        \n",
    "    data_file.close()"
   ]
  },
  {
   "cell_type": "code",
   "execution_count": 7,
   "metadata": {},
   "outputs": [
    {
     "data": {
      "application/vnd.jupyter.widget-view+json": {
       "model_id": "a6a9505f526248ef8cfe72aeb0a97bd3",
       "version_major": 2,
       "version_minor": 0
      },
      "text/plain": [
       "HBox(children=(IntProgress(value=0, max=2), HTML(value='')))"
      ]
     },
     "metadata": {},
     "output_type": "display_data"
    },
    {
     "name": "stdout",
     "output_type": "stream",
     "text": [
      "\n"
     ]
    }
   ],
   "source": [
    "all_links = dict()\n",
    "frequencies = dict()\n",
    "\n",
    "for url in tqdm_notebook(documents):\n",
    "    document = documents[url]\n",
    "    meta = documents_meta[url]\n",
    "\n",
    "    words, links = text_from_doc(document)\n",
    "    all_links[url] = links\n",
    "\n",
    "    meta[\"words_count\"] = len(words)\n",
    "    meta[\"text_size\"] = sum(list(map(len, words)))\n",
    "    lemmas = get_lemmas(words)\n",
    "        \n",
    "    for lemma in lemmas:\n",
    "        if lemma not in frequencies:\n",
    "            frequencies[lemma] = 0\n",
    "        frequencies[lemma] += 1"
   ]
  },
  {
   "cell_type": "code",
   "execution_count": 8,
   "metadata": {},
   "outputs": [
    {
     "data": {
      "text/plain": [
       "{'dictionary_size': 283,\n",
       " 'average_dictionary_word_len': 6.865724381625442,\n",
       " 'average_collection_word_len': 6.283898305084746}"
      ]
     },
     "execution_count": 8,
     "metadata": {},
     "output_type": "execute_result"
    }
   ],
   "source": [
    "results = dict()\n",
    "words = []\n",
    "words_number = 0\n",
    "summary_words_len = 0.0\n",
    "for word in frequencies:\n",
    "    words.append(word)\n",
    "    words_number += frequencies[word]\n",
    "    summary_words_len += frequencies[word] * len(word)\n",
    "results[\"dictionary_size\"] = len(words)\n",
    "results[\"average_dictionary_word_len\"] = np.average(list(map(len, words)))\n",
    "results[\"average_collection_word_len\"] = summary_words_len / words_number\n",
    "\n",
    "results"
   ]
  },
  {
   "cell_type": "code",
   "execution_count": 8,
   "metadata": {},
   "outputs": [
    {
     "ename": "NameError",
     "evalue": "name 'bytelens' is not defined",
     "output_type": "error",
     "traceback": [
      "\u001b[0;31m---------------------------------------------------------------------------\u001b[0m",
      "\u001b[0;31mNameError\u001b[0m                                 Traceback (most recent call last)",
      "\u001b[0;32m<ipython-input-8-4479e139aebb>\u001b[0m in \u001b[0;36m<module>\u001b[0;34m\u001b[0m\n\u001b[0;32m----> 1\u001b[0;31m \u001b[0mnp\u001b[0m\u001b[0;34m.\u001b[0m\u001b[0maverage\u001b[0m\u001b[0;34m(\u001b[0m\u001b[0mbytelens\u001b[0m\u001b[0;34m)\u001b[0m\u001b[0;34m\u001b[0m\u001b[0;34m\u001b[0m\u001b[0m\n\u001b[0m",
      "\u001b[0;31mNameError\u001b[0m: name 'bytelens' is not defined"
     ]
    }
   ],
   "source": [
    "np.average(bytelens)"
   ]
  },
  {
   "cell_type": "code",
   "execution_count": null,
   "metadata": {},
   "outputs": [],
   "source": [
    "np.average(wordlens)"
   ]
  },
  {
   "cell_type": "code",
   "execution_count": 123,
   "metadata": {},
   "outputs": [],
   "source": [
    "kek = dict()\n",
    "for ln in wordlens:\n",
    "    key = (ln // 100) * 100\n",
    "    if key not in kek:\n",
    "        kek[key] = 1\n",
    "    else:\n",
    "        kek[key] = kek[key] + 1"
   ]
  },
  {
   "cell_type": "code",
   "execution_count": 34,
   "metadata": {},
   "outputs": [
    {
     "ename": "AttributeError",
     "evalue": "'tuple' object has no attribute 'keys'",
     "output_type": "error",
     "traceback": [
      "\u001b[0;31m---------------------------------------------------------------------------\u001b[0m",
      "\u001b[0;31mAttributeError\u001b[0m                            Traceback (most recent call last)",
      "\u001b[0;32m<ipython-input-34-6678b86b2b60>\u001b[0m in \u001b[0;36m<module>\u001b[0;34m\u001b[0m\n\u001b[1;32m      1\u001b[0m \u001b[0mdf\u001b[0m \u001b[0;34m=\u001b[0m \u001b[0mpd\u001b[0m\u001b[0;34m.\u001b[0m\u001b[0mDataFrame\u001b[0m\u001b[0;34m(\u001b[0m\u001b[0;34m)\u001b[0m\u001b[0;34m\u001b[0m\u001b[0;34m\u001b[0m\u001b[0m\n\u001b[0;32m----> 2\u001b[0;31m \u001b[0mdf\u001b[0m\u001b[0;34m[\u001b[0m\u001b[0;34m\"keys\"\u001b[0m\u001b[0;34m]\u001b[0m \u001b[0;34m=\u001b[0m \u001b[0mkek\u001b[0m\u001b[0;34m.\u001b[0m\u001b[0mkeys\u001b[0m\u001b[0;34m(\u001b[0m\u001b[0;34m)\u001b[0m\u001b[0;34m\u001b[0m\u001b[0;34m\u001b[0m\u001b[0m\n\u001b[0m\u001b[1;32m      3\u001b[0m \u001b[0mdf\u001b[0m\u001b[0;34m[\u001b[0m\u001b[0;34m\"values\"\u001b[0m\u001b[0;34m]\u001b[0m \u001b[0;34m=\u001b[0m \u001b[0mkek\u001b[0m\u001b[0;34m.\u001b[0m\u001b[0mvalues\u001b[0m\u001b[0;34m(\u001b[0m\u001b[0;34m)\u001b[0m\u001b[0;34m\u001b[0m\u001b[0;34m\u001b[0m\u001b[0m\n\u001b[1;32m      4\u001b[0m \u001b[0;34m\u001b[0m\u001b[0m\n\u001b[1;32m      5\u001b[0m \u001b[0mpx\u001b[0m\u001b[0;34m.\u001b[0m\u001b[0mbar\u001b[0m\u001b[0;34m(\u001b[0m\u001b[0mdf\u001b[0m\u001b[0;34m,\u001b[0m \u001b[0mx\u001b[0m\u001b[0;34m=\u001b[0m\u001b[0;34m\"keys\"\u001b[0m\u001b[0;34m,\u001b[0m \u001b[0my\u001b[0m\u001b[0;34m=\u001b[0m\u001b[0;34m\"values\"\u001b[0m\u001b[0;34m)\u001b[0m\u001b[0;34m\u001b[0m\u001b[0;34m\u001b[0m\u001b[0m\n",
      "\u001b[0;31mAttributeError\u001b[0m: 'tuple' object has no attribute 'keys'"
     ]
    }
   ],
   "source": [
    "df = pd.DataFrame()\n",
    "df[\"keys\"] = kek.keys()\n",
    "df[\"values\"] = kek.values()\n",
    "\n",
    "px.bar(df, x=\"keys\", y=\"values\")"
   ]
  },
  {
   "cell_type": "code",
   "execution_count": 106,
   "metadata": {},
   "outputs": [],
   "source": [
    "a = ' '.join(docs[7][2])\n",
    "b = !echo $a | /home/mikhail/mystem"
   ]
  },
  {
   "cell_type": "code",
   "execution_count": 91,
   "metadata": {},
   "outputs": [
    {
     "data": {
      "text/plain": [
       "'http://brest.linux.by/forum/index.php?action=vthread&forum=8&topic=126'"
      ]
     },
     "execution_count": 91,
     "metadata": {},
     "output_type": "execute_result"
    }
   ],
   "source": [
    "docs[7][1]"
   ]
  },
  {
   "cell_type": "code",
   "execution_count": 56,
   "metadata": {},
   "outputs": [
    {
     "data": {
      "text/plain": [
       "['abacaba ', 'caa']"
      ]
     },
     "execution_count": 56,
     "metadata": {},
     "output_type": "execute_result"
    }
   ],
   "source": [
    "s = 'abacaba http://krk.lol/arbidol caa'\n",
    "re.split('https?://.*\\\\W', s)"
   ]
  },
  {
   "cell_type": "code",
   "execution_count": 92,
   "metadata": {},
   "outputs": [
    {
     "data": {
      "text/plain": [
       "['Начало']"
      ]
     },
     "execution_count": 92,
     "metadata": {},
     "output_type": "execute_result"
    }
   ],
   "source": [
    "re.split('({|})', b[0])"
   ]
  },
  {
   "cell_type": "code",
   "execution_count": 93,
   "metadata": {},
   "outputs": [
    {
     "data": {
      "text/plain": [
       "'Начало'"
      ]
     },
     "execution_count": 93,
     "metadata": {},
     "output_type": "execute_result"
    }
   ],
   "source": [
    "b[0]"
   ]
  },
  {
   "cell_type": "code",
   "execution_count": 94,
   "metadata": {},
   "outputs": [
    {
     "data": {
      "text/plain": [
       "['Начало']"
      ]
     },
     "execution_count": 94,
     "metadata": {},
     "output_type": "execute_result"
    }
   ],
   "source": [
    "re.split('(^|}).*?{', b[0])"
   ]
  },
  {
   "cell_type": "code",
   "execution_count": 107,
   "metadata": {
    "scrolled": true
   },
   "outputs": [
    {
     "data": {
      "text/plain": [
       "['Начало{начало|начинать}Ответить{отвечать}Статистика{статистика|статистик}Регистрация{регистрация}Поиск{поиск}FAQ{FAQ??}Язык{язык}Аноним{аноним}thxburjuinrwz{thxburjuinrwz??}html{html??}html{html??}html{html??}html{html??}html{html??}html{html??}html{html??}Аноним{аноним}mziwj{mziwj??}html{html??}html{html??}html{html??}html{html??}html{html??}html{html??}html{html??}html{html??}Аноним{аноним}mziwj{mziwj??}']"
      ]
     },
     "execution_count": 107,
     "metadata": {},
     "output_type": "execute_result"
    }
   ],
   "source": [
    "b"
   ]
  },
  {
   "cell_type": "code",
   "execution_count": 117,
   "metadata": {},
   "outputs": [],
   "source": [
    "kek = re.split('{|}', b[0])\n",
    "kek1 = ''\n",
    "for i in range(1, len(kek), 2):\n",
    "    kek1 += re.split('\\|', kek[i])[0] + ' '"
   ]
  },
  {
   "cell_type": "code",
   "execution_count": null,
   "metadata": {},
   "outputs": [],
   "source": [
    "kek1"
   ]
  },
  {
   "cell_type": "code",
   "execution_count": null,
   "metadata": {},
   "outputs": [],
   "source": []
  }
 ],
 "metadata": {
  "kernelspec": {
   "display_name": "Python 3",
   "language": "python",
   "name": "python3"
  },
  "language_info": {
   "codemirror_mode": {
    "name": "ipython",
    "version": 3
   },
   "file_extension": ".py",
   "mimetype": "text/x-python",
   "name": "python",
   "nbconvert_exporter": "python",
   "pygments_lexer": "ipython3",
   "version": "3.7.3"
  }
 },
 "nbformat": 4,
 "nbformat_minor": 2
}
